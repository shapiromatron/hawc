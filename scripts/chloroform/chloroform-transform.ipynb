{
 "cells": [
  {
   "cell_type": "code",
   "execution_count": 68,
   "metadata": {},
   "outputs": [],
   "source": [
    "from io import StringIO\n",
    "from pathlib import Path\n",
    "import json\n",
    "import pandas as pd"
   ]
  },
  {
   "cell_type": "code",
   "execution_count": 69,
   "metadata": {},
   "outputs": [],
   "source": [
    "def json_to_df(_json):\n",
    "    f = StringIO(_json)\n",
    "    return pd.read_json(f)"
   ]
  },
  {
   "cell_type": "code",
   "execution_count": 70,
   "metadata": {},
   "outputs": [],
   "source": [
    "studies_excel = pd.read_excel(\"data/chloroform-studies.xlsx\")\n",
    "original_ids = studies_excel[\"original_id\"].tolist()\n",
    "new_ids = studies_excel[\"new_id\"].tolist()\n",
    "\n",
    "fn = Path('data/raw/writes.json')\n",
    "writes = json.loads(fn.read_text())"
   ]
  },
  {
   "cell_type": "markdown",
   "metadata": {},
   "source": [
    "## Study"
   ]
  },
  {
   "cell_type": "code",
   "execution_count": 71,
   "metadata": {},
   "outputs": [],
   "source": [
    "# Only write non-created studies\n",
    "study_df = json_to_df(writes[\"study\"][\"study_study\"])\n",
    "study_ids = studies_excel[studies_excel[\"recreated\"] == False][\"original_id\"].tolist()\n",
    "study_df = study_df[study_df[\"reference_ptr_id\"].isin(study_ids)]\n",
    "# Replace old study ids with new study ids\n",
    "study_df[\"reference_ptr_id\"].replace(original_ids,new_ids,inplace=True)\n",
    "writes[\"study\"][\"study_study\"] = study_df.to_json()"
   ]
  },
  {
   "cell_type": "markdown",
   "metadata": {},
   "source": [
    "## Animal"
   ]
  },
  {
   "cell_type": "code",
   "execution_count": 72,
   "metadata": {},
   "outputs": [],
   "source": [
    "# Replace experiment study ids with new study ids\n",
    "experiment_df = json_to_df(writes[\"animal\"][\"animal_experiment\"])\n",
    "experiment_df[\"study_id\"].replace(original_ids,new_ids,inplace=True)\n",
    "writes[\"animal\"][\"animal_experiment\"] = experiment_df.to_json()"
   ]
  },
  {
   "cell_type": "markdown",
   "metadata": {},
   "source": [
    "## Risk of bias"
   ]
  },
  {
   "cell_type": "code",
   "execution_count": 73,
   "metadata": {},
   "outputs": [],
   "source": [
    "# Replace rob study ids with new study ids\n",
    "rob_df = json_to_df(writes[\"rob\"][\"riskofbias_riskofbias\"])\n",
    "rob_df[\"study_id\"].replace(original_ids,new_ids,inplace=True)\n",
    "writes[\"rob\"][\"riskofbias_riskofbias\"] = rob_df.to_json()"
   ]
  },
  {
   "cell_type": "markdown",
   "metadata": {},
   "source": [
    "## Save to file"
   ]
  },
  {
   "cell_type": "code",
   "execution_count": 74,
   "metadata": {},
   "outputs": [
    {
     "data": {
      "text/plain": [
       "1284049"
      ]
     },
     "execution_count": 74,
     "metadata": {},
     "output_type": "execute_result"
    }
   ],
   "source": [
    "# Save transformed data\n",
    "fn = Path('data/transformed/writes.json')\n",
    "fn.write_text(json.dumps(writes))"
   ]
  },
  {
   "cell_type": "code",
   "execution_count": null,
   "metadata": {},
   "outputs": [],
   "source": []
  }
 ],
 "metadata": {
  "kernelspec": {
   "display_name": "HAWC",
   "language": "python",
   "name": "hawc"
  },
  "language_info": {
   "codemirror_mode": {
    "name": "ipython",
    "version": 3
   },
   "file_extension": ".py",
   "mimetype": "text/x-python",
   "name": "python",
   "nbconvert_exporter": "python",
   "pygments_lexer": "ipython3",
   "version": "3.6.12"
  }
 },
 "nbformat": 4,
 "nbformat_minor": 4
}
