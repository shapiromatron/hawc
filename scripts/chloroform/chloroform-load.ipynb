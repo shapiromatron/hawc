{
 "cells": [
  {
   "cell_type": "code",
   "execution_count": 1,
   "metadata": {},
   "outputs": [],
   "source": [
    "import pandas as pd\n",
    "from io import StringIO\n",
    "import json\n",
    "from pathlib import Path\n",
    "from textwrap import dedent\n",
    "import numpy as np\n",
    "import psycopg2\n",
    "import psycopg2.extras as extras\n",
    "import pdb"
   ]
  },
  {
   "cell_type": "markdown",
   "metadata": {},
   "source": [
    "_Helper methods_"
   ]
  },
  {
   "cell_type": "code",
   "execution_count": 11,
   "metadata": {},
   "outputs": [],
   "source": [
    "def execute_values(conn, df, table):\n",
    "    \"\"\"\n",
    "    Using psycopg2.extras.execute_values() to insert the dataframe\n",
    "    \"\"\"\n",
    "    # Create a list of tupples from the dataframe values\n",
    "    tuples = [tuple(x) for x in df.to_numpy()]\n",
    "    # Comma-separated dataframe columns\n",
    "    cols = ','.join(list(df.columns))\n",
    "    # SQL quert to execute\n",
    "    query  = \"INSERT INTO %s(%s) VALUES %%s\" % (table, cols)\n",
    "    cursor = conn.cursor()\n",
    "    try:\n",
    "        extras.execute_values(cursor, query, tuples)\n",
    "        conn.commit()\n",
    "    except (Exception, psycopg2.DatabaseError) as error:\n",
    "        print(\"Error: %s\" % error)\n",
    "        conn.rollback()\n",
    "        cursor.close()\n",
    "        return 1\n",
    "    print(\"execute_values() done\")\n",
    "    cursor.close()"
   ]
  },
  {
   "cell_type": "code",
   "execution_count": 3,
   "metadata": {},
   "outputs": [],
   "source": [
    "def json_to_df(_json):\n",
    "    f = StringIO(_json)\n",
    "    return pd.read_json(f)"
   ]
  },
  {
   "cell_type": "markdown",
   "metadata": {},
   "source": [
    "# Start"
   ]
  },
  {
   "cell_type": "code",
   "execution_count": 4,
   "metadata": {},
   "outputs": [],
   "source": [
    "connection = psycopg2.connect(\"dbname=hawc user=hawc\")\n",
    "\n",
    "fn = Path('data/transformed/writes.json')\n",
    "writes = json.loads(fn.read_text())"
   ]
  },
  {
   "cell_type": "markdown",
   "metadata": {},
   "source": [
    "## Study"
   ]
  },
  {
   "cell_type": "code",
   "execution_count": 8,
   "metadata": {},
   "outputs": [
    {
     "name": "stdout",
     "output_type": "stream",
     "text": [
      "Error: duplicate key value violates unique constraint \"study_study_pkey\"\n",
      "DETAIL:  Key (reference_ptr_id)=(100864711) already exists.\n",
      "\n"
     ]
    },
    {
     "data": {
      "text/plain": [
       "1"
      ]
     },
     "execution_count": 8,
     "metadata": {},
     "output_type": "execute_result"
    }
   ],
   "source": [
    "_json = writes[\"study\"][\"study_study\"]\n",
    "df = json_to_df(_json)\n",
    "execute_values(connection, df, \"study_study\")"
   ]
  },
  {
   "cell_type": "markdown",
   "metadata": {},
   "source": [
    "## Animal"
   ]
  },
  {
   "cell_type": "code",
   "execution_count": 12,
   "metadata": {},
   "outputs": [
    {
     "name": "stdout",
     "output_type": "stream",
     "text": [
      "Error: duplicate key value violates unique constraint \"animal_experiment_pkey\"\n",
      "DETAIL:  Key (id)=(100500739) already exists.\n",
      "\n",
      "Error: integer out of range\n",
      "\n",
      "Error: duplicate key value violates unique constraint \"assessment_baseendpoint_pkey\"\n",
      "DETAIL:  Key (id)=(227913) already exists.\n",
      "\n",
      "Error: column \"noel\" of relation \"animal_endpoint\" does not exist\n",
      "LINE 1: ...t_ptr_id,animal_group_id,response_units,data_type,NOEL,LOEL,...\n",
      "                                                             ^\n",
      "\n",
      "Error: smallint out of range\n",
      "\n"
     ]
    }
   ],
   "source": [
    "animal_order = [\n",
    "    \"animal_experiment\",\n",
    "    \"animal_animalgroup\", #\"animal_animalgroup_parents\",\n",
    "    \"assessment_baseendpoint\",\n",
    "    \"animal_endpoint\",\n",
    "    \"animal_endpointgroup\"\n",
    "]\n",
    "if set(animal_order) != set(writes[\"animal\"].keys()):\n",
    "    raise Exception()\n",
    "\n",
    "for table in animal_order:\n",
    "    _json = writes[\"animal\"][table]\n",
    "    df = json_to_df(_json)\n",
    "    if \"created\" in df.columns:\n",
    "        df[\"created\"] = df[\"created\"].astype(\"datetime64[ms]\")\n",
    "    if \"last_updated\" in df.columns:\n",
    "        df[\"last_updated\"] = df[\"last_updated\"].astype(\"datetime64[ms]\")\n",
    "    execute_values(connection, df, table)"
   ]
  },
  {
   "cell_type": "code",
   "execution_count": null,
   "metadata": {},
   "outputs": [],
   "source": []
  }
 ],
 "metadata": {
  "kernelspec": {
   "display_name": "HAWC",
   "language": "python",
   "name": "hawc"
  },
  "language_info": {
   "codemirror_mode": {
    "name": "ipython",
    "version": 3
   },
   "file_extension": ".py",
   "mimetype": "text/x-python",
   "name": "python",
   "nbconvert_exporter": "python",
   "pygments_lexer": "ipython3",
   "version": "3.6.12"
  }
 },
 "nbformat": 4,
 "nbformat_minor": 4
}
