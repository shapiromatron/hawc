{
 "cells": [
  {
   "cell_type": "code",
   "execution_count": 55,
   "metadata": {},
   "outputs": [],
   "source": [
    "import pandas as pd\n",
    "import json\n",
    "from pathlib import Path\n",
    "from textwrap import dedent\n",
    "import psycopg2"
   ]
  },
  {
   "cell_type": "code",
   "execution_count": 56,
   "metadata": {},
   "outputs": [],
   "source": [
    "connection = psycopg2.connect(\"dbname=hawc user=hawc\")\n",
    "\n",
    "studies_excel = pd.read_excel(\"data/chloroform-studies.xlsx\")\n",
    "original_studies = studies_excel[\"original_id\"].tolist()\n",
    "writes = {}"
   ]
  },
  {
   "cell_type": "code",
   "execution_count": 57,
   "metadata": {},
   "outputs": [],
   "source": [
    "def simple_query(table, field_ids, field, *additional_fields):\n",
    "    str_field_ids = \", \".join([str(id) for id in field_ids])\n",
    "    \n",
    "    other_clauses = \"\"\n",
    "    for _field in additional_fields:\n",
    "        other_clauses += f'OR \"{_field}\" IN ({str_field_ids}) '\n",
    "\n",
    "    return dedent(\n",
    "        f\"\"\"\n",
    "        SELECT * FROM \"{table}\"\n",
    "        WHERE \"{field}\" IN ({str_field_ids}) {other_clauses}\n",
    "        \"\"\"\n",
    "    )"
   ]
  },
  {
   "cell_type": "markdown",
   "metadata": {},
   "source": [
    "## Study"
   ]
  },
  {
   "cell_type": "code",
   "execution_count": 58,
   "metadata": {},
   "outputs": [
    {
     "name": "stdout",
     "output_type": "stream",
     "text": [
      "Number of records: 19\n"
     ]
    },
    {
     "data": {
      "text/html": [
       "<div>\n",
       "<style scoped>\n",
       "    .dataframe tbody tr th:only-of-type {\n",
       "        vertical-align: middle;\n",
       "    }\n",
       "\n",
       "    .dataframe tbody tr th {\n",
       "        vertical-align: top;\n",
       "    }\n",
       "\n",
       "    .dataframe thead th {\n",
       "        text-align: right;\n",
       "    }\n",
       "</style>\n",
       "<table border=\"1\" class=\"dataframe\">\n",
       "  <thead>\n",
       "    <tr style=\"text-align: right;\">\n",
       "      <th></th>\n",
       "      <th>reference_ptr_id</th>\n",
       "      <th>short_citation</th>\n",
       "      <th>full_citation</th>\n",
       "      <th>coi_reported</th>\n",
       "      <th>coi_details</th>\n",
       "      <th>funding_source</th>\n",
       "      <th>summary</th>\n",
       "      <th>study_identifier</th>\n",
       "      <th>contact_author</th>\n",
       "      <th>ask_author</th>\n",
       "      <th>published</th>\n",
       "      <th>bioassay</th>\n",
       "      <th>epi</th>\n",
       "      <th>epi_meta</th>\n",
       "      <th>in_vitro</th>\n",
       "      <th>editable</th>\n",
       "    </tr>\n",
       "  </thead>\n",
       "  <tbody>\n",
       "    <tr>\n",
       "      <th>0</th>\n",
       "      <td>471401</td>\n",
       "      <td>Hoechst Aktiengesellschaft, 1990, 1069586</td>\n",
       "      <td>Baeder C and Hofmann T. Chloroform: Supplement...</td>\n",
       "      <td>6</td>\n",
       "      <td>The study was sponsored by Hoechst AG and Dow ...</td>\n",
       "      <td>The study was sponsored by Hoechst AG and Dow ...</td>\n",
       "      <td>&lt;p&gt;Dam body weight, dams with live fetuses, fe...</td>\n",
       "      <td>Hoechst Aktiengesellschaft, 1990</td>\n",
       "      <td>False</td>\n",
       "      <td></td>\n",
       "      <td>True</td>\n",
       "      <td>True</td>\n",
       "      <td>False</td>\n",
       "      <td>False</td>\n",
       "      <td>False</td>\n",
       "      <td>True</td>\n",
       "    </tr>\n",
       "  </tbody>\n",
       "</table>\n",
       "</div>"
      ],
      "text/plain": [
       "   reference_ptr_id                             short_citation  \\\n",
       "0            471401  Hoechst Aktiengesellschaft, 1990, 1069586   \n",
       "\n",
       "                                       full_citation  coi_reported  \\\n",
       "0  Baeder C and Hofmann T. Chloroform: Supplement...             6   \n",
       "\n",
       "                                         coi_details  \\\n",
       "0  The study was sponsored by Hoechst AG and Dow ...   \n",
       "\n",
       "                                      funding_source  \\\n",
       "0  The study was sponsored by Hoechst AG and Dow ...   \n",
       "\n",
       "                                             summary  \\\n",
       "0  <p>Dam body weight, dams with live fetuses, fe...   \n",
       "\n",
       "                   study_identifier  contact_author ask_author  published  \\\n",
       "0  Hoechst Aktiengesellschaft, 1990           False                  True   \n",
       "\n",
       "   bioassay    epi  epi_meta  in_vitro  editable  \n",
       "0      True  False     False     False      True  "
      ]
     },
     "execution_count": 58,
     "metadata": {},
     "output_type": "execute_result"
    }
   ],
   "source": [
    "# Study table\n",
    "query = simple_query(\"study_study\",original_studies,\"reference_ptr_id\")\n",
    "study_table = pd.read_sql_query(query, connection)\n",
    "print(f\"Number of records: {len(study_table)}\")\n",
    "study_table.head(1)"
   ]
  },
  {
   "cell_type": "code",
   "execution_count": 59,
   "metadata": {},
   "outputs": [],
   "source": [
    "# Add tables to dict\n",
    "writes[\"study\"] = {\n",
    "    \"study_study\": study_table.to_json(),\n",
    "}"
   ]
  },
  {
   "cell_type": "markdown",
   "metadata": {},
   "source": [
    "## Animal"
   ]
  },
  {
   "cell_type": "code",
   "execution_count": 60,
   "metadata": {},
   "outputs": [
    {
     "name": "stdout",
     "output_type": "stream",
     "text": [
      "Number of records: 10\n"
     ]
    },
    {
     "data": {
      "text/html": [
       "<div>\n",
       "<style scoped>\n",
       "    .dataframe tbody tr th:only-of-type {\n",
       "        vertical-align: middle;\n",
       "    }\n",
       "\n",
       "    .dataframe tbody tr th {\n",
       "        vertical-align: top;\n",
       "    }\n",
       "\n",
       "    .dataframe thead th {\n",
       "        text-align: right;\n",
       "    }\n",
       "</style>\n",
       "<table border=\"1\" class=\"dataframe\">\n",
       "  <thead>\n",
       "    <tr style=\"text-align: right;\">\n",
       "      <th></th>\n",
       "      <th>id</th>\n",
       "      <th>name</th>\n",
       "      <th>type</th>\n",
       "      <th>description</th>\n",
       "      <th>created</th>\n",
       "      <th>last_updated</th>\n",
       "      <th>study_id</th>\n",
       "      <th>cas</th>\n",
       "      <th>purity_available</th>\n",
       "      <th>purity</th>\n",
       "      <th>chemical</th>\n",
       "      <th>chemical_source</th>\n",
       "      <th>guideline_compliance</th>\n",
       "      <th>vehicle</th>\n",
       "      <th>purity_qualifier</th>\n",
       "      <th>has_multiple_generations</th>\n",
       "      <th>dtxsid_id</th>\n",
       "    </tr>\n",
       "  </thead>\n",
       "  <tbody>\n",
       "    <tr>\n",
       "      <th>0</th>\n",
       "      <td>100500739</td>\n",
       "      <td>2-Week Inhalation</td>\n",
       "      <td>St</td>\n",
       "      <td></td>\n",
       "      <td>2020-12-04 16:04:55.735909-05:00</td>\n",
       "      <td>2020-12-04 16:04:55.735936-05:00</td>\n",
       "      <td>101043904</td>\n",
       "      <td>67-66-3</td>\n",
       "      <td>False</td>\n",
       "      <td>NaN</td>\n",
       "      <td>Chloroform</td>\n",
       "      <td>not reported</td>\n",
       "      <td></td>\n",
       "      <td>air</td>\n",
       "      <td></td>\n",
       "      <td>False</td>\n",
       "      <td>DTXSID1020306</td>\n",
       "    </tr>\n",
       "  </tbody>\n",
       "</table>\n",
       "</div>"
      ],
      "text/plain": [
       "          id               name type description  \\\n",
       "0  100500739  2-Week Inhalation   St               \n",
       "\n",
       "                            created                      last_updated  \\\n",
       "0  2020-12-04 16:04:55.735909-05:00  2020-12-04 16:04:55.735936-05:00   \n",
       "\n",
       "    study_id      cas  purity_available  purity    chemical chemical_source  \\\n",
       "0  101043904  67-66-3             False     NaN  Chloroform    not reported   \n",
       "\n",
       "  guideline_compliance vehicle purity_qualifier  has_multiple_generations  \\\n",
       "0                          air                                      False   \n",
       "\n",
       "       dtxsid_id  \n",
       "0  DTXSID1020306  "
      ]
     },
     "execution_count": 60,
     "metadata": {},
     "output_type": "execute_result"
    }
   ],
   "source": [
    "# Experiment table\n",
    "query = simple_query(\"animal_experiment\",original_studies,\"study_id\")\n",
    "experiment_table = pd.read_sql_query(query, connection)\n",
    "print(f\"Number of records: {len(experiment_table)}\")\n",
    "experiment_table.head(1)"
   ]
  },
  {
   "cell_type": "code",
   "execution_count": 61,
   "metadata": {},
   "outputs": [
    {
     "name": "stdout",
     "output_type": "stream",
     "text": [
      "Number of records: 20\n"
     ]
    },
    {
     "data": {
      "text/html": [
       "<div>\n",
       "<style scoped>\n",
       "    .dataframe tbody tr th:only-of-type {\n",
       "        vertical-align: middle;\n",
       "    }\n",
       "\n",
       "    .dataframe tbody tr th {\n",
       "        vertical-align: top;\n",
       "    }\n",
       "\n",
       "    .dataframe thead th {\n",
       "        text-align: right;\n",
       "    }\n",
       "</style>\n",
       "<table border=\"1\" class=\"dataframe\">\n",
       "  <thead>\n",
       "    <tr style=\"text-align: right;\">\n",
       "      <th></th>\n",
       "      <th>id</th>\n",
       "      <th>experiment_id</th>\n",
       "      <th>name</th>\n",
       "      <th>species_id</th>\n",
       "      <th>strain_id</th>\n",
       "      <th>sex</th>\n",
       "      <th>siblings_id</th>\n",
       "      <th>created</th>\n",
       "      <th>last_updated</th>\n",
       "      <th>dosing_regime_id</th>\n",
       "      <th>generation</th>\n",
       "      <th>lifestage_assessed</th>\n",
       "      <th>lifestage_exposed</th>\n",
       "      <th>animal_source</th>\n",
       "      <th>comments</th>\n",
       "      <th>diet</th>\n",
       "    </tr>\n",
       "  </thead>\n",
       "  <tbody>\n",
       "    <tr>\n",
       "      <th>0</th>\n",
       "      <td>203169</td>\n",
       "      <td>201725</td>\n",
       "      <td>Wistar Rat (Fetuses)</td>\n",
       "      <td>1</td>\n",
       "      <td>3</td>\n",
       "      <td>C</td>\n",
       "      <td>None</td>\n",
       "      <td>2017-08-01 12:26:04.839703-04:00</td>\n",
       "      <td>2018-10-26 17:07:39.537774-04:00</td>\n",
       "      <td>202167</td>\n",
       "      <td>F1</td>\n",
       "      <td>Developmental</td>\n",
       "      <td>Developmental</td>\n",
       "      <td>HOE:WISKI(SPF71)</td>\n",
       "      <td>&lt;p&gt;Mature initially virginal Wistar rats from ...</td>\n",
       "      <td>Altromin 1310</td>\n",
       "    </tr>\n",
       "  </tbody>\n",
       "</table>\n",
       "</div>"
      ],
      "text/plain": [
       "       id  experiment_id                  name  species_id  strain_id sex  \\\n",
       "0  203169         201725  Wistar Rat (Fetuses)           1          3   C   \n",
       "\n",
       "  siblings_id                           created  \\\n",
       "0        None  2017-08-01 12:26:04.839703-04:00   \n",
       "\n",
       "                       last_updated  dosing_regime_id generation  \\\n",
       "0  2018-10-26 17:07:39.537774-04:00            202167         F1   \n",
       "\n",
       "  lifestage_assessed lifestage_exposed     animal_source  \\\n",
       "0      Developmental     Developmental  HOE:WISKI(SPF71)   \n",
       "\n",
       "                                            comments           diet  \n",
       "0  <p>Mature initially virginal Wistar rats from ...  Altromin 1310  "
      ]
     },
     "execution_count": 61,
     "metadata": {},
     "output_type": "execute_result"
    }
   ],
   "source": [
    "# Animal group table\n",
    "experiment_ids = experiment_table[\"id\"].tolist()\n",
    "query = simple_query(\"animal_animalgroup\",experiment_ids,\"experiment_id\")\n",
    "animal_group_table = pd.read_sql_query(query, connection)\n",
    "print(f\"Number of records: {len(animal_group_table)}\")\n",
    "animal_group_table.head(1)"
   ]
  },
  {
   "cell_type": "code",
   "execution_count": 62,
   "metadata": {},
   "outputs": [
    {
     "name": "stdout",
     "output_type": "stream",
     "text": [
      "Number of records: 1\n"
     ]
    },
    {
     "data": {
      "text/html": [
       "<div>\n",
       "<style scoped>\n",
       "    .dataframe tbody tr th:only-of-type {\n",
       "        vertical-align: middle;\n",
       "    }\n",
       "\n",
       "    .dataframe tbody tr th {\n",
       "        vertical-align: top;\n",
       "    }\n",
       "\n",
       "    .dataframe thead th {\n",
       "        text-align: right;\n",
       "    }\n",
       "</style>\n",
       "<table border=\"1\" class=\"dataframe\">\n",
       "  <thead>\n",
       "    <tr style=\"text-align: right;\">\n",
       "      <th></th>\n",
       "      <th>id</th>\n",
       "      <th>from_animalgroup_id</th>\n",
       "      <th>to_animalgroup_id</th>\n",
       "    </tr>\n",
       "  </thead>\n",
       "  <tbody>\n",
       "    <tr>\n",
       "      <th>0</th>\n",
       "      <td>201505</td>\n",
       "      <td>203169</td>\n",
       "      <td>203130</td>\n",
       "    </tr>\n",
       "  </tbody>\n",
       "</table>\n",
       "</div>"
      ],
      "text/plain": [
       "       id  from_animalgroup_id  to_animalgroup_id\n",
       "0  201505               203169             203130"
      ]
     },
     "execution_count": 62,
     "metadata": {},
     "output_type": "execute_result"
    }
   ],
   "source": [
    "# Animal group parent table\n",
    "animal_group_ids = animal_group_table[\"id\"].tolist()\n",
    "query = simple_query(\"animal_animalgroup_parents\",animal_group_ids,\"from_animalgroup_id\",\"to_animalgroup_id\")\n",
    "animal_group_parents_table = pd.read_sql_query(query, connection)\n",
    "print(f\"Number of records: {len(animal_group_parents_table)}\")\n",
    "animal_group_parents_table.head(1)"
   ]
  },
  {
   "cell_type": "code",
   "execution_count": 63,
   "metadata": {},
   "outputs": [
    {
     "name": "stdout",
     "output_type": "stream",
     "text": [
      "Number of records: 111\n"
     ]
    },
    {
     "data": {
      "text/html": [
       "<div>\n",
       "<style scoped>\n",
       "    .dataframe tbody tr th:only-of-type {\n",
       "        vertical-align: middle;\n",
       "    }\n",
       "\n",
       "    .dataframe tbody tr th {\n",
       "        vertical-align: top;\n",
       "    }\n",
       "\n",
       "    .dataframe thead th {\n",
       "        text-align: right;\n",
       "    }\n",
       "</style>\n",
       "<table border=\"1\" class=\"dataframe\">\n",
       "  <thead>\n",
       "    <tr style=\"text-align: right;\">\n",
       "      <th></th>\n",
       "      <th>baseendpoint_ptr_id</th>\n",
       "      <th>animal_group_id</th>\n",
       "      <th>response_units</th>\n",
       "      <th>data_type</th>\n",
       "      <th>NOEL</th>\n",
       "      <th>LOEL</th>\n",
       "      <th>FEL</th>\n",
       "      <th>data_reported</th>\n",
       "      <th>data_extracted</th>\n",
       "      <th>system</th>\n",
       "      <th>...</th>\n",
       "      <th>effect_subtype</th>\n",
       "      <th>observation_time_text</th>\n",
       "      <th>expected_adversity_direction</th>\n",
       "      <th>litter_effect_notes</th>\n",
       "      <th>litter_effects</th>\n",
       "      <th>effect_subtype_term_id</th>\n",
       "      <th>effect_term_id</th>\n",
       "      <th>organ_term_id</th>\n",
       "      <th>system_term_id</th>\n",
       "      <th>name_term_id</th>\n",
       "    </tr>\n",
       "  </thead>\n",
       "  <tbody>\n",
       "    <tr>\n",
       "      <th>0</th>\n",
       "      <td>100200718</td>\n",
       "      <td>203130</td>\n",
       "      <td>g/100 g BW</td>\n",
       "      <td>C</td>\n",
       "      <td>1</td>\n",
       "      <td>2</td>\n",
       "      <td>-999</td>\n",
       "      <td>True</td>\n",
       "      <td>True</td>\n",
       "      <td>Whole Body</td>\n",
       "      <td>...</td>\n",
       "      <td>Clinical Observation</td>\n",
       "      <td>GD1-21</td>\n",
       "      <td>3</td>\n",
       "      <td>Findings were statistically evaluated separate...</td>\n",
       "      <td>YS</td>\n",
       "      <td>None</td>\n",
       "      <td>None</td>\n",
       "      <td>None</td>\n",
       "      <td>None</td>\n",
       "      <td>None</td>\n",
       "    </tr>\n",
       "  </tbody>\n",
       "</table>\n",
       "<p>1 rows × 37 columns</p>\n",
       "</div>"
      ],
      "text/plain": [
       "   baseendpoint_ptr_id  animal_group_id response_units data_type  NOEL  LOEL  \\\n",
       "0            100200718           203130     g/100 g BW         C     1     2   \n",
       "\n",
       "   FEL  data_reported  data_extracted      system  ...        effect_subtype  \\\n",
       "0 -999           True            True  Whole Body  ...  Clinical Observation   \n",
       "\n",
       "  observation_time_text  expected_adversity_direction  \\\n",
       "0                GD1-21                             3   \n",
       "\n",
       "                                 litter_effect_notes  litter_effects  \\\n",
       "0  Findings were statistically evaluated separate...              YS   \n",
       "\n",
       "   effect_subtype_term_id effect_term_id organ_term_id system_term_id  \\\n",
       "0                    None           None          None           None   \n",
       "\n",
       "  name_term_id  \n",
       "0         None  \n",
       "\n",
       "[1 rows x 37 columns]"
      ]
     },
     "execution_count": 63,
     "metadata": {},
     "output_type": "execute_result"
    }
   ],
   "source": [
    "# Endpoint table\n",
    "query = simple_query(\"animal_endpoint\",animal_group_ids,\"animal_group_id\")\n",
    "endpoint_table = pd.read_sql_query(query, connection)\n",
    "print(f\"Number of records: {len(endpoint_table)}\")\n",
    "endpoint_table.head(1)"
   ]
  },
  {
   "cell_type": "code",
   "execution_count": 64,
   "metadata": {},
   "outputs": [
    {
     "name": "stdout",
     "output_type": "stream",
     "text": [
      "Number of records: 111\n"
     ]
    },
    {
     "data": {
      "text/html": [
       "<div>\n",
       "<style scoped>\n",
       "    .dataframe tbody tr th:only-of-type {\n",
       "        vertical-align: middle;\n",
       "    }\n",
       "\n",
       "    .dataframe tbody tr th {\n",
       "        vertical-align: top;\n",
       "    }\n",
       "\n",
       "    .dataframe thead th {\n",
       "        text-align: right;\n",
       "    }\n",
       "</style>\n",
       "<table border=\"1\" class=\"dataframe\">\n",
       "  <thead>\n",
       "    <tr style=\"text-align: right;\">\n",
       "      <th></th>\n",
       "      <th>id</th>\n",
       "      <th>assessment_id</th>\n",
       "      <th>name</th>\n",
       "      <th>created</th>\n",
       "      <th>last_updated</th>\n",
       "    </tr>\n",
       "  </thead>\n",
       "  <tbody>\n",
       "    <tr>\n",
       "      <th>0</th>\n",
       "      <td>227913</td>\n",
       "      <td>100000061</td>\n",
       "      <td>Fetuses, Live</td>\n",
       "      <td>2017-07-25 16:25:38.882943-04:00</td>\n",
       "      <td>2020-08-17 08:37:59.958166-04:00</td>\n",
       "    </tr>\n",
       "  </tbody>\n",
       "</table>\n",
       "</div>"
      ],
      "text/plain": [
       "       id  assessment_id           name                           created  \\\n",
       "0  227913      100000061  Fetuses, Live  2017-07-25 16:25:38.882943-04:00   \n",
       "\n",
       "                       last_updated  \n",
       "0  2020-08-17 08:37:59.958166-04:00  "
      ]
     },
     "execution_count": 64,
     "metadata": {},
     "output_type": "execute_result"
    }
   ],
   "source": [
    "# Base endpoint table\n",
    "endpoint_ids = endpoint_table[\"baseendpoint_ptr_id\"].tolist()\n",
    "query = simple_query(\"assessment_baseendpoint\",endpoint_ids,\"id\")\n",
    "base_endpoint_table = pd.read_sql_query(query, connection)\n",
    "print(f\"Number of records: {len(base_endpoint_table)}\")\n",
    "base_endpoint_table.head(1)"
   ]
  },
  {
   "cell_type": "code",
   "execution_count": 65,
   "metadata": {},
   "outputs": [
    {
     "name": "stdout",
     "output_type": "stream",
     "text": [
      "Number of records: 510\n"
     ]
    },
    {
     "data": {
      "text/html": [
       "<div>\n",
       "<style scoped>\n",
       "    .dataframe tbody tr th:only-of-type {\n",
       "        vertical-align: middle;\n",
       "    }\n",
       "\n",
       "    .dataframe tbody tr th {\n",
       "        vertical-align: top;\n",
       "    }\n",
       "\n",
       "    .dataframe thead th {\n",
       "        text-align: right;\n",
       "    }\n",
       "</style>\n",
       "<table border=\"1\" class=\"dataframe\">\n",
       "  <thead>\n",
       "    <tr style=\"text-align: right;\">\n",
       "      <th></th>\n",
       "      <th>id</th>\n",
       "      <th>dose_group_id</th>\n",
       "      <th>n</th>\n",
       "      <th>incidence</th>\n",
       "      <th>response</th>\n",
       "      <th>variance</th>\n",
       "      <th>significant</th>\n",
       "      <th>significance_level</th>\n",
       "      <th>endpoint_id</th>\n",
       "      <th>lower_ci</th>\n",
       "      <th>upper_ci</th>\n",
       "    </tr>\n",
       "  </thead>\n",
       "  <tbody>\n",
       "    <tr>\n",
       "      <th>0</th>\n",
       "      <td>245938</td>\n",
       "      <td>3</td>\n",
       "      <td>20.0</td>\n",
       "      <td>19.0</td>\n",
       "      <td>95.0</td>\n",
       "      <td>NaN</td>\n",
       "      <td>True</td>\n",
       "      <td>0.05</td>\n",
       "      <td>227913</td>\n",
       "      <td>None</td>\n",
       "      <td>None</td>\n",
       "    </tr>\n",
       "  </tbody>\n",
       "</table>\n",
       "</div>"
      ],
      "text/plain": [
       "       id  dose_group_id     n  incidence  response  variance  significant  \\\n",
       "0  245938              3  20.0       19.0      95.0       NaN         True   \n",
       "\n",
       "   significance_level  endpoint_id lower_ci upper_ci  \n",
       "0                0.05       227913     None     None  "
      ]
     },
     "execution_count": 65,
     "metadata": {},
     "output_type": "execute_result"
    }
   ],
   "source": [
    "# Endpoint group table\n",
    "query = simple_query(\"animal_endpointgroup\",endpoint_ids,\"endpoint_id\")\n",
    "endpoint_group_table = pd.read_sql_query(query, connection)\n",
    "print(f\"Number of records: {len(endpoint_group_table)}\")\n",
    "endpoint_group_table.head(1)"
   ]
  },
  {
   "cell_type": "code",
   "execution_count": 66,
   "metadata": {},
   "outputs": [],
   "source": [
    "# Add tables to dict\n",
    "writes[\"animal\"] = {\n",
    "    \"animal_experiment\": experiment_table.to_json(),\n",
    "    \"animal_animalgroup\": animal_group_table.to_json(),\n",
    "    \"animal_animalgroup_parents\": animal_group_parents.to_json(),\n",
    "    \"animal_endpoint\": endpoint_table.to_json(),\n",
    "    \"assessment_baseendpoint\": base_endpoint_table.to_json(),\n",
    "    \"animal_endpointgroup\": endpoint_group_table.to_json(),\n",
    "}"
   ]
  },
  {
   "cell_type": "markdown",
   "metadata": {},
   "source": [
    "## Risk of Bias"
   ]
  },
  {
   "cell_type": "code",
   "execution_count": 67,
   "metadata": {},
   "outputs": [
    {
     "name": "stdout",
     "output_type": "stream",
     "text": [
      "Number of records: 70\n"
     ]
    },
    {
     "data": {
      "text/html": [
       "<div>\n",
       "<style scoped>\n",
       "    .dataframe tbody tr th:only-of-type {\n",
       "        vertical-align: middle;\n",
       "    }\n",
       "\n",
       "    .dataframe tbody tr th {\n",
       "        vertical-align: top;\n",
       "    }\n",
       "\n",
       "    .dataframe thead th {\n",
       "        text-align: right;\n",
       "    }\n",
       "</style>\n",
       "<table border=\"1\" class=\"dataframe\">\n",
       "  <thead>\n",
       "    <tr style=\"text-align: right;\">\n",
       "      <th></th>\n",
       "      <th>id</th>\n",
       "      <th>created</th>\n",
       "      <th>last_updated</th>\n",
       "      <th>author_id</th>\n",
       "      <th>final</th>\n",
       "      <th>study_id</th>\n",
       "      <th>active</th>\n",
       "    </tr>\n",
       "  </thead>\n",
       "  <tbody>\n",
       "    <tr>\n",
       "      <th>0</th>\n",
       "      <td>209895</td>\n",
       "      <td>2017-06-11 20:10:57.093631-04:00</td>\n",
       "      <td>2017-07-13 04:13:42.077103-04:00</td>\n",
       "      <td>641</td>\n",
       "      <td>False</td>\n",
       "      <td>471401</td>\n",
       "      <td>False</td>\n",
       "    </tr>\n",
       "  </tbody>\n",
       "</table>\n",
       "</div>"
      ],
      "text/plain": [
       "       id                           created                      last_updated  \\\n",
       "0  209895  2017-06-11 20:10:57.093631-04:00  2017-07-13 04:13:42.077103-04:00   \n",
       "\n",
       "   author_id  final  study_id  active  \n",
       "0        641  False    471401   False  "
      ]
     },
     "execution_count": 67,
     "metadata": {},
     "output_type": "execute_result"
    }
   ],
   "source": [
    "# Risk of bias table\n",
    "query = simple_query(\"riskofbias_riskofbias\",original_studies,\"study_id\")\n",
    "rob_table = pd.read_sql_query(query, connection)\n",
    "print(f\"Number of records: {len(rob_table)}\")\n",
    "rob_table.head(1)"
   ]
  },
  {
   "cell_type": "code",
   "execution_count": 68,
   "metadata": {},
   "outputs": [
    {
     "name": "stdout",
     "output_type": "stream",
     "text": [
      "Number of records: 686\n"
     ]
    },
    {
     "data": {
      "text/html": [
       "<div>\n",
       "<style scoped>\n",
       "    .dataframe tbody tr th:only-of-type {\n",
       "        vertical-align: middle;\n",
       "    }\n",
       "\n",
       "    .dataframe tbody tr th {\n",
       "        vertical-align: top;\n",
       "    }\n",
       "\n",
       "    .dataframe thead th {\n",
       "        text-align: right;\n",
       "    }\n",
       "</style>\n",
       "<table border=\"1\" class=\"dataframe\">\n",
       "  <thead>\n",
       "    <tr style=\"text-align: right;\">\n",
       "      <th></th>\n",
       "      <th>id</th>\n",
       "      <th>score</th>\n",
       "      <th>notes</th>\n",
       "      <th>metric_id</th>\n",
       "      <th>riskofbias_id</th>\n",
       "      <th>is_default</th>\n",
       "      <th>label</th>\n",
       "      <th>bias_direction</th>\n",
       "    </tr>\n",
       "  </thead>\n",
       "  <tbody>\n",
       "    <tr>\n",
       "      <th>0</th>\n",
       "      <td>235518</td>\n",
       "      <td>22</td>\n",
       "      <td>&lt;p&gt;Study authors did not indicate whether inve...</td>\n",
       "      <td>206006</td>\n",
       "      <td>209894</td>\n",
       "      <td>True</td>\n",
       "      <td></td>\n",
       "      <td>0</td>\n",
       "    </tr>\n",
       "  </tbody>\n",
       "</table>\n",
       "</div>"
      ],
      "text/plain": [
       "       id  score                                              notes  \\\n",
       "0  235518     22  <p>Study authors did not indicate whether inve...   \n",
       "\n",
       "   metric_id  riskofbias_id  is_default label  bias_direction  \n",
       "0     206006         209894        True                     0  "
      ]
     },
     "execution_count": 68,
     "metadata": {},
     "output_type": "execute_result"
    }
   ],
   "source": [
    "# Risk of bias score table\n",
    "rob_ids = rob_table[\"id\"].tolist()\n",
    "query = simple_query(\"riskofbias_riskofbiasscore\",rob_ids,\"riskofbias_id\")\n",
    "rob_score_table = pd.read_sql_query(query, connection)\n",
    "print(f\"Number of records: {len(rob_score_table)}\")\n",
    "rob_score_table.head(1)"
   ]
  },
  {
   "cell_type": "code",
   "execution_count": 69,
   "metadata": {},
   "outputs": [
    {
     "name": "stdout",
     "output_type": "stream",
     "text": [
      "Number of records: 20\n"
     ]
    },
    {
     "data": {
      "text/html": [
       "<div>\n",
       "<style scoped>\n",
       "    .dataframe tbody tr th:only-of-type {\n",
       "        vertical-align: middle;\n",
       "    }\n",
       "\n",
       "    .dataframe tbody tr th {\n",
       "        vertical-align: top;\n",
       "    }\n",
       "\n",
       "    .dataframe thead th {\n",
       "        text-align: right;\n",
       "    }\n",
       "</style>\n",
       "<table border=\"1\" class=\"dataframe\">\n",
       "  <thead>\n",
       "    <tr style=\"text-align: right;\">\n",
       "      <th></th>\n",
       "      <th>id</th>\n",
       "      <th>object_id</th>\n",
       "      <th>content_type_id</th>\n",
       "      <th>score_id</th>\n",
       "    </tr>\n",
       "  </thead>\n",
       "  <tbody>\n",
       "    <tr>\n",
       "      <th>0</th>\n",
       "      <td>4076</td>\n",
       "      <td>100517941</td>\n",
       "      <td>21</td>\n",
       "      <td>100573291</td>\n",
       "    </tr>\n",
       "  </tbody>\n",
       "</table>\n",
       "</div>"
      ],
      "text/plain": [
       "     id  object_id  content_type_id   score_id\n",
       "0  4076  100517941               21  100573291"
      ]
     },
     "execution_count": 69,
     "metadata": {},
     "output_type": "execute_result"
    }
   ],
   "source": [
    "# Risk of bias score override table\n",
    "rob_score_ids = rob_score_table[\"id\"].tolist()\n",
    "query = simple_query(\"riskofbias_riskofbiasscoreoverrideobject\",rob_score_ids,\"score_id\")\n",
    "rob_score_override_table = pd.read_sql_query(query, connection)\n",
    "print(f\"Number of records: {len(rob_score_override_table)}\")\n",
    "rob_score_override_table.head(1)\n"
   ]
  },
  {
   "cell_type": "code",
   "execution_count": 70,
   "metadata": {},
   "outputs": [],
   "source": [
    "# Add tables to dict\n",
    "writes[\"rob\"] = {\n",
    "    \"riskofbias_riskofbias\": rob_table.to_json(),\n",
    "    \"riskofbias_riskofbiasscore\": rob_score_table.to_json(),\n",
    "    \"riskofbias_riskofbiasscoreoverrideobject\": rob_score_override_table.to_json(),\n",
    "}"
   ]
  },
  {
   "cell_type": "markdown",
   "metadata": {},
   "source": [
    "## Write tables to file"
   ]
  },
  {
   "cell_type": "code",
   "execution_count": 71,
   "metadata": {},
   "outputs": [
    {
     "data": {
      "text/plain": [
       "1293389"
      ]
     },
     "execution_count": 71,
     "metadata": {},
     "output_type": "execute_result"
    }
   ],
   "source": [
    "fn = Path('data/raw/writes.json')\n",
    "fn.write_text(json.dumps(writes))"
   ]
  },
  {
   "cell_type": "code",
   "execution_count": null,
   "metadata": {},
   "outputs": [],
   "source": []
  }
 ],
 "metadata": {
  "kernelspec": {
   "display_name": "Python 3",
   "language": "python",
   "name": "python3"
  },
  "language_info": {
   "codemirror_mode": {
    "name": "ipython",
    "version": 3
   },
   "file_extension": ".py",
   "mimetype": "text/x-python",
   "name": "python",
   "nbconvert_exporter": "python",
   "pygments_lexer": "ipython3",
   "version": "3.6.12"
  }
 },
 "nbformat": 4,
 "nbformat_minor": 4
}
