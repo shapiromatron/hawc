{
 "cells": [
  {
   "cell_type": "code",
   "execution_count": 1,
   "metadata": {},
   "outputs": [],
   "source": [
    "import os\n",
    "\n",
    "import django\n",
    "\n",
    "os.environ.setdefault(\"DJANGO_SETTINGS_MODULE\", \"hawc.main.settings.local\")\n",
    "os.environ[\"DJANGO_ALLOW_ASYNC_UNSAFE\"] = \"true\"\n",
    "django.setup()"
   ]
  },
  {
   "cell_type": "code",
   "execution_count": 2,
   "metadata": {},
   "outputs": [],
   "source": [
    "from hawc.apps.assessment.models import Assessment\n",
    "from hawc.apps.lit import models\n"
   ]
  },
  {
   "cell_type": "code",
   "execution_count": 3,
   "metadata": {},
   "outputs": [
    {
     "name": "stderr",
     "output_type": "stream",
     "text": [
      "INFO 2024-08-30 16:00:49,926 hawc.apps.common.models cache set: reference-tagtree-assessment-2\n"
     ]
    }
   ],
   "source": [
    "assessment_id = 2\n",
    "\n",
    "assessment = Assessment.objects.get(id=assessment_id)\n",
    "references = assessment.references.all()"
   ]
  },
  {
   "cell_type": "code",
   "execution_count": 10,
   "metadata": {},
   "outputs": [
    {
     "data": {
      "text/plain": [
       "[{'tag_id': 12, 'reference_id': 5},\n",
       " {'tag_id': 13, 'reference_id': 6},\n",
       " {'tag_id': 13, 'reference_id': 7},\n",
       " {'tag_id': 12, 'reference_id': 8}]"
      ]
     },
     "execution_count": 10,
     "metadata": {},
     "output_type": "execute_result"
    }
   ],
   "source": [
    "tag_pairs = models.Reference.objects.tag_pairs(references)\n",
    "tag_pairs"
   ]
  },
  {
   "cell_type": "code",
   "execution_count": 13,
   "metadata": {},
   "outputs": [
    {
     "data": {
      "text/plain": [
       "[{'search_id': 5, 'reference_id': 5},\n",
       " {'search_id': 5, 'reference_id': 6},\n",
       " {'search_id': 5, 'reference_id': 7},\n",
       " {'search_id': 5, 'reference_id': 8},\n",
       " {'search_id': 2, 'reference_id': 12}]"
      ]
     },
     "execution_count": 13,
     "metadata": {},
     "output_type": "execute_result"
    }
   ],
   "source": [
    "search_pairs = list(models.Reference.searches.through.objects.filter(reference_id__in=references).values(\"search_id\", \"reference_id\"))\n",
    "search_pairs"
   ]
  },
  {
   "cell_type": "code",
   "execution_count": 4,
   "metadata": {},
   "outputs": [],
   "source": []
  }
 ],
 "metadata": {
  "kernelspec": {
   "display_name": "hawc",
   "language": "python",
   "name": "python3"
  },
  "language_info": {
   "codemirror_mode": {
    "name": "ipython",
    "version": 3
   },
   "file_extension": ".py",
   "mimetype": "text/x-python",
   "name": "python",
   "nbconvert_exporter": "python",
   "pygments_lexer": "ipython3",
   "version": "3.12.3"
  }
 },
 "nbformat": 4,
 "nbformat_minor": 2
}
