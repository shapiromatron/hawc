{
 "cells": [
  {
   "cell_type": "markdown",
   "metadata": {},
   "source": [
    "# New content in hawc\n",
    "\n",
    "Given two datetimes, see what content has changed"
   ]
  },
  {
   "cell_type": "code",
   "execution_count": null,
   "metadata": {},
   "outputs": [],
   "source": [
    "import django\n",
    "django.setup()"
   ]
  },
  {
   "cell_type": "code",
   "execution_count": null,
   "metadata": {},
   "outputs": [],
   "source": [
    "%matplotlib inline\n",
    "\n",
    "from datetime import datetime, timedelta\n",
    "from django.utils.timezone import make_aware\n",
    "\n",
    "import numpy as np\n",
    "import pandas as pd\n",
    "\n",
    "from hawc.apps.myuser.models import HAWCUser\n",
    "from hawc.apps.study.models import Study\n",
    "from hawc.apps.lit.models import Reference, Search\n",
    "from hawc.apps.assessment.models import Assessment\n",
    "from hawc.apps.animal.models import Experiment, Endpoint\n",
    "from hawc.apps.summary.models import Visual, DataPivotQuery"
   ]
  },
  {
   "cell_type": "code",
   "execution_count": null,
   "metadata": {},
   "outputs": [],
   "source": [
    "def changes(Model, start, end):\n",
    "    # find matching datetime attribute\n",
    "    for field in ['created', 'date_joined']:\n",
    "        if hasattr(Model, field):\n",
    "            q = f'{field}__lte'\n",
    "            break\n",
    "    \n",
    "    latest = Model.objects.filter(**{q: end}).count() \n",
    "    earliest = Model.objects.filter(**{q: start}).count()\n",
    "    change = (latest-earliest)/earliest\n",
    "    print(f\"{Model.__name__}: {latest} total, {latest-earliest} ({change:.1%}) new between {start:%Y-%M-%d} and {start:%Y-%M-%d}\")\n",
    "    \n",
    "    \n",
    "start = make_aware(datetime.now() - timedelta(days=365))\n",
    "end = make_aware(datetime.now())\n",
    "\n",
    "changes(HAWCUser, start, end)\n",
    "changes(Reference, start, end)\n",
    "changes(Search, start, end)\n",
    "changes(Study, start, end)\n",
    "changes(Assessment, start, end)\n",
    "changes(Experiment, start, end)\n",
    "changes(Endpoint, start, end)\n",
    "changes(Visual, start, end)\n",
    "changes(DataPivotQuery, start, end)"
   ]
  },
  {
   "cell_type": "code",
   "execution_count": null,
   "metadata": {},
   "outputs": [],
   "source": [
    "def changes2(Models, start, end):\n",
    "    timestamps = [\n",
    "        make_aware(datetime.fromordinal(el)) for el in \n",
    "        np.linspace(start.toordinal(), end.toordinal(), 12).astype(int)\n",
    "    ]\n",
    "    data = []\n",
    "    for Model in Models:\n",
    "        # find matching datetime attribute\n",
    "        for field in ['created', 'date_joined']:\n",
    "            if hasattr(Model, field):\n",
    "                q = f'{field}__lte'\n",
    "                break\n",
    "            \n",
    "        for timestamp in timestamps:\n",
    "            data.append([\n",
    "                Model.__name__,\n",
    "                timestamp,\n",
    "                Model.objects.filter(**{q: timestamp}).count()\n",
    "            ])\n",
    "    return pd.DataFrame(data=data, columns=\"model timestamp count\".split(\" \"))\n",
    "\n",
    "models = [HAWCUser, Reference, Search, Study, Assessment, Experiment, Endpoint, Visual, DataPivotQuery]\n",
    "df = changes2(models, start, end)"
   ]
  },
  {
   "cell_type": "code",
   "execution_count": null,
   "metadata": {},
   "outputs": [],
   "source": [
    "for m in df.model.unique(): \n",
    "    subset = df[df.model == m]\n",
    "    subset.plot(x='timestamp', y='count', title=m, figsize=(8,4), ylim=(0, subset['count'].max()*1.1))"
   ]
  }
 ],
 "metadata": {
  "kernelspec": {
   "display_name": "Python 3.6.5 64-bit",
   "language": "python",
   "name": "python36564bit2936414481a34083b6bc3e3e910575da"
  },
  "language_info": {
   "codemirror_mode": {
    "name": "ipython",
    "version": 3
   },
   "file_extension": ".py",
   "mimetype": "text/x-python",
   "name": "python",
   "nbconvert_exporter": "python",
   "pygments_lexer": "ipython3",
   "version": "3.6.10"
  }
 },
 "nbformat": 4,
 "nbformat_minor": 4
}
