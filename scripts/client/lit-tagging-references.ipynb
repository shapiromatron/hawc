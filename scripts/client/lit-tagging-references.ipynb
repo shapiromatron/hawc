{
 "cells": [
  {
   "cell_type": "markdown",
   "metadata": {},
   "source": [
    "# Literature - tagging references\n",
    "\n",
    "This notebooks demonstrates using the HAWC client to tag references in HAWC.\n",
    "\n",
    "Make sure the `hawc_client` is installed. If you need to install it:\n",
    "\n",
    "```bash\n",
    "pip install -U hawc_client\n",
    "```\n"
   ]
  },
  {
   "cell_type": "code",
   "execution_count": 1,
   "metadata": {},
   "outputs": [],
   "source": [
    "from getpass import getpass\n",
    "\n",
    "from hawc_client import HawcClient\n",
    "import pandas as pd"
   ]
  },
  {
   "cell_type": "markdown",
   "metadata": {},
   "source": [
    "First, setup a HAWC client instance and authenticate with your username and password:"
   ]
  },
  {
   "cell_type": "code",
   "execution_count": 2,
   "metadata": {},
   "outputs": [
    {
     "name": "stdout",
     "output_type": "stream",
     "text": [
      "········\n"
     ]
    }
   ],
   "source": [
    "client = HawcClient('https://hawcproject.org')\n",
    "client.authenticate(email='webmaster@hawcproject.org', password=getpass())\n",
    "assessment_id = 100500210"
   ]
  },
  {
   "cell_type": "markdown",
   "metadata": {},
   "source": [
    "## Setup"
   ]
  },
  {
   "cell_type": "markdown",
   "metadata": {},
   "source": [
    "Let's import some new references to play around with:\n",
    "\n",
    "### Adding some references"
   ]
  },
  {
   "cell_type": "code",
   "execution_count": 3,
   "metadata": {},
   "outputs": [
    {
     "data": {
      "text/plain": [
       "{'assessment': 100500210,\n",
       " 'search_type': 'i',\n",
       " 'source': 2,\n",
       " 'title': 'reference import',\n",
       " 'slug': 'reference-import',\n",
       " 'description': 'description of what was imported ...',\n",
       " 'search_string': '1037869,1040933,1054799',\n",
       " 'created': '2020-07-17T14:12:58.489053-05:00',\n",
       " 'last_updated': '2020-07-17T14:12:58.489076-05:00'}"
      ]
     },
     "execution_count": 3,
     "metadata": {},
     "output_type": "execute_result"
    }
   ],
   "source": [
    "response = client.lit.import_hero(\n",
    "    assessment_id,\n",
    "    title=\"reference import\",\n",
    "    description=\"description of what was imported ...\",\n",
    "    ids=[1037869, 1040933, 1054799]\n",
    ")\n",
    "response"
   ]
  },
  {
   "cell_type": "markdown",
   "metadata": {},
   "source": [
    "### Setting up the literature tags\n",
    "\n",
    "Unfortunately, no API exists for this (yet). You'll need to create using the HAWC UI.  Once taht's done, continue with the next steps..."
   ]
  },
  {
   "cell_type": "markdown",
   "metadata": {},
   "source": [
    "## Fetching HAWC IDs for references and tags\n",
    "\n",
    "Next, we'll query HAWC to get IDs for our references and tags.\n",
    "\n",
    "Let's fetch our references:"
   ]
  },
  {
   "cell_type": "code",
   "execution_count": 4,
   "metadata": {},
   "outputs": [
    {
     "data": {
      "text/html": [
       "<div>\n",
       "<style scoped>\n",
       "    .dataframe tbody tr th:only-of-type {\n",
       "        vertical-align: middle;\n",
       "    }\n",
       "\n",
       "    .dataframe tbody tr th {\n",
       "        vertical-align: top;\n",
       "    }\n",
       "\n",
       "    .dataframe thead th {\n",
       "        text-align: right;\n",
       "    }\n",
       "</style>\n",
       "<table border=\"1\" class=\"dataframe\">\n",
       "  <thead>\n",
       "    <tr style=\"text-align: right;\">\n",
       "      <th></th>\n",
       "      <th>HAWC ID</th>\n",
       "      <th>HERO ID</th>\n",
       "      <th>PubMed ID</th>\n",
       "      <th>Citation</th>\n",
       "      <th>Full Citation</th>\n",
       "      <th>Title</th>\n",
       "      <th>Authors</th>\n",
       "      <th>Authors short</th>\n",
       "      <th>Year</th>\n",
       "      <th>Journal</th>\n",
       "      <th>...</th>\n",
       "      <th>Created</th>\n",
       "      <th>Last updated</th>\n",
       "      <th>Inclusion</th>\n",
       "      <th>Inclusion|Human Study</th>\n",
       "      <th>Inclusion|Animal Study</th>\n",
       "      <th>Inclusion|Mechanistic Study</th>\n",
       "      <th>Exclusion</th>\n",
       "      <th>Exclusion|Tier I</th>\n",
       "      <th>Exclusion|Tier II</th>\n",
       "      <th>Exclusion|Tier III</th>\n",
       "    </tr>\n",
       "  </thead>\n",
       "  <tbody>\n",
       "    <tr>\n",
       "      <th>0</th>\n",
       "      <td>100798293</td>\n",
       "      <td>1037869</td>\n",
       "      <td>None</td>\n",
       "      <td>Duraipandiyan V et al.</td>\n",
       "      <td>Duraipandiyan V, Al-Harbi NA, Ignacimuthu S, M...</td>\n",
       "      <td>Antimicrobial activity of sesquiterpene lacton...</td>\n",
       "      <td>Duraipandiyan V, Al-Harbi NA, Ignacimuthu S, M...</td>\n",
       "      <td>Duraipandiyan V et al.</td>\n",
       "      <td>None</td>\n",
       "      <td>BMC Complementary and Alternative Medicine.</td>\n",
       "      <td>...</td>\n",
       "      <td>1595013178582</td>\n",
       "      <td>1595013178582</td>\n",
       "      <td>False</td>\n",
       "      <td>False</td>\n",
       "      <td>False</td>\n",
       "      <td>False</td>\n",
       "      <td>False</td>\n",
       "      <td>False</td>\n",
       "      <td>False</td>\n",
       "      <td>False</td>\n",
       "    </tr>\n",
       "    <tr>\n",
       "      <th>1</th>\n",
       "      <td>100798294</td>\n",
       "      <td>1040933</td>\n",
       "      <td>None</td>\n",
       "      <td>Ponnampalam EN et al.</td>\n",
       "      <td>Ponnampalam EN, Hopkins DL, Butler KL, Dunshea...</td>\n",
       "      <td>Polyunsaturated fats in meat from Merino, firs...</td>\n",
       "      <td>Ponnampalam EN, Hopkins DL, Butler KL, Dunshea...</td>\n",
       "      <td>Ponnampalam EN et al.</td>\n",
       "      <td>None</td>\n",
       "      <td>Meat Science.</td>\n",
       "      <td>...</td>\n",
       "      <td>1595013178707</td>\n",
       "      <td>1595013178707</td>\n",
       "      <td>False</td>\n",
       "      <td>False</td>\n",
       "      <td>False</td>\n",
       "      <td>False</td>\n",
       "      <td>False</td>\n",
       "      <td>False</td>\n",
       "      <td>False</td>\n",
       "      <td>False</td>\n",
       "    </tr>\n",
       "    <tr>\n",
       "      <th>2</th>\n",
       "      <td>100798295</td>\n",
       "      <td>1054799</td>\n",
       "      <td>None</td>\n",
       "      <td>Feng S et al.</td>\n",
       "      <td>Feng S, Song L, Lee YK, Huang D. The Effects o...</td>\n",
       "      <td>The Effects of Fungal Stress on the Antioxidan...</td>\n",
       "      <td>Feng S, Song L, Lee YK, Huang D</td>\n",
       "      <td>Feng S et al.</td>\n",
       "      <td>None</td>\n",
       "      <td>Journal of Agricultural and Food Chemistry.</td>\n",
       "      <td>...</td>\n",
       "      <td>1595013178831</td>\n",
       "      <td>1595013178831</td>\n",
       "      <td>False</td>\n",
       "      <td>False</td>\n",
       "      <td>False</td>\n",
       "      <td>False</td>\n",
       "      <td>False</td>\n",
       "      <td>False</td>\n",
       "      <td>False</td>\n",
       "      <td>False</td>\n",
       "    </tr>\n",
       "  </tbody>\n",
       "</table>\n",
       "<p>3 rows × 22 columns</p>\n",
       "</div>"
      ],
      "text/plain": [
       "     HAWC ID  HERO ID PubMed ID                Citation  \\\n",
       "0  100798293  1037869      None  Duraipandiyan V et al.   \n",
       "1  100798294  1040933      None   Ponnampalam EN et al.   \n",
       "2  100798295  1054799      None           Feng S et al.   \n",
       "\n",
       "                                       Full Citation  \\\n",
       "0  Duraipandiyan V, Al-Harbi NA, Ignacimuthu S, M...   \n",
       "1  Ponnampalam EN, Hopkins DL, Butler KL, Dunshea...   \n",
       "2  Feng S, Song L, Lee YK, Huang D. The Effects o...   \n",
       "\n",
       "                                               Title  \\\n",
       "0  Antimicrobial activity of sesquiterpene lacton...   \n",
       "1  Polyunsaturated fats in meat from Merino, firs...   \n",
       "2  The Effects of Fungal Stress on the Antioxidan...   \n",
       "\n",
       "                                             Authors           Authors short  \\\n",
       "0  Duraipandiyan V, Al-Harbi NA, Ignacimuthu S, M...  Duraipandiyan V et al.   \n",
       "1  Ponnampalam EN, Hopkins DL, Butler KL, Dunshea...   Ponnampalam EN et al.   \n",
       "2                    Feng S, Song L, Lee YK, Huang D           Feng S et al.   \n",
       "\n",
       "   Year                                      Journal  ...        Created  \\\n",
       "0  None  BMC Complementary and Alternative Medicine.  ...  1595013178582   \n",
       "1  None                                Meat Science.  ...  1595013178707   \n",
       "2  None  Journal of Agricultural and Food Chemistry.  ...  1595013178831   \n",
       "\n",
       "    Last updated  Inclusion  Inclusion|Human Study  Inclusion|Animal Study  \\\n",
       "0  1595013178582      False                  False                   False   \n",
       "1  1595013178707      False                  False                   False   \n",
       "2  1595013178831      False                  False                   False   \n",
       "\n",
       "   Inclusion|Mechanistic Study  Exclusion  Exclusion|Tier I  \\\n",
       "0                        False      False             False   \n",
       "1                        False      False             False   \n",
       "2                        False      False             False   \n",
       "\n",
       "   Exclusion|Tier II  Exclusion|Tier III  \n",
       "0              False               False  \n",
       "1              False               False  \n",
       "2              False               False  \n",
       "\n",
       "[3 rows x 22 columns]"
      ]
     },
     "execution_count": 4,
     "metadata": {},
     "output_type": "execute_result"
    }
   ],
   "source": [
    "references_df = client.lit.references(assessment_id)\n",
    "references_df.head()"
   ]
  },
  {
   "cell_type": "markdown",
   "metadata": {},
   "source": [
    "And our tags:"
   ]
  },
  {
   "cell_type": "code",
   "execution_count": 5,
   "metadata": {},
   "outputs": [
    {
     "data": {
      "text/html": [
       "<div>\n",
       "<style scoped>\n",
       "    .dataframe tbody tr th:only-of-type {\n",
       "        vertical-align: middle;\n",
       "    }\n",
       "\n",
       "    .dataframe tbody tr th {\n",
       "        vertical-align: top;\n",
       "    }\n",
       "\n",
       "    .dataframe thead th {\n",
       "        text-align: right;\n",
       "    }\n",
       "</style>\n",
       "<table border=\"1\" class=\"dataframe\">\n",
       "  <thead>\n",
       "    <tr style=\"text-align: right;\">\n",
       "      <th></th>\n",
       "      <th>id</th>\n",
       "      <th>depth</th>\n",
       "      <th>name</th>\n",
       "      <th>nested_name</th>\n",
       "    </tr>\n",
       "  </thead>\n",
       "  <tbody>\n",
       "    <tr>\n",
       "      <th>0</th>\n",
       "      <td>100505134</td>\n",
       "      <td>2</td>\n",
       "      <td>Inclusion</td>\n",
       "      <td>Inclusion</td>\n",
       "    </tr>\n",
       "    <tr>\n",
       "      <th>1</th>\n",
       "      <td>100505135</td>\n",
       "      <td>3</td>\n",
       "      <td>Human Study</td>\n",
       "      <td>Inclusion|Human Study</td>\n",
       "    </tr>\n",
       "    <tr>\n",
       "      <th>2</th>\n",
       "      <td>100505136</td>\n",
       "      <td>3</td>\n",
       "      <td>Animal Study</td>\n",
       "      <td>Inclusion|Animal Study</td>\n",
       "    </tr>\n",
       "    <tr>\n",
       "      <th>3</th>\n",
       "      <td>100505137</td>\n",
       "      <td>3</td>\n",
       "      <td>Mechanistic Study</td>\n",
       "      <td>Inclusion|Mechanistic Study</td>\n",
       "    </tr>\n",
       "    <tr>\n",
       "      <th>4</th>\n",
       "      <td>100505138</td>\n",
       "      <td>2</td>\n",
       "      <td>Exclusion</td>\n",
       "      <td>Exclusion</td>\n",
       "    </tr>\n",
       "    <tr>\n",
       "      <th>5</th>\n",
       "      <td>100505139</td>\n",
       "      <td>3</td>\n",
       "      <td>Tier I</td>\n",
       "      <td>Exclusion|Tier I</td>\n",
       "    </tr>\n",
       "    <tr>\n",
       "      <th>6</th>\n",
       "      <td>100505140</td>\n",
       "      <td>3</td>\n",
       "      <td>Tier II</td>\n",
       "      <td>Exclusion|Tier II</td>\n",
       "    </tr>\n",
       "    <tr>\n",
       "      <th>7</th>\n",
       "      <td>100505141</td>\n",
       "      <td>3</td>\n",
       "      <td>Tier III</td>\n",
       "      <td>Exclusion|Tier III</td>\n",
       "    </tr>\n",
       "  </tbody>\n",
       "</table>\n",
       "</div>"
      ],
      "text/plain": [
       "          id  depth               name                  nested_name\n",
       "0  100505134      2          Inclusion                    Inclusion\n",
       "1  100505135      3        Human Study        Inclusion|Human Study\n",
       "2  100505136      3       Animal Study       Inclusion|Animal Study\n",
       "3  100505137      3  Mechanistic Study  Inclusion|Mechanistic Study\n",
       "4  100505138      2          Exclusion                    Exclusion\n",
       "5  100505139      3             Tier I             Exclusion|Tier I\n",
       "6  100505140      3            Tier II            Exclusion|Tier II\n",
       "7  100505141      3           Tier III           Exclusion|Tier III"
      ]
     },
     "execution_count": 5,
     "metadata": {},
     "output_type": "execute_result"
    }
   ],
   "source": [
    "tags_df = client.lit.tags(assessment_id)\n",
    "tags_df.head(15)"
   ]
  },
  {
   "cell_type": "markdown",
   "metadata": {},
   "source": [
    "It's also a good idea to grab the current mapping of references to tags for an assessment.\n",
    "\n",
    "**Note**: This is always a good idea to save as a backup just in case you need it..."
   ]
  },
  {
   "cell_type": "code",
   "execution_count": 6,
   "metadata": {},
   "outputs": [
    {
     "data": {
      "text/html": [
       "<div>\n",
       "<style scoped>\n",
       "    .dataframe tbody tr th:only-of-type {\n",
       "        vertical-align: middle;\n",
       "    }\n",
       "\n",
       "    .dataframe tbody tr th {\n",
       "        vertical-align: top;\n",
       "    }\n",
       "\n",
       "    .dataframe thead th {\n",
       "        text-align: right;\n",
       "    }\n",
       "</style>\n",
       "<table border=\"1\" class=\"dataframe\">\n",
       "  <thead>\n",
       "    <tr style=\"text-align: right;\">\n",
       "      <th></th>\n",
       "    </tr>\n",
       "  </thead>\n",
       "  <tbody>\n",
       "  </tbody>\n",
       "</table>\n",
       "</div>"
      ],
      "text/plain": [
       "Empty DataFrame\n",
       "Columns: []\n",
       "Index: []"
      ]
     },
     "execution_count": 6,
     "metadata": {},
     "output_type": "execute_result"
    }
   ],
   "source": [
    "ref_tags_backup = client.lit.reference_tags(assessment_id)\n",
    "ref_tags_backup.to_csv('~/Desktop/ref-tags-backup.csv', index=False)\n",
    "ref_tags_backup"
   ]
  },
  {
   "cell_type": "markdown",
   "metadata": {},
   "source": [
    "## Applying tags to references:\n",
    "\n",
    "Now that we have references, tags, and a backup of our old mappings, we can create some new ones. \n",
    "\n",
    "To add a single tag to a single reference, create a datafame:"
   ]
  },
  {
   "cell_type": "code",
   "execution_count": 7,
   "metadata": {},
   "outputs": [
    {
     "data": {
      "text/html": [
       "<div>\n",
       "<style scoped>\n",
       "    .dataframe tbody tr th:only-of-type {\n",
       "        vertical-align: middle;\n",
       "    }\n",
       "\n",
       "    .dataframe tbody tr th {\n",
       "        vertical-align: top;\n",
       "    }\n",
       "\n",
       "    .dataframe thead th {\n",
       "        text-align: right;\n",
       "    }\n",
       "</style>\n",
       "<table border=\"1\" class=\"dataframe\">\n",
       "  <thead>\n",
       "    <tr style=\"text-align: right;\">\n",
       "      <th></th>\n",
       "      <th>reference_id</th>\n",
       "      <th>tag_id</th>\n",
       "    </tr>\n",
       "  </thead>\n",
       "  <tbody>\n",
       "    <tr>\n",
       "      <th>0</th>\n",
       "      <td>100798293</td>\n",
       "      <td>100505134</td>\n",
       "    </tr>\n",
       "  </tbody>\n",
       "</table>\n",
       "</div>"
      ],
      "text/plain": [
       "   reference_id     tag_id\n",
       "0     100798293  100505134"
      ]
     },
     "execution_count": 7,
     "metadata": {},
     "output_type": "execute_result"
    }
   ],
   "source": [
    "new_tags_df = pd.DataFrame(data=dict(\n",
    "    reference_id=[references_df.iloc[0][\"HAWC ID\"]],\n",
    "    tag_id=[tags_df.iloc[0].id]\n",
    "))\n",
    "new_tags_df.head()"
   ]
  },
  {
   "cell_type": "markdown",
   "metadata": {},
   "source": [
    "Now, you can submit the new reference/tag combination to HAWC to append to the current list of tags:"
   ]
  },
  {
   "cell_type": "code",
   "execution_count": 8,
   "metadata": {},
   "outputs": [
    {
     "data": {
      "text/html": [
       "<div>\n",
       "<style scoped>\n",
       "    .dataframe tbody tr th:only-of-type {\n",
       "        vertical-align: middle;\n",
       "    }\n",
       "\n",
       "    .dataframe tbody tr th {\n",
       "        vertical-align: top;\n",
       "    }\n",
       "\n",
       "    .dataframe thead th {\n",
       "        text-align: right;\n",
       "    }\n",
       "</style>\n",
       "<table border=\"1\" class=\"dataframe\">\n",
       "  <thead>\n",
       "    <tr style=\"text-align: right;\">\n",
       "      <th></th>\n",
       "      <th>reference_id</th>\n",
       "      <th>tag_id</th>\n",
       "    </tr>\n",
       "  </thead>\n",
       "  <tbody>\n",
       "    <tr>\n",
       "      <th>0</th>\n",
       "      <td>100798293</td>\n",
       "      <td>100505134</td>\n",
       "    </tr>\n",
       "  </tbody>\n",
       "</table>\n",
       "</div>"
      ],
      "text/plain": [
       "   reference_id     tag_id\n",
       "0     100798293  100505134"
      ]
     },
     "execution_count": 8,
     "metadata": {},
     "output_type": "execute_result"
    }
   ],
   "source": [
    "result = client.lit.import_reference_tags(assessment_id, new_tags_df.to_csv(index=False), 'append')\n",
    "result.head()"
   ]
  },
  {
   "cell_type": "markdown",
   "metadata": {},
   "source": [
    "Generaly, you'll probably load thousands of reference-tag combinations at once. We'll create random permutation of the tags we want to apply (you probably don't want it to be random in reality):"
   ]
  },
  {
   "cell_type": "code",
   "execution_count": 9,
   "metadata": {},
   "outputs": [
    {
     "data": {
      "text/html": [
       "<div>\n",
       "<style scoped>\n",
       "    .dataframe tbody tr th:only-of-type {\n",
       "        vertical-align: middle;\n",
       "    }\n",
       "\n",
       "    .dataframe tbody tr th {\n",
       "        vertical-align: top;\n",
       "    }\n",
       "\n",
       "    .dataframe thead th {\n",
       "        text-align: right;\n",
       "    }\n",
       "</style>\n",
       "<table border=\"1\" class=\"dataframe\">\n",
       "  <thead>\n",
       "    <tr style=\"text-align: right;\">\n",
       "      <th></th>\n",
       "      <th>reference_id</th>\n",
       "      <th>tag_id</th>\n",
       "    </tr>\n",
       "  </thead>\n",
       "  <tbody>\n",
       "    <tr>\n",
       "      <th>0</th>\n",
       "      <td>100798293</td>\n",
       "      <td>100505137</td>\n",
       "    </tr>\n",
       "    <tr>\n",
       "      <th>1</th>\n",
       "      <td>100798293</td>\n",
       "      <td>100505138</td>\n",
       "    </tr>\n",
       "    <tr>\n",
       "      <th>2</th>\n",
       "      <td>100798294</td>\n",
       "      <td>100505139</td>\n",
       "    </tr>\n",
       "    <tr>\n",
       "      <th>3</th>\n",
       "      <td>100798294</td>\n",
       "      <td>100505134</td>\n",
       "    </tr>\n",
       "    <tr>\n",
       "      <th>5</th>\n",
       "      <td>100798295</td>\n",
       "      <td>100505136</td>\n",
       "    </tr>\n",
       "    <tr>\n",
       "      <th>6</th>\n",
       "      <td>100798293</td>\n",
       "      <td>100505134</td>\n",
       "    </tr>\n",
       "    <tr>\n",
       "      <th>7</th>\n",
       "      <td>100798293</td>\n",
       "      <td>100505135</td>\n",
       "    </tr>\n",
       "    <tr>\n",
       "      <th>8</th>\n",
       "      <td>100798293</td>\n",
       "      <td>100505139</td>\n",
       "    </tr>\n",
       "    <tr>\n",
       "      <th>9</th>\n",
       "      <td>100798295</td>\n",
       "      <td>100505139</td>\n",
       "    </tr>\n",
       "  </tbody>\n",
       "</table>\n",
       "</div>"
      ],
      "text/plain": [
       "   reference_id     tag_id\n",
       "0     100798293  100505137\n",
       "1     100798293  100505138\n",
       "2     100798294  100505139\n",
       "3     100798294  100505134\n",
       "5     100798295  100505136\n",
       "6     100798293  100505134\n",
       "7     100798293  100505135\n",
       "8     100798293  100505139\n",
       "9     100798295  100505139"
      ]
     },
     "execution_count": 9,
     "metadata": {},
     "output_type": "execute_result"
    }
   ],
   "source": [
    "# sample 10 random reference/tags w/ replacement\n",
    "new_tags_df = pd.DataFrame(data=dict(\n",
    "    reference_id=references_df['HAWC ID'].sample(10, replace=True).values, \n",
    "    tag_id=tags_df['id'].sample(10, replace=True).values,\n",
    ")).drop_duplicates()\n",
    "new_tags_df.head(10)"
   ]
  },
  {
   "cell_type": "markdown",
   "metadata": {},
   "source": [
    " Now, instead of appending to the list of relationships, we will `replace` (this will delete old relations):"
   ]
  },
  {
   "cell_type": "code",
   "execution_count": 10,
   "metadata": {},
   "outputs": [
    {
     "data": {
      "text/html": [
       "<div>\n",
       "<style scoped>\n",
       "    .dataframe tbody tr th:only-of-type {\n",
       "        vertical-align: middle;\n",
       "    }\n",
       "\n",
       "    .dataframe tbody tr th {\n",
       "        vertical-align: top;\n",
       "    }\n",
       "\n",
       "    .dataframe thead th {\n",
       "        text-align: right;\n",
       "    }\n",
       "</style>\n",
       "<table border=\"1\" class=\"dataframe\">\n",
       "  <thead>\n",
       "    <tr style=\"text-align: right;\">\n",
       "      <th></th>\n",
       "      <th>reference_id</th>\n",
       "      <th>tag_id</th>\n",
       "    </tr>\n",
       "  </thead>\n",
       "  <tbody>\n",
       "    <tr>\n",
       "      <th>0</th>\n",
       "      <td>100798293</td>\n",
       "      <td>100505134</td>\n",
       "    </tr>\n",
       "    <tr>\n",
       "      <th>1</th>\n",
       "      <td>100798293</td>\n",
       "      <td>100505135</td>\n",
       "    </tr>\n",
       "    <tr>\n",
       "      <th>2</th>\n",
       "      <td>100798293</td>\n",
       "      <td>100505137</td>\n",
       "    </tr>\n",
       "    <tr>\n",
       "      <th>3</th>\n",
       "      <td>100798293</td>\n",
       "      <td>100505138</td>\n",
       "    </tr>\n",
       "    <tr>\n",
       "      <th>4</th>\n",
       "      <td>100798293</td>\n",
       "      <td>100505139</td>\n",
       "    </tr>\n",
       "    <tr>\n",
       "      <th>5</th>\n",
       "      <td>100798294</td>\n",
       "      <td>100505134</td>\n",
       "    </tr>\n",
       "    <tr>\n",
       "      <th>6</th>\n",
       "      <td>100798294</td>\n",
       "      <td>100505139</td>\n",
       "    </tr>\n",
       "    <tr>\n",
       "      <th>7</th>\n",
       "      <td>100798295</td>\n",
       "      <td>100505136</td>\n",
       "    </tr>\n",
       "    <tr>\n",
       "      <th>8</th>\n",
       "      <td>100798295</td>\n",
       "      <td>100505139</td>\n",
       "    </tr>\n",
       "  </tbody>\n",
       "</table>\n",
       "</div>"
      ],
      "text/plain": [
       "   reference_id     tag_id\n",
       "0     100798293  100505134\n",
       "1     100798293  100505135\n",
       "2     100798293  100505137\n",
       "3     100798293  100505138\n",
       "4     100798293  100505139\n",
       "5     100798294  100505134\n",
       "6     100798294  100505139\n",
       "7     100798295  100505136\n",
       "8     100798295  100505139"
      ]
     },
     "execution_count": 10,
     "metadata": {},
     "output_type": "execute_result"
    }
   ],
   "source": [
    "result = client.lit.import_reference_tags(assessment_id, new_tags_df.to_csv(index=False), 'replace')\n",
    "result.head(10)"
   ]
  },
  {
   "cell_type": "markdown",
   "metadata": {},
   "source": [
    "That should do it!"
   ]
  }
 ],
 "metadata": {
  "kernelspec": {
   "display_name": "Python 3",
   "language": "python",
   "name": "python3"
  },
  "language_info": {
   "codemirror_mode": {
    "name": "ipython",
    "version": 3
   },
   "file_extension": ".py",
   "mimetype": "text/x-python",
   "name": "python",
   "nbconvert_exporter": "python",
   "pygments_lexer": "ipython3",
   "version": "3.6.10"
  }
 },
 "nbformat": 4,
 "nbformat_minor": 4
}
