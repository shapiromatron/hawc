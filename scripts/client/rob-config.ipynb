{
 "cells": [
  {
   "cell_type": "markdown",
   "id": "8dab3108-6350-43af-b1e3-759db055e2e1",
   "metadata": {},
   "source": [
    "# Save study evaulation preset configurations\n",
    "\n",
    "*2023-04-04*\n",
    "\n",
    "Save study evaulation configuration for an given assessment if a format that can be used to load a configuration into HAWC. This notebook makes it easy to sync the current state of the scientific methodology for study evaluation and save as a default configuration in HAWC."
   ]
  },
  {
   "cell_type": "code",
   "execution_count": null,
   "id": "b4134e2e-3491-4e7b-87c6-6a6680f27013",
   "metadata": {},
   "outputs": [],
   "source": [
    "import json\n",
    "from pathlib import Path\n",
    "from getpass import getpass\n",
    "\n",
    "from hawc_client import HawcClient"
   ]
  },
  {
   "cell_type": "markdown",
   "id": "c473a70b-14d1-4d63-83c0-560f25bc2669",
   "metadata": {},
   "source": [
    "## Configuration\n",
    "\n",
    "What HAWC website do we use? What asessment? Where do we write the output?"
   ]
  },
  {
   "cell_type": "code",
   "execution_count": null,
   "id": "8a708f0f-0257-4409-b338-1fb65ea236e6",
   "metadata": {},
   "outputs": [],
   "source": [
    "client = HawcClient(input(prompt=\"Domain:\"))\n",
    "client.set_authentication_token(getpass(prompt=\"Token:\"))"
   ]
  },
  {
   "cell_type": "code",
   "execution_count": null,
   "id": "522ad187-f120-4899-991f-dccab17ce815",
   "metadata": {},
   "outputs": [],
   "source": [
    "assessment_id = 12345\n",
    "export_location = Path('example.json')"
   ]
  },
  {
   "cell_type": "markdown",
   "id": "fd40a520-e4ba-491b-ac6e-647941a04d7c",
   "metadata": {},
   "source": [
    "## Execution\n",
    "\n",
    "Content below shouldn't need to be edited; it should properly build the format based on the configuration above."
   ]
  },
  {
   "cell_type": "code",
   "execution_count": null,
   "id": "b4cf45cf-c19e-424e-92b3-900fdc798d92",
   "metadata": {},
   "outputs": [],
   "source": [
    "url = f\"{client.session.root_url}/rob/api/assessment/{assessment_id}/settings/\"\n",
    "settings = client.session.get(url).json()\n",
    "domains = sorted(settings['domains'], key=lambda d: d['sort_order'])"
   ]
  },
  {
   "cell_type": "code",
   "execution_count": null,
   "id": "d7eb6de0-abb1-4e5a-8326-708debf7c80f",
   "metadata": {},
   "outputs": [],
   "source": [
    "url = f\"{client.session.root_url}/rob/api/metric/?assessment_id={assessment_id}\"\n",
    "data = client.session.get(url).json()\n",
    "metrics = sorted(data, key=lambda d: d['sort_order'])"
   ]
  },
  {
   "cell_type": "code",
   "execution_count": null,
   "id": "64ed4712-5be7-406d-b3b8-07c00c92d391",
   "metadata": {},
   "outputs": [],
   "source": [
    "# build serialization format\n",
    "data = {\n",
    "    \"help_text\": settings[\"rob_settings\"][\"help_text\"],\n",
    "    \"domains\": [\n",
    "        {            \n",
    "            \"name\": domain[\"name\"],\n",
    "            \"description\": domain[\"description\"],\n",
    "            \"is_overall_confidence\": domain[\"is_overall_confidence\"],\n",
    "            \"metrics\": [\n",
    "                {                    \n",
    "                    # \"key\": metric[\"key\"],\n",
    "                    \"key\": -1,\n",
    "                    \"name\": metric[\"name\"],\n",
    "                    \"short_name\": metric[\"short_name\"],\n",
    "                    \"description\": metric[\"description\"],\n",
    "                    \"responses\": metric[\"responses\"],\n",
    "                    \"required_animal\": metric[\"required_animal\"],\n",
    "                    \"required_epi\": metric[\"required_epi\"],\n",
    "                    \"required_invitro\": metric[\"required_invitro\"],\n",
    "                    \"hide_description\": metric[\"hide_description\"],\n",
    "                    \"use_short_name\": metric[\"use_short_name\"],\n",
    "                } for metric in metrics if metric['domain'] == domain['id']\n",
    "            ]            \n",
    "        } for domain in domains\n",
    "    ]\n",
    "}"
   ]
  },
  {
   "cell_type": "code",
   "execution_count": null,
   "id": "8a7d52fc-cbd5-4b5f-b6d6-b5a1ca464a0f",
   "metadata": {},
   "outputs": [],
   "source": [
    "# write to disk\n",
    "export_location.expanduser().resolve().write_text(json.dumps(data, indent=2))"
   ]
  }
 ],
 "metadata": {
  "kernelspec": {
   "display_name": "Python 3 (ipykernel)",
   "language": "python",
   "name": "python3"
  },
  "language_info": {
   "codemirror_mode": {
    "name": "ipython",
    "version": 3
   },
   "file_extension": ".py",
   "mimetype": "text/x-python",
   "name": "python",
   "nbconvert_exporter": "python",
   "pygments_lexer": "ipython3",
   "version": "3.9.9"
  }
 },
 "nbformat": 4,
 "nbformat_minor": 5
}
