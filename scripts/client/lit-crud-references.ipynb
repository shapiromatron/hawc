{
 "cells": [
  {
   "cell_type": "markdown",
   "metadata": {},
   "source": [
    "# Updating individual HAWC references\n",
    "\n",
    "This notebook demonstrates using the HAWC client to update the fields of and delete individual HAWC references.\n",
    "\n",
    "Make sure the `hawc_client` is installed. If you need to install it:\n",
    "\n",
    "```bash\n",
    "pip install -U hawc_client\n",
    "```\n",
    "\n",
    "Then, we'll create a new import, find our reference instance from that import, make changes to that reference, and then delete that reference, demonstrating these core functionalities. You must have write permissions for this assessment to perform these actions."
   ]
  },
  {
   "cell_type": "code",
   "execution_count": 1,
   "metadata": {},
   "outputs": [],
   "source": [
    "from getpass import getpass\n",
    "from hawc_client import HawcClient"
   ]
  },
  {
   "cell_type": "markdown",
   "metadata": {},
   "source": [
    "First, setup a HAWC client instance and authenticate with your username and password:"
   ]
  },
  {
   "cell_type": "code",
   "execution_count": 2,
   "metadata": {},
   "outputs": [
    {
     "name": "stdout",
     "output_type": "stream",
     "text": [
      "········\n"
     ]
    }
   ],
   "source": [
    "client = HawcClient('https://hawcproject.org')\n",
    "client.authenticate(email='webmaster@hawcproject.org', password=getpass())\n",
    "assessment_id = 100500210"
   ]
  },
  {
   "cell_type": "markdown",
   "metadata": {},
   "source": [
    "Next, we will create a new HERO import and find our reference through the imported HERO ID. We will then use that reference for updating and deleting operations."
   ]
  },
  {
   "cell_type": "code",
   "execution_count": 3,
   "metadata": {},
   "outputs": [],
   "source": [
    "hero_id = 1037843\n",
    "\n",
    "response = client.lit.import_hero(\n",
    "    assessment_id,\n",
    "    title=\"my import\",\n",
    "    description=\"import description\",\n",
    "    ids=[hero_id]\n",
    ")"
   ]
  },
  {
   "cell_type": "markdown",
   "metadata": {},
   "source": [
    "### Viewing our new reference"
   ]
  },
  {
   "cell_type": "code",
   "execution_count": 4,
   "metadata": {},
   "outputs": [
    {
     "data": {
      "text/plain": [
       "100798300"
      ]
     },
     "execution_count": 4,
     "metadata": {},
     "output_type": "execute_result"
    }
   ],
   "source": [
    "# get HAWC reference ID mapping\n",
    "references=client.lit.reference_ids(assessment_id)\n",
    "reference_id = int(references.query(f'`hero_id` == {hero_id}').reference_id.iloc[0])\n",
    "reference_id"
   ]
  },
  {
   "cell_type": "code",
   "execution_count": 5,
   "metadata": {},
   "outputs": [
    {
     "data": {
      "text/plain": [
       "{'id': 100798300,\n",
       " 'title': 'Application of High-speed Countercurrent Chromatography-Evaporative Light Scattering Detection for the Separation of Seven Steroidal Saponins from Dioscorea villosa',\n",
       " 'authors_short': 'Yoon KD et al.',\n",
       " 'authors': 'Yoon KD, Chin YW, Yang MH, Choi J, Kim J',\n",
       " 'year': None,\n",
       " 'journal': 'Phytochemical Analysis.',\n",
       " 'abstract': 'INTRODUCTION: Steroidal saponins in Dioscorea species are chemically characterised as spirostanol and furostanol saponins, and have been used as standard marker compounds due to their chemotaxonomical significance and their important biological activities. OBJECTIVE: To design a simple, rapid and efficient method for the separation of steroidal saponins with a high degree of purity using high-speed countercurrent chromatography (HSCCC) coupled with evaporative light scattering detection (ELSD). METHODOLOGY: In the first step, reversed-phase mode HSCCC (flow rate: 1.5\\u2009mL/min; revolution speed: 800\\u2009rpm) using n-hexane:n-butanol:water [3:7:10 (v/v/v)] was employed to separate furostanol saponins from n-butanol soluble extracts of Dioscorea villosa. After the first HSCCC run, spirostanol saponins retained in the stationary phase were subjected to the second HSCCC (normal-phase mode; flow rate: 2.0\\u2009mL/min; revolution speed: 800\\u2009rpm). A two-phase solvent system composed of chloroform:methanol:isopropanol:water [10:6:1:4 (v/v/v/v)] was employed in the second HSCCC. The structures of isolates were elucidated by (1) H-NMR, (13) \\u2009C-NMR, ESI-MS and HPLC analysis. RESULTS: Three furostanol saponins, parvifloside (27.3\\u2009mg), methyl protodeltonin (67.1\\u2009mg) and trigofoenoside A-1 (18.5\\u2009mg) were isolated from the n-butanol soluble extract of D. villosa by the first HSCCC run. Subsquent normal-phase HSCCC of the spirostanol-rich extract led to the separation of four spirostanol saponins: zingiberensis saponin I (15.2\\u2009mg), deltonin (31.5\\u2009mg), dioscin (7.7\\u2009mg) and prosapogenin A of dioscin (3.4\\u2009mg). Copyright © 2012 John Wiley &amp; Sons, Ltd.',\n",
       " 'full_text_url': '',\n",
       " 'created': '2020-07-17T14:53:26.162550-05:00',\n",
       " 'last_updated': '2020-07-17T14:53:26.162574-05:00',\n",
       " 'block_id': None,\n",
       " 'assessment': 100500210,\n",
       " 'searches': [100501398],\n",
       " 'identifiers': [100640240]}"
      ]
     },
     "execution_count": 5,
     "metadata": {},
     "output_type": "execute_result"
    }
   ],
   "source": [
    "client.lit.reference(reference_id)"
   ]
  },
  {
   "cell_type": "markdown",
   "metadata": {},
   "source": [
    "## Updating references\n",
    "\n",
    "With a reference ID and named parameters, a reference's fields can be updated. To update reference tags, a parameter `tags` should be passed with a list of tag IDs."
   ]
  },
  {
   "cell_type": "code",
   "execution_count": 6,
   "metadata": {},
   "outputs": [
    {
     "data": {
      "text/plain": [
       "{'id': 100798300,\n",
       " 'title': 'new title',\n",
       " 'authors_short': 'new authors short',\n",
       " 'authors': 'new authors long',\n",
       " 'year': 2020,\n",
       " 'journal': 'journal',\n",
       " 'abstract': 'abstract',\n",
       " 'full_text_url': 'https://google.com',\n",
       " 'created': '2020-07-17T14:53:26.162550-05:00',\n",
       " 'last_updated': '2020-07-17T14:53:26.637205-05:00',\n",
       " 'block_id': None,\n",
       " 'assessment': 100500210,\n",
       " 'searches': [100501398],\n",
       " 'identifiers': [100640240]}"
      ]
     },
     "execution_count": 6,
     "metadata": {},
     "output_type": "execute_result"
    }
   ],
   "source": [
    "response = client.lit.update_reference(\n",
    "    reference_id,    \n",
    "    title=\"new title\",\n",
    "    authors_short=\"new authors short\",\n",
    "    authors=\"new authors long\",\n",
    "    year=2020,\n",
    "    journal=\"journal\",\n",
    "    abstract=\"abstract\",\n",
    "    full_text_url=\"https://google.com\", \n",
    ")\n",
    "response"
   ]
  },
  {
   "cell_type": "markdown",
   "metadata": {},
   "source": [
    "You can even apply tags. Note that applying tags in this fashion will remove any tags previously applied to a reference and replace with the new set.  \n",
    "\n",
    "In this example, we'll apply 3 random tags:"
   ]
  },
  {
   "cell_type": "code",
   "execution_count": 7,
   "metadata": {},
   "outputs": [
    {
     "data": {
      "text/html": [
       "<div>\n",
       "<style scoped>\n",
       "    .dataframe tbody tr th:only-of-type {\n",
       "        vertical-align: middle;\n",
       "    }\n",
       "\n",
       "    .dataframe tbody tr th {\n",
       "        vertical-align: top;\n",
       "    }\n",
       "\n",
       "    .dataframe thead th {\n",
       "        text-align: right;\n",
       "    }\n",
       "</style>\n",
       "<table border=\"1\" class=\"dataframe\">\n",
       "  <thead>\n",
       "    <tr style=\"text-align: right;\">\n",
       "      <th></th>\n",
       "      <th>id</th>\n",
       "      <th>depth</th>\n",
       "      <th>name</th>\n",
       "      <th>nested_name</th>\n",
       "    </tr>\n",
       "  </thead>\n",
       "  <tbody>\n",
       "    <tr>\n",
       "      <th>0</th>\n",
       "      <td>100505134</td>\n",
       "      <td>2</td>\n",
       "      <td>Inclusion</td>\n",
       "      <td>Inclusion</td>\n",
       "    </tr>\n",
       "    <tr>\n",
       "      <th>1</th>\n",
       "      <td>100505135</td>\n",
       "      <td>3</td>\n",
       "      <td>Human Study</td>\n",
       "      <td>Inclusion|Human Study</td>\n",
       "    </tr>\n",
       "    <tr>\n",
       "      <th>2</th>\n",
       "      <td>100505136</td>\n",
       "      <td>3</td>\n",
       "      <td>Animal Study</td>\n",
       "      <td>Inclusion|Animal Study</td>\n",
       "    </tr>\n",
       "    <tr>\n",
       "      <th>3</th>\n",
       "      <td>100505137</td>\n",
       "      <td>3</td>\n",
       "      <td>Mechanistic Study</td>\n",
       "      <td>Inclusion|Mechanistic Study</td>\n",
       "    </tr>\n",
       "    <tr>\n",
       "      <th>4</th>\n",
       "      <td>100505138</td>\n",
       "      <td>2</td>\n",
       "      <td>Exclusion</td>\n",
       "      <td>Exclusion</td>\n",
       "    </tr>\n",
       "  </tbody>\n",
       "</table>\n",
       "</div>"
      ],
      "text/plain": [
       "          id  depth               name                  nested_name\n",
       "0  100505134      2          Inclusion                    Inclusion\n",
       "1  100505135      3        Human Study        Inclusion|Human Study\n",
       "2  100505136      3       Animal Study       Inclusion|Animal Study\n",
       "3  100505137      3  Mechanistic Study  Inclusion|Mechanistic Study\n",
       "4  100505138      2          Exclusion                    Exclusion"
      ]
     },
     "execution_count": 7,
     "metadata": {},
     "output_type": "execute_result"
    }
   ],
   "source": [
    "tags = client.lit.tags(assessment_id)\n",
    "tags.head()"
   ]
  },
  {
   "cell_type": "code",
   "execution_count": 8,
   "metadata": {},
   "outputs": [
    {
     "data": {
      "text/plain": [
       "{'id': 100798300,\n",
       " 'title': 'new title',\n",
       " 'authors_short': 'new authors short',\n",
       " 'authors': 'new authors long',\n",
       " 'year': 2020,\n",
       " 'journal': 'journal',\n",
       " 'abstract': 'abstract',\n",
       " 'full_text_url': 'https://google.com',\n",
       " 'created': '2020-07-17T14:53:26.162550-05:00',\n",
       " 'last_updated': '2020-07-17T14:53:26.980675-05:00',\n",
       " 'block_id': None,\n",
       " 'assessment': 100500210,\n",
       " 'searches': [100501398],\n",
       " 'identifiers': [100640240]}"
      ]
     },
     "execution_count": 8,
     "metadata": {},
     "output_type": "execute_result"
    }
   ],
   "source": [
    "response = client.lit.update_reference(\n",
    "    reference_id,\n",
    "    tags=tags.id.sample(3, replace=False).tolist()\n",
    ")\n",
    "response"
   ]
  },
  {
   "cell_type": "markdown",
   "metadata": {},
   "source": [
    "Confirm the tags were applied:"
   ]
  },
  {
   "cell_type": "code",
   "execution_count": 9,
   "metadata": {},
   "outputs": [
    {
     "data": {
      "text/plain": [
       "[100505136, 100505140, 100505141]"
      ]
     },
     "execution_count": 9,
     "metadata": {},
     "output_type": "execute_result"
    }
   ],
   "source": [
    "ref_tags = client.lit.reference_tags(assessment_id)\n",
    "ref_tags.query(f'reference_id == {reference_id}').tag_id.to_list()"
   ]
  },
  {
   "cell_type": "markdown",
   "metadata": {},
   "source": [
    "## Deleting references\n",
    "\n",
    "A reference can also be deleted from HAWC. \n",
    "\n",
    "**Warning:** This also removes the reference from any searches/imports which may have included the reference. If data was extracted with this reference and it is associated with bioassay or epi extractions they will also be removed."
   ]
  },
  {
   "cell_type": "code",
   "execution_count": 10,
   "metadata": {},
   "outputs": [],
   "source": [
    "client.lit.delete_reference(reference_id)"
   ]
  }
 ],
 "metadata": {
  "kernelspec": {
   "display_name": "Python 3",
   "language": "python",
   "name": "python3"
  },
  "language_info": {
   "codemirror_mode": {
    "name": "ipython",
    "version": 3
   },
   "file_extension": ".py",
   "mimetype": "text/x-python",
   "name": "python",
   "nbconvert_exporter": "python",
   "pygments_lexer": "ipython3",
   "version": "3.6.10"
  }
 },
 "nbformat": 4,
 "nbformat_minor": 4
}
