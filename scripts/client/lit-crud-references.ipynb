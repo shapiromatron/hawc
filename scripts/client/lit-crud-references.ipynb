{
 "cells": [
  {
   "cell_type": "markdown",
   "metadata": {},
   "source": [
    "# Updating individual HAWC references\n",
    "\n",
    "This notebook demonstrates using the HAWC client to update the fields of and delete individual HAWC references.\n",
    "\n",
    "Make sure the `hawc_client` is installed. If you need to install it:\n",
    "\n",
    "```bash\n",
    "pip install -U hawc_client\n",
    "```\n",
    "\n",
    "Then, we'll create a new import, find our reference instance from that import, make changes to that reference, and then delete that reference, demonstrating these core functionalities. You must have write permissions for this assessment to perform these actions."
   ]
  },
  {
   "cell_type": "code",
   "execution_count": 1,
   "metadata": {},
   "outputs": [],
   "source": [
    "from getpass import getpass\n",
    "from hawc_client import HawcClient"
   ]
  },
  {
   "cell_type": "markdown",
   "metadata": {},
   "source": [
    "First, setup a HAWC client instance and authenticate with your username and password:"
   ]
  },
  {
   "cell_type": "code",
   "execution_count": 2,
   "metadata": {},
   "outputs": [
    {
     "name": "stdin",
     "output_type": "stream",
     "text": [
      " ········\n"
     ]
    }
   ],
   "source": [
    "client = HawcClient('https://hawcproject.org')\n",
    "client.authenticate(email='webmaster@hawcproject.org', password=getpass())\n",
    "assessment_id = 100500159"
   ]
  },
  {
   "cell_type": "markdown",
   "metadata": {},
   "source": [
    "Next, we will create a new HERO import and find our reference through the imported HERO ID. We will then use that reference for updating and deleting operations."
   ]
  },
  {
   "cell_type": "code",
   "execution_count": 3,
   "metadata": {},
   "outputs": [],
   "source": [
    "hero_id = 1037843\n",
    "\n",
    "response = client.lit.import_hero(\n",
    "    assessment_id,\n",
    "    title=\"my import\",\n",
    "    description=\"import description\",\n",
    "    ids=[hero_id]\n",
    ")"
   ]
  },
  {
   "cell_type": "markdown",
   "metadata": {},
   "source": [
    "### Viewing our new reference"
   ]
  },
  {
   "cell_type": "code",
   "execution_count": 4,
   "metadata": {},
   "outputs": [
    {
     "data": {
      "text/plain": [
       "100524942"
      ]
     },
     "execution_count": 4,
     "metadata": {},
     "output_type": "execute_result"
    }
   ],
   "source": [
    "# get HAWC reference ID mapping\n",
    "references=client.lit.reference_ids(assessment_id)\n",
    "reference_id = int(references.query(f'`hero_id` == {hero_id}').reference_id.iloc[0])\n",
    "reference_id"
   ]
  },
  {
   "cell_type": "code",
   "execution_count": 5,
   "metadata": {},
   "outputs": [
    {
     "data": {
      "text/plain": [
       "{'id': 100524942,\n",
       " 'title': 'Application of High-speed Countercurrent Chromatography-Evaporative Light Scattering Detection for the Separation of Seven Steroidal Saponins from Dioscorea villosa',\n",
       " 'authors_short': 'Yoon KD et al.',\n",
       " 'authors': 'Yoon KD, Chin YW, Yang MH, Choi J, Kim J',\n",
       " 'year': None,\n",
       " 'journal': 'Phytochemical Analysis.',\n",
       " 'abstract': 'INTRODUCTION: Steroidal saponins in Dioscorea species are chemically characterised as spirostanol and furostanol saponins, and have been used as standard marker compounds due to their chemotaxonomical significance and their important biological activities. OBJECTIVE: To design a simple, rapid and efficient method for the separation of steroidal saponins with a high degree of purity using high-speed countercurrent chromatography (HSCCC) coupled with evaporative light scattering detection (ELSD). METHODOLOGY: In the first step, reversed-phase mode HSCCC (flow rate: 1.5\\u2009mL/min; revolution speed: 800\\u2009rpm) using n-hexane:n-butanol:water [3:7:10 (v/v/v)] was employed to separate furostanol saponins from n-butanol soluble extracts of Dioscorea villosa. After the first HSCCC run, spirostanol saponins retained in the stationary phase were subjected to the second HSCCC (normal-phase mode; flow rate: 2.0\\u2009mL/min; revolution speed: 800\\u2009rpm). A two-phase solvent system composed of chloroform:methanol:isopropanol:water [10:6:1:4 (v/v/v/v)] was employed in the second HSCCC. The structures of isolates were elucidated by (1) H-NMR, (13) \\u2009C-NMR, ESI-MS and HPLC analysis. RESULTS: Three furostanol saponins, parvifloside (27.3\\u2009mg), methyl protodeltonin (67.1\\u2009mg) and trigofoenoside A-1 (18.5\\u2009mg) were isolated from the n-butanol soluble extract of D. villosa by the first HSCCC run. Subsquent normal-phase HSCCC of the spirostanol-rich extract led to the separation of four spirostanol saponins: zingiberensis saponin I (15.2\\u2009mg), deltonin (31.5\\u2009mg), dioscin (7.7\\u2009mg) and prosapogenin A of dioscin (3.4\\u2009mg). Copyright © 2012 John Wiley &amp; Sons, Ltd.',\n",
       " 'full_text_url': '',\n",
       " 'created': '2020-07-27T18:48:12.728175-05:00',\n",
       " 'last_updated': '2020-07-27T18:48:12.728175-05:00',\n",
       " 'block_id': None,\n",
       " 'assessment': 100500159,\n",
       " 'searches': [100500415],\n",
       " 'identifiers': [100526410]}"
      ]
     },
     "execution_count": 5,
     "metadata": {},
     "output_type": "execute_result"
    }
   ],
   "source": [
    "client.lit.reference(reference_id)"
   ]
  },
  {
   "cell_type": "markdown",
   "metadata": {},
   "source": [
    "## Updating references\n",
    "\n",
    "With a reference ID and named parameters, a reference's fields can be updated. To update reference tags, a parameter `tags` should be passed with a list of tag IDs."
   ]
  },
  {
   "cell_type": "code",
   "execution_count": 6,
   "metadata": {},
   "outputs": [
    {
     "data": {
      "text/plain": [
       "{'id': 100524942,\n",
       " 'title': 'new title',\n",
       " 'authors_short': 'new authors short',\n",
       " 'authors': 'new authors long',\n",
       " 'year': 2020,\n",
       " 'journal': 'journal',\n",
       " 'abstract': 'abstract',\n",
       " 'full_text_url': 'https://google.com',\n",
       " 'created': '2020-07-27T18:48:12.728175-05:00',\n",
       " 'last_updated': '2020-07-27T18:48:13.196777-05:00',\n",
       " 'block_id': None,\n",
       " 'assessment': 100500159,\n",
       " 'searches': [100500415],\n",
       " 'identifiers': [100526410]}"
      ]
     },
     "execution_count": 6,
     "metadata": {},
     "output_type": "execute_result"
    }
   ],
   "source": [
    "response = client.lit.update_reference(\n",
    "    reference_id,    \n",
    "    title=\"new title\",\n",
    "    authors_short=\"new authors short\",\n",
    "    authors=\"new authors long\",\n",
    "    year=2020,\n",
    "    journal=\"journal\",\n",
    "    abstract=\"abstract\",\n",
    "    full_text_url=\"https://google.com\", \n",
    ")\n",
    "response"
   ]
  },
  {
   "cell_type": "markdown",
   "metadata": {},
   "source": [
    "You can even apply tags. Note that applying tags in this fashion will remove any tags previously applied to a reference and replace with the new set.  \n",
    "\n",
    "In this example, we'll apply 3 random tags:"
   ]
  },
  {
   "cell_type": "code",
   "execution_count": 7,
   "metadata": {},
   "outputs": [
    {
     "data": {
      "text/html": [
       "<div>\n",
       "<style scoped>\n",
       "    .dataframe tbody tr th:only-of-type {\n",
       "        vertical-align: middle;\n",
       "    }\n",
       "\n",
       "    .dataframe tbody tr th {\n",
       "        vertical-align: top;\n",
       "    }\n",
       "\n",
       "    .dataframe thead th {\n",
       "        text-align: right;\n",
       "    }\n",
       "</style>\n",
       "<table border=\"1\" class=\"dataframe\">\n",
       "  <thead>\n",
       "    <tr style=\"text-align: right;\">\n",
       "      <th></th>\n",
       "      <th>id</th>\n",
       "      <th>depth</th>\n",
       "      <th>name</th>\n",
       "      <th>nested_name</th>\n",
       "    </tr>\n",
       "  </thead>\n",
       "  <tbody>\n",
       "    <tr>\n",
       "      <th>0</th>\n",
       "      <td>100504028</td>\n",
       "      <td>2</td>\n",
       "      <td>Inclusion</td>\n",
       "      <td>Inclusion</td>\n",
       "    </tr>\n",
       "    <tr>\n",
       "      <th>1</th>\n",
       "      <td>100504029</td>\n",
       "      <td>3</td>\n",
       "      <td>Human Study</td>\n",
       "      <td>Inclusion|Human Study</td>\n",
       "    </tr>\n",
       "    <tr>\n",
       "      <th>2</th>\n",
       "      <td>100504030</td>\n",
       "      <td>3</td>\n",
       "      <td>Animal Study</td>\n",
       "      <td>Inclusion|Animal Study</td>\n",
       "    </tr>\n",
       "    <tr>\n",
       "      <th>3</th>\n",
       "      <td>100504031</td>\n",
       "      <td>3</td>\n",
       "      <td>Mechanistic Study</td>\n",
       "      <td>Inclusion|Mechanistic Study</td>\n",
       "    </tr>\n",
       "    <tr>\n",
       "      <th>4</th>\n",
       "      <td>100504032</td>\n",
       "      <td>2</td>\n",
       "      <td>Exclusion</td>\n",
       "      <td>Exclusion</td>\n",
       "    </tr>\n",
       "  </tbody>\n",
       "</table>\n",
       "</div>"
      ],
      "text/plain": [
       "          id  depth               name                  nested_name\n",
       "0  100504028      2          Inclusion                    Inclusion\n",
       "1  100504029      3        Human Study        Inclusion|Human Study\n",
       "2  100504030      3       Animal Study       Inclusion|Animal Study\n",
       "3  100504031      3  Mechanistic Study  Inclusion|Mechanistic Study\n",
       "4  100504032      2          Exclusion                    Exclusion"
      ]
     },
     "execution_count": 7,
     "metadata": {},
     "output_type": "execute_result"
    }
   ],
   "source": [
    "tags = client.lit.tags(assessment_id)\n",
    "tags.head()"
   ]
  },
  {
   "cell_type": "code",
   "execution_count": 8,
   "metadata": {},
   "outputs": [
    {
     "data": {
      "text/plain": [
       "{'id': 100524942,\n",
       " 'title': 'new title',\n",
       " 'authors_short': 'new authors short',\n",
       " 'authors': 'new authors long',\n",
       " 'year': 2020,\n",
       " 'journal': 'journal',\n",
       " 'abstract': 'abstract',\n",
       " 'full_text_url': 'https://google.com',\n",
       " 'created': '2020-07-27T18:48:12.728175-05:00',\n",
       " 'last_updated': '2020-07-27T18:48:13.651524-05:00',\n",
       " 'block_id': None,\n",
       " 'assessment': 100500159,\n",
       " 'searches': [100500415],\n",
       " 'identifiers': [100526410]}"
      ]
     },
     "execution_count": 8,
     "metadata": {},
     "output_type": "execute_result"
    }
   ],
   "source": [
    "response = client.lit.update_reference(\n",
    "    reference_id,\n",
    "    tags=tags.id.sample(3, replace=False).tolist()\n",
    ")\n",
    "response"
   ]
  },
  {
   "cell_type": "markdown",
   "metadata": {},
   "source": [
    "Confirm the tags were applied:"
   ]
  },
  {
   "cell_type": "code",
   "execution_count": 9,
   "metadata": {},
   "outputs": [
    {
     "data": {
      "text/plain": [
       "[100504032, 100504033, 100504034]"
      ]
     },
     "execution_count": 9,
     "metadata": {},
     "output_type": "execute_result"
    }
   ],
   "source": [
    "ref_tags = client.lit.reference_tags(assessment_id)\n",
    "ref_tags.query(f'reference_id == {reference_id}').tag_id.to_list()"
   ]
  },
  {
   "cell_type": "markdown",
   "metadata": {},
   "source": [
    "All of the HERO associated references in an assessment can also have their fields updated with the most current metadata pulled from HERO."
   ]
  },
  {
   "cell_type": "code",
   "execution_count": 10,
   "metadata": {},
   "outputs": [
    {
     "data": {
      "text/plain": [
       "{'id': 100524942,\n",
       " 'title': 'Application of High-speed Countercurrent Chromatography-Evaporative Light Scattering Detection for the Separation of Seven Steroidal Saponins from Dioscorea villosa',\n",
       " 'authors_short': 'Yoon KD et al.',\n",
       " 'authors': 'Yoon KD, Chin YW, Yang MH, Choi J, Kim J',\n",
       " 'year': None,\n",
       " 'journal': 'Phytochemical Analysis.',\n",
       " 'abstract': 'INTRODUCTION: Steroidal saponins in Dioscorea species are chemically characterised as spirostanol and furostanol saponins, and have been used as standard marker compounds due to their chemotaxonomical significance and their important biological activities. OBJECTIVE: To design a simple, rapid and efficient method for the separation of steroidal saponins with a high degree of purity using high-speed countercurrent chromatography (HSCCC) coupled with evaporative light scattering detection (ELSD). METHODOLOGY: In the first step, reversed-phase mode HSCCC (flow rate: 1.5\\u2009mL/min; revolution speed: 800\\u2009rpm) using n-hexane:n-butanol:water [3:7:10 (v/v/v)] was employed to separate furostanol saponins from n-butanol soluble extracts of Dioscorea villosa. After the first HSCCC run, spirostanol saponins retained in the stationary phase were subjected to the second HSCCC (normal-phase mode; flow rate: 2.0\\u2009mL/min; revolution speed: 800\\u2009rpm). A two-phase solvent system composed of chloroform:methanol:isopropanol:water [10:6:1:4 (v/v/v/v)] was employed in the second HSCCC. The structures of isolates were elucidated by (1) H-NMR, (13) \\u2009C-NMR, ESI-MS and HPLC analysis. RESULTS: Three furostanol saponins, parvifloside (27.3\\u2009mg), methyl protodeltonin (67.1\\u2009mg) and trigofoenoside A-1 (18.5\\u2009mg) were isolated from the n-butanol soluble extract of D. villosa by the first HSCCC run. Subsquent normal-phase HSCCC of the spirostanol-rich extract led to the separation of four spirostanol saponins: zingiberensis saponin I (15.2\\u2009mg), deltonin (31.5\\u2009mg), dioscin (7.7\\u2009mg) and prosapogenin A of dioscin (3.4\\u2009mg). Copyright © 2012 John Wiley &amp; Sons, Ltd.',\n",
       " 'full_text_url': 'https://google.com',\n",
       " 'created': '2020-07-27T18:48:12.728175-05:00',\n",
       " 'last_updated': '2020-07-27T18:48:16.713208-05:00',\n",
       " 'block_id': None,\n",
       " 'assessment': 100500159,\n",
       " 'searches': [100500415],\n",
       " 'identifiers': [100526410]}"
      ]
     },
     "execution_count": 10,
     "metadata": {},
     "output_type": "execute_result"
    }
   ],
   "source": [
    "client.lit.update_references_from_hero(assessment_id)\n",
    "client.lit.reference(reference_id)"
   ]
  },
  {
   "cell_type": "markdown",
   "metadata": {},
   "source": [
    "References can also have their HERO IDs replaces. This will also result in the fields being updated with the new HERO ID's metadata.\n",
    "\n",
    "For this endpoint, all of the references must belong to the same assessment and this operation must not result in references with the same HERO ID."
   ]
  },
  {
   "cell_type": "code",
   "execution_count": 11,
   "metadata": {},
   "outputs": [
    {
     "data": {
      "text/plain": [
       "{'id': 100524942,\n",
       " 'title': 'Controlling Size, Amount, and Crystalline Structure of Nanoparticles Deposited on Graphenes for Highly Efficient Energy Conversion and Storage',\n",
       " 'authors_short': 'Choi BG and Park HS',\n",
       " 'authors': 'Choi BG, Park HS',\n",
       " 'year': None,\n",
       " 'journal': 'ChemSusChem.',\n",
       " 'abstract': 'A facilitated electrochemical reaction at the surface of electrodes is crucial for highly efficient energy conversion and storage. Herein, various nanoparticles (NPs) including Au, Pt, Pd, Ru, and RuO(2) , were synthesized in\\u2005situ and directly deposited on the ionic liquid (IL)-functionalized reduced graphene oxides (RGOs) in a controlled manner. The size, amount, and crystalline structures of discrete NPs were readily controlled, giving rise to enhanced methanol oxidation and pseudocapacitance. The well-defined nanostructure of decorated NPs and the favorable interaction between ILs and RGOs (or NPs) facilitated the electrochemical reaction, where NPs acted as electrocatalysts for energy conversion and played the role of redox-active electrodes for energy storage.',\n",
       " 'full_text_url': 'https://google.com',\n",
       " 'created': '2020-07-27T18:48:12.728175-05:00',\n",
       " 'last_updated': '2020-07-27T18:48:18.091760-05:00',\n",
       " 'block_id': None,\n",
       " 'assessment': 100500159,\n",
       " 'searches': [100500415],\n",
       " 'identifiers': [100526408]}"
      ]
     },
     "execution_count": 11,
     "metadata": {},
     "output_type": "execute_result"
    }
   ],
   "source": [
    "new_hero = 1037655\n",
    "replace=[[reference_id,new_hero]]\n",
    "client.lit.replace_hero(assessment_id,replace)\n",
    "client.lit.reference(reference_id)"
   ]
  },
  {
   "cell_type": "markdown",
   "metadata": {},
   "source": [
    "## Deleting references\n",
    "\n",
    "A reference can also be deleted from HAWC. \n",
    "\n",
    "**Warning:** This also removes the reference from any searches/imports which may have included the reference. If data was extracted with this reference and it is associated with bioassay or epi extractions they will also be removed."
   ]
  },
  {
   "cell_type": "code",
   "execution_count": 12,
   "metadata": {},
   "outputs": [],
   "source": [
    "client.lit.delete_reference(reference_id)"
   ]
  }
 ],
 "metadata": {
  "kernelspec": {
   "display_name": "Python 3",
   "language": "python",
   "name": "python3"
  },
  "language_info": {
   "codemirror_mode": {
    "name": "ipython",
    "version": 3
   },
   "file_extension": ".py",
   "mimetype": "text/x-python",
   "name": "python",
   "nbconvert_exporter": "python",
   "pygments_lexer": "ipython3",
   "version": "3.6.10"
  }
 },
 "nbformat": 4,
 "nbformat_minor": 4
}
