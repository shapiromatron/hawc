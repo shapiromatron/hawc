{
 "cells": [
  {
   "cell_type": "markdown",
   "metadata": {},
   "source": [
    "# Creating HAWC bioassay data via the HAWC client\n",
    "\n",
    "This notebook demonstrates using the HAWC client to programmatically create animal bioassay endpoints.\n",
    "\n",
    "Make sure the `hawc_client` is installed. If you need to install it:\n",
    "\n",
    "```bash\n",
    "pip install -U hawc_client\n",
    "```\n",
    "\n",
    "Then, we'll create all the components for a assay, from experiment to individual endpoint. This assumes you have write permission and a HAWC study has been created which is ready for extraction. We also give all possible options for fields in HAWC; in many cases fields are optional with reasonable defaults, so you may not need to specifiy all the options as we do in these examples."
   ]
  },
  {
   "cell_type": "code",
   "execution_count": 1,
   "metadata": {},
   "outputs": [],
   "source": [
    "from getpass import getpass\n",
    "\n",
    "import pandas as pd\n",
    "\n",
    "from hawc_client import HawcClient"
   ]
  },
  {
   "cell_type": "markdown",
   "metadata": {},
   "source": [
    "First, setup a HAWC client instance and authenticate with your username and password:"
   ]
  },
  {
   "cell_type": "code",
   "execution_count": 2,
   "metadata": {},
   "outputs": [
    {
     "name": "stdout",
     "output_type": "stream",
     "text": [
      "········\n"
     ]
    }
   ],
   "source": [
    "client = HawcClient('https://hawcproject.org')\n",
    "client.authenticate(email='webmaster@hawcproject.org', password=getpass())\n",
    "assessment_id = 100500210"
   ]
  },
  {
   "cell_type": "markdown",
   "metadata": {},
   "source": [
    "## Importing a reference and getting ready for extraction\n",
    "\n",
    "1. Import a reference from HERO\n",
    "2. Map the HERO reference ID to the HAWC refernece ID\n",
    "3. Create a \"Study\" in HAWC so it's ready for extraction\n",
    "\n",
    "If you already have studies in HAWC ready for extraction, you can skip this step."
   ]
  },
  {
   "cell_type": "code",
   "execution_count": 3,
   "metadata": {},
   "outputs": [
    {
     "data": {
      "text/plain": [
       "{'assessment': 100500210,\n",
       " 'search_type': 'i',\n",
       " 'source': 2,\n",
       " 'title': 'import title',\n",
       " 'slug': 'import-title',\n",
       " 'description': 'import description',\n",
       " 'search_string': '4322522',\n",
       " 'created': '2020-07-17T14:33:31.830202-05:00',\n",
       " 'last_updated': '2020-07-17T14:33:31.830230-05:00'}"
      ]
     },
     "execution_count": 3,
     "metadata": {},
     "output_type": "execute_result"
    }
   ],
   "source": [
    "# add a new reference\n",
    "hero_id = 4322522\n",
    "\n",
    "response = client.lit.import_hero(\n",
    "    assessment_id,\n",
    "    title=\"import title\",\n",
    "    description=\"import description\",\n",
    "    ids=[hero_id]\n",
    ")\n",
    "response"
   ]
  },
  {
   "cell_type": "code",
   "execution_count": 4,
   "metadata": {},
   "outputs": [
    {
     "data": {
      "text/plain": [
       "100798297"
      ]
     },
     "execution_count": 4,
     "metadata": {},
     "output_type": "execute_result"
    }
   ],
   "source": [
    "# get HAWC reference ID mapping\n",
    "references=client.lit.reference_ids(assessment_id)\n",
    "hawc_reference_id = int(references.query(f'`hero_id` == {hero_id}').reference_id.iloc[0])\n",
    "hawc_reference_id"
   ]
  },
  {
   "cell_type": "markdown",
   "metadata": {},
   "source": [
    "## HAWC metadata\n",
    "\n",
    "There's a large amount of metadata required in HAWC to build all the required components of a bioassay experiment, and without reading the code it can be daunting to determine which enumerated term to put where. Therefore, we request metadata for all elements required to create a bioassay experiment with a single request."
   ]
  },
  {
   "cell_type": "code",
   "execution_count": 5,
   "metadata": {},
   "outputs": [
    {
     "data": {
      "text/plain": [
       "dict_keys(['study', 'experiment', 'animal_group', 'dosing_regime', 'dose_group', 'endpoint'])"
      ]
     },
     "execution_count": 5,
     "metadata": {},
     "output_type": "execute_result"
    }
   ],
   "source": [
    "metadata = client.animal.metadata()\n",
    "metadata.keys()"
   ]
  },
  {
   "cell_type": "markdown",
   "metadata": {},
   "source": [
    "Getting possible values for the COI field in a study for example:"
   ]
  },
  {
   "cell_type": "code",
   "execution_count": 6,
   "metadata": {},
   "outputs": [
    {
     "data": {
      "text/html": [
       "<div>\n",
       "<style scoped>\n",
       "    .dataframe tbody tr th:only-of-type {\n",
       "        vertical-align: middle;\n",
       "    }\n",
       "\n",
       "    .dataframe tbody tr th {\n",
       "        vertical-align: top;\n",
       "    }\n",
       "\n",
       "    .dataframe thead th {\n",
       "        text-align: right;\n",
       "    }\n",
       "</style>\n",
       "<table border=\"1\" class=\"dataframe\">\n",
       "  <thead>\n",
       "    <tr style=\"text-align: right;\">\n",
       "      <th></th>\n",
       "      <th>index</th>\n",
       "      <th>coi_item</th>\n",
       "    </tr>\n",
       "  </thead>\n",
       "  <tbody>\n",
       "    <tr>\n",
       "      <th>0</th>\n",
       "      <td>4</td>\n",
       "      <td>---</td>\n",
       "    </tr>\n",
       "    <tr>\n",
       "      <th>1</th>\n",
       "      <td>0</td>\n",
       "      <td>Authors report they have no COI</td>\n",
       "    </tr>\n",
       "    <tr>\n",
       "      <th>2</th>\n",
       "      <td>1</td>\n",
       "      <td>Authors disclosed COI</td>\n",
       "    </tr>\n",
       "    <tr>\n",
       "      <th>3</th>\n",
       "      <td>5</td>\n",
       "      <td>Not reported; no COI is inferred based on auth...</td>\n",
       "    </tr>\n",
       "    <tr>\n",
       "      <th>4</th>\n",
       "      <td>6</td>\n",
       "      <td>Not reported; a COI is inferred based on autho...</td>\n",
       "    </tr>\n",
       "    <tr>\n",
       "      <th>5</th>\n",
       "      <td>3</td>\n",
       "      <td>Not reported</td>\n",
       "    </tr>\n",
       "    <tr>\n",
       "      <th>6</th>\n",
       "      <td>2</td>\n",
       "      <td>Unknown</td>\n",
       "    </tr>\n",
       "  </tbody>\n",
       "</table>\n",
       "</div>"
      ],
      "text/plain": [
       "  index                                           coi_item\n",
       "0     4                                                ---\n",
       "1     0                    Authors report they have no COI\n",
       "2     1                              Authors disclosed COI\n",
       "3     5  Not reported; no COI is inferred based on auth...\n",
       "4     6  Not reported; a COI is inferred based on autho...\n",
       "5     3                                       Not reported\n",
       "6     2                                            Unknown"
      ]
     },
     "execution_count": 6,
     "metadata": {},
     "output_type": "execute_result"
    }
   ],
   "source": [
    "pd.Series(metadata['study']['coi_reported'], name='coi_item').to_frame().reset_index()"
   ]
  },
  {
   "cell_type": "markdown",
   "metadata": {},
   "source": [
    "Or explorting values for an experiment type:"
   ]
  },
  {
   "cell_type": "code",
   "execution_count": 7,
   "metadata": {},
   "outputs": [
    {
     "data": {
      "text/plain": [
       "{'Ac': 'Acute (<24 hr)',\n",
       " 'St': 'Short-term (1-30 days)',\n",
       " 'Sb': 'Subchronic (30-90 days)',\n",
       " 'Ch': 'Chronic (>90 days)',\n",
       " 'Ca': 'Cancer',\n",
       " 'Me': 'Mechanistic',\n",
       " 'Rp': 'Reproductive',\n",
       " '1r': '1-generation reproductive',\n",
       " '2r': '2-generation reproductive',\n",
       " 'Dv': 'Developmental',\n",
       " 'Ot': 'Other',\n",
       " 'NR': 'Not-reported'}"
      ]
     },
     "execution_count": 7,
     "metadata": {},
     "output_type": "execute_result"
    }
   ],
   "source": [
    "metadata['experiment']['type']"
   ]
  },
  {
   "cell_type": "markdown",
   "metadata": {},
   "source": [
    "Or get the species ID for given names"
   ]
  },
  {
   "cell_type": "code",
   "execution_count": 8,
   "metadata": {},
   "outputs": [
    {
     "data": {
      "text/html": [
       "<div>\n",
       "<style scoped>\n",
       "    .dataframe tbody tr th:only-of-type {\n",
       "        vertical-align: middle;\n",
       "    }\n",
       "\n",
       "    .dataframe tbody tr th {\n",
       "        vertical-align: top;\n",
       "    }\n",
       "\n",
       "    .dataframe thead th {\n",
       "        text-align: right;\n",
       "    }\n",
       "</style>\n",
       "<table border=\"1\" class=\"dataframe\">\n",
       "  <thead>\n",
       "    <tr style=\"text-align: right;\">\n",
       "      <th></th>\n",
       "      <th>name</th>\n",
       "    </tr>\n",
       "    <tr>\n",
       "      <th>id</th>\n",
       "      <th></th>\n",
       "    </tr>\n",
       "  </thead>\n",
       "  <tbody>\n",
       "    <tr>\n",
       "      <th>2</th>\n",
       "      <td>Mouse</td>\n",
       "    </tr>\n",
       "  </tbody>\n",
       "</table>\n",
       "</div>"
      ],
      "text/plain": [
       "     name\n",
       "id       \n",
       "2   Mouse"
      ]
     },
     "execution_count": 8,
     "metadata": {},
     "output_type": "execute_result"
    }
   ],
   "source": [
    "species = pd.DataFrame(data=metadata['animal_group']['species']).set_index('id')\n",
    "strain = pd.DataFrame(data=metadata['animal_group']['strains']).set_index('id')\n",
    "\n",
    "species.query('name.str.contains(\"Mouse\")', engine='python')"
   ]
  },
  {
   "cell_type": "markdown",
   "metadata": {},
   "source": [
    "Thus, we know to use ID 2 for a mouse experiment."
   ]
  },
  {
   "cell_type": "code",
   "execution_count": 9,
   "metadata": {},
   "outputs": [
    {
     "data": {
      "text/html": [
       "<div>\n",
       "<style scoped>\n",
       "    .dataframe tbody tr th:only-of-type {\n",
       "        vertical-align: middle;\n",
       "    }\n",
       "\n",
       "    .dataframe tbody tr th {\n",
       "        vertical-align: top;\n",
       "    }\n",
       "\n",
       "    .dataframe thead th {\n",
       "        text-align: right;\n",
       "    }\n",
       "</style>\n",
       "<table border=\"1\" class=\"dataframe\">\n",
       "  <thead>\n",
       "    <tr style=\"text-align: right;\">\n",
       "      <th></th>\n",
       "      <th>species_id</th>\n",
       "      <th>name</th>\n",
       "    </tr>\n",
       "    <tr>\n",
       "      <th>id</th>\n",
       "      <th></th>\n",
       "      <th></th>\n",
       "    </tr>\n",
       "  </thead>\n",
       "  <tbody>\n",
       "    <tr>\n",
       "      <th>4</th>\n",
       "      <td>2</td>\n",
       "      <td>B6C3F1</td>\n",
       "    </tr>\n",
       "    <tr>\n",
       "      <th>6</th>\n",
       "      <td>2</td>\n",
       "      <td>C57BL/6</td>\n",
       "    </tr>\n",
       "    <tr>\n",
       "      <th>7</th>\n",
       "      <td>2</td>\n",
       "      <td>BALB/c</td>\n",
       "    </tr>\n",
       "    <tr>\n",
       "      <th>12</th>\n",
       "      <td>2</td>\n",
       "      <td>Other</td>\n",
       "    </tr>\n",
       "    <tr>\n",
       "      <th>13</th>\n",
       "      <td>2</td>\n",
       "      <td>OF-1</td>\n",
       "    </tr>\n",
       "    <tr>\n",
       "      <th>15</th>\n",
       "      <td>2</td>\n",
       "      <td>Crj:BDF1</td>\n",
       "    </tr>\n",
       "    <tr>\n",
       "      <th>16</th>\n",
       "      <td>2</td>\n",
       "      <td>ERβ -/- (C57)</td>\n",
       "    </tr>\n",
       "    <tr>\n",
       "      <th>17</th>\n",
       "      <td>2</td>\n",
       "      <td>ERβ WT (C57)</td>\n",
       "    </tr>\n",
       "    <tr>\n",
       "      <th>18</th>\n",
       "      <td>2</td>\n",
       "      <td>C57</td>\n",
       "    </tr>\n",
       "    <tr>\n",
       "      <th>19</th>\n",
       "      <td>2</td>\n",
       "      <td>Swiss albino OF1</td>\n",
       "    </tr>\n",
       "    <tr>\n",
       "      <th>20</th>\n",
       "      <td>2</td>\n",
       "      <td>Crl:CD-1(ICR)BR</td>\n",
       "    </tr>\n",
       "    <tr>\n",
       "      <th>22</th>\n",
       "      <td>2</td>\n",
       "      <td>C57BL/6</td>\n",
       "    </tr>\n",
       "    <tr>\n",
       "      <th>23</th>\n",
       "      <td>2</td>\n",
       "      <td>C57BL/6J</td>\n",
       "    </tr>\n",
       "    <tr>\n",
       "      <th>25</th>\n",
       "      <td>2</td>\n",
       "      <td>129/SV</td>\n",
       "    </tr>\n",
       "    <tr>\n",
       "      <th>26</th>\n",
       "      <td>2</td>\n",
       "      <td>ICR</td>\n",
       "    </tr>\n",
       "    <tr>\n",
       "      <th>27</th>\n",
       "      <td>2</td>\n",
       "      <td>129/SV PPARα null</td>\n",
       "    </tr>\n",
       "    <tr>\n",
       "      <th>29</th>\n",
       "      <td>2</td>\n",
       "      <td>C57BL/6n</td>\n",
       "    </tr>\n",
       "    <tr>\n",
       "      <th>30</th>\n",
       "      <td>2</td>\n",
       "      <td>BALB/c</td>\n",
       "    </tr>\n",
       "    <tr>\n",
       "      <th>33</th>\n",
       "      <td>2</td>\n",
       "      <td>CD-1</td>\n",
       "    </tr>\n",
       "    <tr>\n",
       "      <th>34</th>\n",
       "      <td>2</td>\n",
       "      <td>129/Sv humanized PPARα</td>\n",
       "    </tr>\n",
       "  </tbody>\n",
       "</table>\n",
       "</div>"
      ],
      "text/plain": [
       "    species_id                    name\n",
       "id                                    \n",
       "4            2                  B6C3F1\n",
       "6            2                 C57BL/6\n",
       "7            2                  BALB/c\n",
       "12           2                   Other\n",
       "13           2                    OF-1\n",
       "15           2                Crj:BDF1\n",
       "16           2           ERβ -/- (C57)\n",
       "17           2            ERβ WT (C57)\n",
       "18           2                     C57\n",
       "19           2        Swiss albino OF1\n",
       "20           2         Crl:CD-1(ICR)BR\n",
       "22           2                 C57BL/6\n",
       "23           2                C57BL/6J\n",
       "25           2                  129/SV\n",
       "26           2                     ICR\n",
       "27           2       129/SV PPARα null\n",
       "29           2                C57BL/6n\n",
       "30           2                  BALB/c\n",
       "33           2                    CD-1\n",
       "34           2  129/Sv humanized PPARα"
      ]
     },
     "execution_count": 9,
     "metadata": {},
     "output_type": "execute_result"
    }
   ],
   "source": [
    "strain.query('species_id==2').head(20)"
   ]
  },
  {
   "cell_type": "markdown",
   "metadata": {},
   "source": [
    "And then we can query various mouse strains as shown above.\n",
    "\n",
    "## Converting a HAWC  reference to a Study for data extraction"
   ]
  },
  {
   "cell_type": "code",
   "execution_count": 5,
   "metadata": {},
   "outputs": [
    {
     "data": {
      "text/plain": [
       "100798297"
      ]
     },
     "execution_count": 5,
     "metadata": {},
     "output_type": "execute_result"
    }
   ],
   "source": [
    "# create a new study from that reference\n",
    "data = dict(\n",
    "    bioassay=True,\n",
    "    epi=False,\n",
    "    epi_meta=False,\n",
    "    in_vitro=False,\n",
    "    coi_reported=3,\n",
    "    coi_details=\"\",\n",
    "    funding_source='Acme industries',\n",
    "    study_identifier=\"4322522\",\n",
    "    contact_author=False,\n",
    "    ask_author=\"\",\n",
    "    published=True,\n",
    "    summary=\"\",\n",
    "    editable=True,\n",
    ")\n",
    "study = client.study.create(\n",
    "    reference_id=hawc_reference_id,\n",
    "    short_citation=\"York, 2003, 4322522\",\n",
    "    full_citation=\"York RG. 2003. Oral (galvage) dosage-range developmental toxicity study of potassium perfluorobutane sulfonate (PFBS) in rats.\",\n",
    "    data=data    \n",
    ")\n",
    "study['id']"
   ]
  },
  {
   "cell_type": "markdown",
   "metadata": {},
   "source": [
    "## Creating experiments\n",
    "\n",
    "Next, we'll create an experiment. The are a number of options available for metadata to add, and at this point the only way to determine what options are available are by reading the HAWC model source code. Hopefully we'll have useful utilities in the future which can provide more details on the metata. \n",
    "\n",
    "Feel free to [contact us](https://hawcproject.org/contact/) if you get stuck.\n",
    "\n",
    "We'll create an experiment:\n"
   ]
  },
  {
   "cell_type": "code",
   "execution_count": 6,
   "metadata": {},
   "outputs": [
    {
     "data": {
      "text/plain": [
       "100500580"
      ]
     },
     "execution_count": 6,
     "metadata": {},
     "output_type": "execute_result"
    }
   ],
   "source": [
    "data = dict(\n",
    "    study_id=study['id'],     \n",
    "    name=\"30 day oral\",     \n",
    "    type=\"St\",\n",
    "    has_multiple_generations=False,\n",
    "    chemical=\"2,3,7,8-Tetrachlorodibenzo-P-dioxin\",\n",
    "    cas=\"1746-01-6\",\n",
    "    dtxsid=\"DTXSID6026296\",\n",
    "    chemical_source=\"ABC Inc.\",\n",
    "    purity_available=True,\n",
    "    purity_qualifier=\"≥\",\n",
    "    purity=99.9,\n",
    "    vehicle=\"DMSO\",\n",
    "    guideline_compliance=\"not reported\",\n",
    "    description=\"Details here.\"\n",
    ")\n",
    "experiment = client.animal.create_experiment(data)\n",
    "experiment['id']"
   ]
  },
  {
   "cell_type": "markdown",
   "metadata": {},
   "source": [
    "# Creating animal groups and dosing regimes\n",
    "\n",
    "Now that we've created an experiment, we can associate an animal-group and dosing regime with the experiment.\n",
    "\n",
    "In many cases, the animal-groups being observed will have an associated dosing regime applied."
   ]
  },
  {
   "cell_type": "code",
   "execution_count": 7,
   "metadata": {},
   "outputs": [
    {
     "data": {
      "text/plain": [
       "100501313"
      ]
     },
     "execution_count": 7,
     "metadata": {},
     "output_type": "execute_result"
    }
   ],
   "source": [
    "data = dict(\n",
    "    experiment_id=experiment['id'],     \n",
    "    name=\"Female C57BL/6 Mice\",\n",
    "    species=2,\n",
    "    strain=6,\n",
    "    sex=\"F\",\n",
    "    animal_source=\"Charles River\",\n",
    "    lifestage_exposed=\"Adult\",\n",
    "    lifestage_assessed=\"Adult\",\n",
    "    generation=\"\",\n",
    "    comments=\"Detailed comments here\",\n",
    "    diet=\"...\",\n",
    "    dosing_regime=dict(\n",
    "        route_of_exposure= \"OR\",\n",
    "        duration_exposure=30,\n",
    "        duration_exposure_text=\"30 days\",\n",
    "        duration_observation=180,\n",
    "        num_dose_groups=3,\n",
    "        positive_control=True,\n",
    "        negative_control=\"VT\",\n",
    "        description=\"...\",\n",
    "        doses = [\n",
    "            {\"dose_group_id\": 0, \"dose\": 0, \"dose_units_id\": 1},\n",
    "            {\"dose_group_id\": 1, \"dose\": 50, \"dose_units_id\": 1},\n",
    "            {\"dose_group_id\": 2, \"dose\": 100, \"dose_units_id\": 1},\n",
    "            {\"dose_group_id\": 0, \"dose\": 0, \"dose_units_id\": 2},\n",
    "            {\"dose_group_id\": 1, \"dose\": 3.7, \"dose_units_id\": 2},\n",
    "            {\"dose_group_id\": 2, \"dose\": 11.4, \"dose_units_id\": 2},\n",
    "        ],\n",
    "    )\n",
    ")\n",
    "animal_group1 = client.animal.create_animal_group(data)\n",
    "animal_group_id = animal_group1['id']\n",
    "dosing_regime_id = animal_group1['dosing_regime']['id']\n",
    "animal_group_id"
   ]
  },
  {
   "cell_type": "markdown",
   "metadata": {},
   "source": [
    "However, for developmental/reproductive studies, you can also specify a dosing regime which was applied to another group: "
   ]
  },
  {
   "cell_type": "code",
   "execution_count": 9,
   "metadata": {},
   "outputs": [
    {
     "data": {
      "text/plain": [
       "100501314"
      ]
     },
     "execution_count": 9,
     "metadata": {},
     "output_type": "execute_result"
    }
   ],
   "source": [
    "data = dict(\n",
    "    experiment_id=experiment['id'],     \n",
    "    name=\"F1 Male/Female C57BL/6 Mice\",\n",
    "    species=2,\n",
    "    strain=6,\n",
    "    sex=\"C\",\n",
    "    parent_ids=[animal_group_id],\n",
    "    siblings_id=animal_group_id,\n",
    "    animal_source=\"Charles River\",\n",
    "    lifestage_exposed=\"Adult\",\n",
    "    lifestage_assessed=\"Adult\",\n",
    "    dosing_regime_id=dosing_regime_id,\n",
    "    generation=\"F1\",\n",
    "    comments=\"Detailed comments here\",\n",
    "    diet=\"...\",\n",
    ")\n",
    "animal_group2 = client.animal.create_animal_group(data)\n",
    "animal_group2['id']"
   ]
  },
  {
   "cell_type": "markdown",
   "metadata": {},
   "source": [
    "## Creating endpoints\n",
    "\n",
    "There are many options for creating an endpoint:"
   ]
  },
  {
   "cell_type": "code",
   "execution_count": 10,
   "metadata": {},
   "outputs": [
    {
     "data": {
      "text/plain": [
       "100513489"
      ]
     },
     "execution_count": 10,
     "metadata": {},
     "output_type": "execute_result"
    }
   ],
   "source": [
    "data = dict(\n",
    "    animal_group_id=animal_group_id,\n",
    "    name='Relative liver weight', # or name_term:int from controlled vocabulary\n",
    "    system='Hepatic', # or system_term:int from controlled vocabulary\n",
    "    organ=\"Liver\", # or organ_term:int from controlled vocabulary\n",
    "    effect=\"Organ weight\", # or effect_term:int from controlled vocabulary\n",
    "    effect_subtype=\"Relative weight\", # or effect_subtype_term:int from controlled vocabulary\n",
    "    litter_effects=\"NA\",\n",
    "    litter_effect_notes=\"\",\n",
    "    observation_time=104,\n",
    "    observation_time_units=5,\n",
    "    observation_time_text=\"104 weeks\",\n",
    "    data_location=\"Figure 2B\",\n",
    "    expected_adversity_direction=3,\n",
    "    response_units=\"g/100g BW\",\n",
    "    data_type=\"C\",\n",
    "    variance_type=1,\n",
    "    confidence_interval=0.95,\n",
    "    NOEL=1,  # should be the corresponding dose_group_id below or -999\n",
    "    LOEL=2,  # should be the corresponding dose_group_id below or -999\n",
    "    FEL=-999,  # should be the corresponding dose_group_id below or -999\n",
    "    data_reported=True,\n",
    "    data_extracted=True,\n",
    "    values_estimated=False,\n",
    "    monotonicity=8,\n",
    "    statistical_test=\"ANOVA + Dunnett's test\",\n",
    "    trend_value=0.0123,\n",
    "    trend_result=2,\n",
    "    diagnostic=\"...\",\n",
    "    power_notes=\"...\",\n",
    "    results_notes=\"...\",\n",
    "    endpoint_notes=\"...\",\n",
    "    groups=[\n",
    "        dict(\n",
    "            dose_group_id=0,\n",
    "            n=10,\n",
    "            incidence=None,\n",
    "            response=4.35,\n",
    "            variance=0.29,\n",
    "            significant=False,\n",
    "            significance_level=None,\n",
    "        ),\n",
    "        dict(\n",
    "            dose_group_id=1,\n",
    "            n=10,\n",
    "            incidence=None,\n",
    "            response=5.81,\n",
    "            variance=0.47,\n",
    "            significant=False,\n",
    "            significance_level=None,\n",
    "        ),\n",
    "        dict(\n",
    "            dose_group_id=2,\n",
    "            n=10,\n",
    "            incidence=None,\n",
    "            response=7.72,\n",
    "            variance=0.63,\n",
    "            significant=True,\n",
    "            significance_level=0.035,\n",
    "        )\n",
    "    ],\n",
    ")\n",
    "endpoint = client.animal.create_endpoint(data)\n",
    "endpoint[\"id\"]"
   ]
  },
  {
   "cell_type": "markdown",
   "metadata": {},
   "source": [
    "To create an endpoint with no response data:"
   ]
  },
  {
   "cell_type": "code",
   "execution_count": 12,
   "metadata": {},
   "outputs": [
    {
     "data": {
      "text/plain": [
       "100513491"
      ]
     },
     "execution_count": 12,
     "metadata": {},
     "output_type": "execute_result"
    }
   ],
   "source": [
    "data = dict(\n",
    "    animal_group_id=animal_group_id,\n",
    "    name='Relative liver weight',\n",
    "    system='Hepatic',\n",
    "    organ=\"Liver\",\n",
    "    effect=\"Organ weight\",\n",
    "    effect_subtype=\"Relative weight\",\n",
    "    litter_effects=\"NA\",\n",
    "    litter_effect_notes=\"\",\n",
    "    observation_time=104,\n",
    "    observation_time_units=5,\n",
    "    observation_time_text=\"104 weeks\",\n",
    "    data_location=\"Figure 2B\",\n",
    "    expected_adversity_direction=3,\n",
    "    response_units=\"g/100g BW\",\n",
    "    data_type=\"NR\",\n",
    "    variance_type=3,\n",
    "    data_reported=True,\n",
    "    data_extracted=False,\n",
    "    values_estimated=False,\n",
    "    diagnostic=\"...\",\n",
    "    power_notes=\"...\",\n",
    "    results_notes=\"...\",\n",
    "    endpoint_notes=\"...\",    \n",
    ")\n",
    "endpoint = client.animal.create_endpoint(data)\n",
    "endpoint[\"id\"]"
   ]
  }
 ],
 "metadata": {
  "kernelspec": {
   "display_name": "Python 3",
   "language": "python",
   "name": "python3"
  },
  "language_info": {
   "codemirror_mode": {
    "name": "ipython",
    "version": 3
   },
   "file_extension": ".py",
   "mimetype": "text/x-python",
   "name": "python",
   "nbconvert_exporter": "python",
   "pygments_lexer": "ipython3",
   "version": "3.6.12"
  }
 },
 "nbformat": 4,
 "nbformat_minor": 4
}
