{
 "cells": [
  {
   "cell_type": "code",
   "execution_count": null,
   "metadata": {},
   "outputs": [],
   "source": [
    "# Import our Python client\n",
    "from hawc_client import HawcClient\n",
    "# We will need pandas for DataFrames and getpass for login\n",
    "import pandas as pd\n",
    "import getpass"
   ]
  },
  {
   "cell_type": "markdown",
   "metadata": {},
   "source": [
    "# Login to HAWC"
   ]
  },
  {
   "cell_type": "code",
   "execution_count": null,
   "metadata": {},
   "outputs": [],
   "source": [
    "# HAWC domain you're trying to reach\n",
    "domain = input(\"Domain: \")\n",
    "# Your username\n",
    "username = input(\"Username: \")\n",
    "# Your password\n",
    "password = getpass.getpass(\"Password: \")\n",
    "\n",
    "# This is our client instance, which we will be using to access HAWC\n",
    "client = HawcClient(domain)\n",
    "client.authenticate(username,password)\n",
    "\n",
    "print(\"Authentication successful\")"
   ]
  },
  {
   "cell_type": "markdown",
   "metadata": {},
   "source": [
    "# Upload Excel file"
   ]
  },
  {
   "cell_type": "code",
   "execution_count": null,
   "metadata": {},
   "outputs": [],
   "source": [
    "# Get the pathname for your file\n",
    "filepath = input(\"Excel filepath: \")\n",
    "# Column header for the HERO IDs\n",
    "hero_column = input(\"HERO column name: \")\n",
    "# Column header for tags\n",
    "tag_column = input(\"Tag column name: \")\n",
    "# Now we read in the file as a dataframe\n",
    "excel_df = pd.read_excel(filepath)\n",
    "if hero_column not in excel_df.columns:\n",
    "    raise Exception(f\"Column '{hero_column}' not in Excel sheet\")\n",
    "if tag_column not in excel_df.columns:\n",
    "    raise Exception(f\"Column '{tag_column}' not in Excel sheet\")\n",
    "print(\"Excel file read\")\n",
    "print(excel_df[[hero_column,tag_column]])"
   ]
  },
  {
   "cell_type": "markdown",
   "metadata": {},
   "source": [
    "# Import HERO IDs"
   ]
  },
  {
   "cell_type": "code",
   "execution_count": null,
   "metadata": {},
   "outputs": [],
   "source": [
    "# Assessment that you will be working with\n",
    "assessment_id = input(\"Assessment ID: \")"
   ]
  },
  {
   "cell_type": "code",
   "execution_count": null,
   "metadata": {},
   "outputs": [],
   "source": [
    "# Some of the HERO IDs may be missing from HAWC\n",
    "# Prepare an import of missing references into HAWC\n",
    "hero_ids = set(excel_df[hero_column])\n",
    "print(\"HERO Import Parameters\")\n",
    "title = input(\"Import title: \")\n",
    "description = input(\"Import description: \")"
   ]
  },
  {
   "cell_type": "code",
   "execution_count": null,
   "metadata": {},
   "outputs": [],
   "source": [
    "# Import the references into HAWC\n",
    "print(\"Importing HERO IDs...\")\n",
    "client.lit.import_hero(assessment_id,title,description,hero_ids)"
   ]
  },
  {
   "cell_type": "markdown",
   "metadata": {},
   "source": [
    "# Map Excel tags to HAWC tags"
   ]
  },
  {
   "cell_type": "markdown",
   "metadata": {},
   "source": [
    "## Excel tags"
   ]
  },
  {
   "cell_type": "code",
   "execution_count": null,
   "metadata": {},
   "outputs": [],
   "source": [
    "# All unique tags from excel file\n",
    "excel_tags = excel_df[tag_column].unique()\n",
    "print(\"Tags in Excel:\")\n",
    "print(pd.Series(excel_tags))"
   ]
  },
  {
   "cell_type": "markdown",
   "metadata": {},
   "source": [
    "## HAWC tags"
   ]
  },
  {
   "cell_type": "code",
   "execution_count": null,
   "metadata": {},
   "outputs": [],
   "source": [
    "# Get and print tags from assessment\n",
    "assessment_tags = client.lit.tags(assessment_id)\n",
    "print(\"Tags in HAWC:\")\n",
    "print(assessment_tags[[\"id\",\"nested_name\"]])"
   ]
  },
  {
   "cell_type": "markdown",
   "metadata": {},
   "source": [
    "## Map tags"
   ]
  },
  {
   "cell_type": "code",
   "execution_count": null,
   "metadata": {},
   "outputs": [],
   "source": [
    "# Map the excel tag with the matching HAWC tag ID\n",
    "# Submitting without input will skip that tag\n",
    "print(\"Map the Excel tags with their matching HAWC tag ID.\")\n",
    "print(\"Submitting without input will skip that tag.\")\n",
    "tag_id_mapping = dict()\n",
    "tag_name_mapping = dict()\n",
    "for excel_tag in excel_tags:\n",
    "    value = input(excel_tag)\n",
    "    if value == \"\":\n",
    "        tag_name_mapping[excel_tag] = \"<omitted>\"\n",
    "        print(\"Tag omitted\")\n",
    "        continue\n",
    "    tag_id = int(value)\n",
    "    tag_id_mapping[excel_tag] = tag_id\n",
    "    tag_name_mapping[excel_tag] = assessment_tags[assessment_tags['id']==tag_id].iloc[0]['nested_name']\n",
    "    print(f\"'{excel_tag}' mapped to '{tag_name_mapping[excel_tag]}'\")"
   ]
  },
  {
   "cell_type": "markdown",
   "metadata": {},
   "source": [
    "## Result"
   ]
  },
  {
   "cell_type": "code",
   "execution_count": null,
   "metadata": {},
   "outputs": [],
   "source": [
    "# Prints the mapping of excel tags to HAWC tags that will be used during import\n",
    "tag_mapping_df = pd.DataFrame(list(tag_name_mapping.items()),columns=[\"Excel Tag\", \"HAWC Tag\"])\n",
    "tag_mapping_df"
   ]
  },
  {
   "cell_type": "markdown",
   "metadata": {},
   "source": [
    "# Import reference tags"
   ]
  },
  {
   "cell_type": "code",
   "execution_count": null,
   "metadata": {},
   "outputs": [],
   "source": [
    "# Prepare the excel dataframe for import\n",
    "hero_tag_df = excel_df.copy()\n",
    "hero_tag_df[tag_column] = hero_tag_df[tag_column].map(tag_id_mapping)\n",
    "hero_tag_df = hero_tag_df[[hero_column,tag_column]].rename(columns={hero_column:'hero_id',tag_column:'tag_id'}).dropna()"
   ]
  },
  {
   "cell_type": "code",
   "execution_count": null,
   "metadata": {},
   "outputs": [],
   "source": [
    "# Export references ids and corresponding HERO ids for given assessment\n",
    "ref_to_hero = client.lit.reference_ids(assessment_id)\n",
    "# Create dataframe that has HAWC reference ids with corresponding tag ids\n",
    "ref_tag_df = ref_to_hero.merge(hero_tag_df, on=\"hero_id\")[['reference_id','tag_id']].drop_duplicates()"
   ]
  },
  {
   "cell_type": "code",
   "execution_count": null,
   "metadata": {},
   "outputs": [],
   "source": [
    "# Import the tags\n",
    "# The operation can be either \"append\" or \"replace\"\n",
    "client.lit.import_reference_tags(assessment_id,csv=ref_tag_df.to_csv(index=False),operation=\"append\")"
   ]
  },
  {
   "cell_type": "markdown",
   "metadata": {},
   "source": [
    "HERO IDs and their tags have been imported"
   ]
  }
 ],
 "metadata": {
  "kernelspec": {
   "display_name": "Python 3.6.10 64-bit",
   "language": "python",
   "name": "python361064bit9671e5a6646d49a981abfbee97292c71"
  },
  "language_info": {
   "codemirror_mode": {
    "name": "ipython",
    "version": 3
   },
   "file_extension": ".py",
   "mimetype": "text/x-python",
   "name": "python",
   "nbconvert_exporter": "python",
   "pygments_lexer": "ipython3",
   "version": "3.6.10"
  }
 },
 "nbformat": 4,
 "nbformat_minor": 4
}
