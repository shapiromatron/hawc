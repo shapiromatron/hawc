{
 "cells": [
  {
   "cell_type": "code",
   "execution_count": 1,
   "metadata": {},
   "outputs": [],
   "source": [
    "# Import our Python client\n",
    "from hawc_client import HawcClient\n",
    "# We will need pandas for DataFrames and getpass for login\n",
    "import pandas as pd\n",
    "import numpy\n",
    "import getpass\n"
   ]
  },
  {
   "cell_type": "markdown",
   "metadata": {},
   "source": [
    "# Login to HAWC"
   ]
  },
  {
   "cell_type": "code",
   "execution_count": 54,
   "metadata": {},
   "outputs": [
    {
     "name": "stdin",
     "output_type": "stream",
     "text": [
      "Domain:  https://hawcprd.epa.gov\n",
      "Username:  rabstejnek.daniel@epa.gov\n",
      "Password:  ·············\n"
     ]
    },
    {
     "name": "stdout",
     "output_type": "stream",
     "text": [
      "Authentication successful\n"
     ]
    }
   ],
   "source": [
    "# Define the domain you're trying to reach and your username here\n",
    "domain = input(\"Domain: \")\n",
    "username = input(\"Username: \")\n",
    "# You will then be prompted for your password\n",
    "password = getpass.getpass(\"Password: \")\n",
    "\n",
    "# This is our client instance, which we will be using to access HAWC\n",
    "client = HawcClient(domain)\n",
    "client.authenticate(username,password)\n",
    "\n",
    "print(\"Authentication successful\")"
   ]
  },
  {
   "cell_type": "markdown",
   "metadata": {},
   "source": [
    "# Upload Excel file"
   ]
  },
  {
   "cell_type": "code",
   "execution_count": 70,
   "metadata": {},
   "outputs": [
    {
     "name": "stdin",
     "output_type": "stream",
     "text": [
      "Excel filepath:  C:\\Users\\drabstej\\OneDrive - Environmental Protection Agency (EPA)\\Profile\\Documents\\PFAS-CF4_PQ_09082020_for_HAWC Tree.xlsx\n",
      "HERO column name:  HERO ID\n",
      "Tag column name:  Tag\n"
     ]
    },
    {
     "name": "stdout",
     "output_type": "stream",
     "text": [
      "Excel file read\n",
      "     HERO ID                                        Tag\n",
      "0    1053534                            TIAB - Excluded\n",
      "1    1089845                            TIAB - Excluded\n",
      "2    1182073                            TIAB - Excluded\n",
      "3    1186894               TIAB - Supplemental material\n",
      "4    1186894  Supplemental Material Type -> Mechanistic\n",
      "..       ...                                        ...\n",
      "426  6590794                            TIAB - Excluded\n",
      "427  6590799                            TIAB - Excluded\n",
      "428  6591429                            TIAB - Excluded\n",
      "429  6591843                            TIAB - Excluded\n",
      "430  6591991                            TIAB - Excluded\n",
      "\n",
      "[431 rows x 2 columns]\n"
     ]
    }
   ],
   "source": [
    "# Get the pathname for your file\n",
    "filepath = input(\"Excel filepath: \")\n",
    "hero_column = input(\"HERO column name: \")\n",
    "tag_column = input(\"Tag column name: \")\n",
    "# Now we read in the file as a dataframe\n",
    "excel_df = pd.read_excel(filepath)\n",
    "if hero_column not in excel_df.columns:\n",
    "    raise Exception(f\"Column '{hero_column}' not in Excel sheet\")\n",
    "if tag_column not in excel_df.columns:\n",
    "    raise Exception(f\"Column '{tag_column}' not in Excel sheet\")\n",
    "print(\"Excel file read\")\n",
    "print(excel_df[[hero_column,tag_column]])"
   ]
  },
  {
   "cell_type": "markdown",
   "metadata": {},
   "source": [
    "# Import HERO IDs"
   ]
  },
  {
   "cell_type": "code",
   "execution_count": 71,
   "metadata": {},
   "outputs": [
    {
     "name": "stdin",
     "output_type": "stream",
     "text": [
      "Assessment ID:  100500223\n"
     ]
    }
   ],
   "source": [
    "assessment_id = input(\"Assessment ID: \")"
   ]
  },
  {
   "cell_type": "code",
   "execution_count": 37,
   "metadata": {},
   "outputs": [
    {
     "name": "stdout",
     "output_type": "stream",
     "text": [
      "HERO Import Parameters\n"
     ]
    },
    {
     "name": "stdin",
     "output_type": "stream",
     "text": [
      "Import title:  PFAS-CF4_PQ_09082020\n",
      "Import description:  \n"
     ]
    }
   ],
   "source": [
    "# Ensure that all of the HERO ids are in HAWC as references.\n",
    "hero_ids = set(excel_df[hero_column])\n",
    "print(\"HERO Import Parameters\")\n",
    "title = input(\"Import title: \")\n",
    "description = input(\"Import description: \")"
   ]
  },
  {
   "cell_type": "code",
   "execution_count": 38,
   "metadata": {},
   "outputs": [
    {
     "name": "stdout",
     "output_type": "stream",
     "text": [
      "Importing HERO IDs...\n"
     ]
    },
    {
     "data": {
      "text/plain": [
       "{'assessment': 100500223,\n",
       " 'search_type': 'i',\n",
       " 'source': 2,\n",
       " 'title': 'PFAS-CF4_PQ_09082020',\n",
       " 'slug': 'pfas-cf4_pq_09082020',\n",
       " 'description': '',\n",
       " 'search_string': '6590464,6590470,6588427,6590476,6588432,4155416,6588447,6588451,6590501,6588460,6588461,6588464,6590515,6590536,6588490,6588491,6588494,6588497,6588498,6588504,6588506,6590570,3569773,6588548,6588549,6588551,6590602,6588561,6588562,6588567,6590616,6590618,6590631,6590632,6588590,6590645,6590649,6590650,6590652,6588607,6588609,6590657,6590659,6588620,6590673,5413076,6588629,6590677,6590679,5923033,6586614,6586615,6586616,6586617,6588663,6588664,6586622,6586624,6586625,6586629,6590729,6586635,6586637,6586638,6586640,6586642,6586643,6588692,6586649,6586652,6586653,6586659,6586660,6588715,6586670,6586671,6320436,1089845,6586677,6588729,6586682,6586685,6586689,6586690,6586695,6586697,6590794,6588749,6328654,6588751,6586704,6586705,6590799,6586707,6586709,6586710,6586711,6586712,6586714,6586716,6586718,6588767,6586720,6586721,6105456,1182073,3479935,6588804,6586759,6586763,6586767,6586768,6586769,6586771,6588820,6586773,6586774,6586775,1757592,6586779,6586785,6586788,6586790,6586795,6586797,6586799,6586800,6586808,6588858,6586814,6586823,6588873,1454539,6586829,6588891,6586846,6586853,6586854,6586855,6588904,6588905,6588906,6586859,6586860,6586863,6586868,3701238,6588920,6588921,6586884,6586886,6586888,6588972,6328882,6328884,3480118,5440054,6588984,6328892,6589006,6328911,6589034,5167723,6589036,3480193,6589063,6328968,6328971,6328975,6589071,6589076,6587030,6589078,6589085,6589090,6589119,6589132,6015706,6589146,6589147,6589157,6589162,6589184,6589194,6316824,6589211,6589227,6589229,6589230,6589231,6587191,6589240,6587202,6587214,6587215,6589277,1053534,6587250,6587260,6589315,6589322,6587276,4066197,6587292,6589345,6587301,6587302,6589355,6587319,6587323,6591429,6587335,6587345,6587349,6587356,6587357,6587358,6587360,6587364,6587369,6587370,6587371,6589417,6589422,6587375,6589426,6589430,6587386,4656130,6587410,6587413,6589462,6589463,6587432,6587434,6587460,6587465,1186894,5076048,6587489,6587491,6587507,6329464,6587513,6587514,6587524,6589574,6587539,6589605,6589607,6589610,6589618,6587588,6587597,6589645,6587606,6589656,6587609,6589658,6587615,6587619,6589672,6589682,6587641,6065440,6587686,6587713,6587725,6587732,6587736,6591843,6587752,4070767,6587778,6587780,6110597,6587783,6587785,6587788,6589843,6587795,6587797,6587798,6587799,6587807,6589856,6587809,6589864,6587819,6587822,6587826,6587833,6587839,6587846,6587851,6587856,6587857,6587859,6587860,6589907,6589911,6589937,3280372,6591991,6587907,6589963,4742669,6587919,6589979,6589980,6587934,6587936,6587950,6587963,6587974,6587976,6587977,6588000,6588010,6588035,6588036,6588039,6588049,6588058,6588065,6588066,6588067,6590129,6579893,6588107,6588113,6590167,6588123,6579940,6588135,6588146,6588155,6590205,6588162,4007684,6588167,6588172,6588177,1996563,3837715,6588181,6590230,6590231,6590234,6590235,6590236,6588193,6588217,6590268,6590272,6588225,6590278,6580048,4015954,6580060,6588255,6580067,6590309,6588264,6580077,6580079,6588282,6588290,6121355,6588304,6590366,6590370,6588333,4270005,6590391,6588346,6590401,6590403,6588358,6588360,6588362,6588367,6102992,6588370,4229083,6588381,6588392,6588405,6588408,6588409,6590461',\n",
       " 'created': '2020-09-10T13:21:25.371765-05:00',\n",
       " 'last_updated': '2020-09-10T13:21:25.371793-05:00'}"
      ]
     },
     "execution_count": 38,
     "metadata": {},
     "output_type": "execute_result"
    }
   ],
   "source": [
    "print(\"Importing HERO IDs...\")\n",
    "client.lit.import_hero(assessment_id,title,description,hero_ids)"
   ]
  },
  {
   "cell_type": "markdown",
   "metadata": {},
   "source": [
    "# Map Excel tags to HAWC tags"
   ]
  },
  {
   "cell_type": "markdown",
   "metadata": {},
   "source": [
    "## Excel tags"
   ]
  },
  {
   "cell_type": "code",
   "execution_count": 72,
   "metadata": {},
   "outputs": [
    {
     "name": "stdout",
     "output_type": "stream",
     "text": [
      "Tags in Excel:\n",
      "0                                       TIAB - Excluded\n",
      "1                          TIAB - Supplemental material\n",
      "2             Supplemental Material Type -> Mechanistic\n",
      "3     Supplemental Material Type -> Non-inhalation r...\n",
      "4            Supplemental Material Type -> Case reports\n",
      "5                Supplemental Material Type -> Exposure\n",
      "6                    Supplemental Material Type -> ADME\n",
      "7                 Supplemental Material Type -> Mixture\n",
      "8                                  Full-text - Excluded\n",
      "9                                       TIAB - Included\n",
      "10                    Full-text - Supplemental material\n",
      "11                              Evidence Type -> Animal\n",
      "12       Supplemental Material Type -> No original data\n",
      "13    Supplemental Material Type -> Conference abstr...\n",
      "dtype: object\n"
     ]
    }
   ],
   "source": [
    "excel_tags = excel_df[tag_column].unique()\n",
    "print(\"Tags in Excel:\")\n",
    "print(pd.Series(excel_tags))"
   ]
  },
  {
   "cell_type": "markdown",
   "metadata": {},
   "source": [
    "## HAWC tags"
   ]
  },
  {
   "cell_type": "code",
   "execution_count": 73,
   "metadata": {},
   "outputs": [
    {
     "name": "stdout",
     "output_type": "stream",
     "text": [
      "Tags in HAWC:\n",
      "           id                                        nested_name\n",
      "0   100506391                                          Inclusion\n",
      "1   100506393                             Inclusion|Animal Study\n",
      "2   100507002                              Inclusion|Human Study\n",
      "3   100506395                                          Exclusion\n",
      "4   100506396                                     Exclusion|TIAB\n",
      "5   100506397                                Exclusion|Full-text\n",
      "6   100506987                                       Supplemental\n",
      "7   100506988                           Supplemental|Mechanistic\n",
      "8   100506989                                  Supplemental|ADME\n",
      "9   100506990  Supplemental|Non-inhalation route of administr...\n",
      "10  100506991                              Supplemental|Mixtures\n",
      "11  100506992                              Supplemental|Exposure\n",
      "12  100506993                   Supplemental|Conference abstract\n",
      "13  100506994                          Supplemental|Case reports\n",
      "14  100506995                      Supplemental|No original data\n"
     ]
    }
   ],
   "source": [
    "# Get and print assessment tags\n",
    "assessment_tags = client.lit.tags(assessment_id)\n",
    "print(\"Tags in HAWC:\")\n",
    "print(assessment_tags[[\"id\",\"nested_name\"]])"
   ]
  },
  {
   "cell_type": "markdown",
   "metadata": {},
   "source": [
    "## Map tags"
   ]
  },
  {
   "cell_type": "code",
   "execution_count": 74,
   "metadata": {},
   "outputs": [
    {
     "name": "stdout",
     "output_type": "stream",
     "text": [
      "Map the Excel tags with their matching HAWC tag ID.\n"
     ]
    },
    {
     "name": "stdin",
     "output_type": "stream",
     "text": [
      "TIAB - Excluded 100506396\n"
     ]
    },
    {
     "name": "stdout",
     "output_type": "stream",
     "text": [
      "'TIAB - Excluded' mapped to 'Exclusion|TIAB'\n"
     ]
    },
    {
     "name": "stdin",
     "output_type": "stream",
     "text": [
      "TIAB - Supplemental material \n"
     ]
    },
    {
     "name": "stdout",
     "output_type": "stream",
     "text": [
      "Tag omitted\n"
     ]
    },
    {
     "name": "stdin",
     "output_type": "stream",
     "text": [
      "Supplemental Material Type -> Mechanistic 100506988\n"
     ]
    },
    {
     "name": "stdout",
     "output_type": "stream",
     "text": [
      "'Supplemental Material Type -> Mechanistic' mapped to 'Supplemental|Mechanistic'\n"
     ]
    },
    {
     "name": "stdin",
     "output_type": "stream",
     "text": [
      "Supplemental Material Type -> Non-inhalation route of administration 100506990\n"
     ]
    },
    {
     "name": "stdout",
     "output_type": "stream",
     "text": [
      "'Supplemental Material Type -> Non-inhalation route of administration' mapped to 'Supplemental|Non-inhalation route of administration'\n"
     ]
    },
    {
     "name": "stdin",
     "output_type": "stream",
     "text": [
      "Supplemental Material Type -> Case reports 100506994\n"
     ]
    },
    {
     "name": "stdout",
     "output_type": "stream",
     "text": [
      "'Supplemental Material Type -> Case reports' mapped to 'Supplemental|Case reports'\n"
     ]
    },
    {
     "name": "stdin",
     "output_type": "stream",
     "text": [
      "Supplemental Material Type -> Exposure 100506992\n"
     ]
    },
    {
     "name": "stdout",
     "output_type": "stream",
     "text": [
      "'Supplemental Material Type -> Exposure' mapped to 'Supplemental|Exposure'\n"
     ]
    },
    {
     "name": "stdin",
     "output_type": "stream",
     "text": [
      "Supplemental Material Type -> ADME 100506989\n"
     ]
    },
    {
     "name": "stdout",
     "output_type": "stream",
     "text": [
      "'Supplemental Material Type -> ADME' mapped to 'Supplemental|ADME'\n"
     ]
    },
    {
     "name": "stdin",
     "output_type": "stream",
     "text": [
      "Supplemental Material Type -> Mixture 100506991\n"
     ]
    },
    {
     "name": "stdout",
     "output_type": "stream",
     "text": [
      "'Supplemental Material Type -> Mixture' mapped to 'Supplemental|Mixtures'\n"
     ]
    },
    {
     "name": "stdin",
     "output_type": "stream",
     "text": [
      "Full-text - Excluded 100506397\n"
     ]
    },
    {
     "name": "stdout",
     "output_type": "stream",
     "text": [
      "'Full-text - Excluded' mapped to 'Exclusion|Full-text'\n"
     ]
    },
    {
     "name": "stdin",
     "output_type": "stream",
     "text": [
      "TIAB - Included \n"
     ]
    },
    {
     "name": "stdout",
     "output_type": "stream",
     "text": [
      "Tag omitted\n"
     ]
    },
    {
     "name": "stdin",
     "output_type": "stream",
     "text": [
      "Full-text - Supplemental material \n"
     ]
    },
    {
     "name": "stdout",
     "output_type": "stream",
     "text": [
      "Tag omitted\n"
     ]
    },
    {
     "name": "stdin",
     "output_type": "stream",
     "text": [
      "Evidence Type -> Animal 100506393\n"
     ]
    },
    {
     "name": "stdout",
     "output_type": "stream",
     "text": [
      "'Evidence Type -> Animal' mapped to 'Inclusion|Animal Study'\n"
     ]
    },
    {
     "name": "stdin",
     "output_type": "stream",
     "text": [
      "Supplemental Material Type -> No original data 100506995\n"
     ]
    },
    {
     "name": "stdout",
     "output_type": "stream",
     "text": [
      "'Supplemental Material Type -> No original data' mapped to 'Supplemental|No original data'\n"
     ]
    },
    {
     "name": "stdin",
     "output_type": "stream",
     "text": [
      "Supplemental Material Type -> Conference abstracts 100506993\n"
     ]
    },
    {
     "name": "stdout",
     "output_type": "stream",
     "text": [
      "'Supplemental Material Type -> Conference abstracts' mapped to 'Supplemental|Conference abstract'\n"
     ]
    }
   ],
   "source": [
    "print(\"Map the Excel tags with their matching HAWC tag ID.\")\n",
    "tag_id_mapping = dict()\n",
    "tag_name_mapping = dict()\n",
    "for excel_tag in excel_tags:\n",
    "    value = input(excel_tag)\n",
    "    if value == \"\":\n",
    "        tag_name_mapping[excel_tag] = \"<omitted>\"\n",
    "        print(\"Tag omitted\")\n",
    "        continue\n",
    "    tag_id = int(value)\n",
    "    tag_id_mapping[excel_tag] = tag_id\n",
    "    tag_name_mapping[excel_tag] = assessment_tags[assessment_tags['id']==tag_id].iloc[0]['nested_name']\n",
    "    print(f\"'{excel_tag}' mapped to '{tag_name_mapping[excel_tag]}'\")"
   ]
  },
  {
   "cell_type": "markdown",
   "metadata": {},
   "source": [
    "## Result"
   ]
  },
  {
   "cell_type": "code",
   "execution_count": 75,
   "metadata": {},
   "outputs": [
    {
     "data": {
      "text/html": [
       "<div>\n",
       "<style scoped>\n",
       "    .dataframe tbody tr th:only-of-type {\n",
       "        vertical-align: middle;\n",
       "    }\n",
       "\n",
       "    .dataframe tbody tr th {\n",
       "        vertical-align: top;\n",
       "    }\n",
       "\n",
       "    .dataframe thead th {\n",
       "        text-align: right;\n",
       "    }\n",
       "</style>\n",
       "<table border=\"1\" class=\"dataframe\">\n",
       "  <thead>\n",
       "    <tr style=\"text-align: right;\">\n",
       "      <th></th>\n",
       "      <th>Excel Tag</th>\n",
       "      <th>HAWC Tag</th>\n",
       "    </tr>\n",
       "  </thead>\n",
       "  <tbody>\n",
       "    <tr>\n",
       "      <th>0</th>\n",
       "      <td>TIAB - Excluded</td>\n",
       "      <td>Exclusion|TIAB</td>\n",
       "    </tr>\n",
       "    <tr>\n",
       "      <th>1</th>\n",
       "      <td>TIAB - Supplemental material</td>\n",
       "      <td>&lt;omitted&gt;</td>\n",
       "    </tr>\n",
       "    <tr>\n",
       "      <th>2</th>\n",
       "      <td>Supplemental Material Type -&gt; Mechanistic</td>\n",
       "      <td>Supplemental|Mechanistic</td>\n",
       "    </tr>\n",
       "    <tr>\n",
       "      <th>3</th>\n",
       "      <td>Supplemental Material Type -&gt; Non-inhalation r...</td>\n",
       "      <td>Supplemental|Non-inhalation route of administr...</td>\n",
       "    </tr>\n",
       "    <tr>\n",
       "      <th>4</th>\n",
       "      <td>Supplemental Material Type -&gt; Case reports</td>\n",
       "      <td>Supplemental|Case reports</td>\n",
       "    </tr>\n",
       "    <tr>\n",
       "      <th>5</th>\n",
       "      <td>Supplemental Material Type -&gt; Exposure</td>\n",
       "      <td>Supplemental|Exposure</td>\n",
       "    </tr>\n",
       "    <tr>\n",
       "      <th>6</th>\n",
       "      <td>Supplemental Material Type -&gt; ADME</td>\n",
       "      <td>Supplemental|ADME</td>\n",
       "    </tr>\n",
       "    <tr>\n",
       "      <th>7</th>\n",
       "      <td>Supplemental Material Type -&gt; Mixture</td>\n",
       "      <td>Supplemental|Mixtures</td>\n",
       "    </tr>\n",
       "    <tr>\n",
       "      <th>8</th>\n",
       "      <td>Full-text - Excluded</td>\n",
       "      <td>Exclusion|Full-text</td>\n",
       "    </tr>\n",
       "    <tr>\n",
       "      <th>9</th>\n",
       "      <td>TIAB - Included</td>\n",
       "      <td>&lt;omitted&gt;</td>\n",
       "    </tr>\n",
       "    <tr>\n",
       "      <th>10</th>\n",
       "      <td>Full-text - Supplemental material</td>\n",
       "      <td>&lt;omitted&gt;</td>\n",
       "    </tr>\n",
       "    <tr>\n",
       "      <th>11</th>\n",
       "      <td>Evidence Type -&gt; Animal</td>\n",
       "      <td>Inclusion|Animal Study</td>\n",
       "    </tr>\n",
       "    <tr>\n",
       "      <th>12</th>\n",
       "      <td>Supplemental Material Type -&gt; No original data</td>\n",
       "      <td>Supplemental|No original data</td>\n",
       "    </tr>\n",
       "    <tr>\n",
       "      <th>13</th>\n",
       "      <td>Supplemental Material Type -&gt; Conference abstr...</td>\n",
       "      <td>Supplemental|Conference abstract</td>\n",
       "    </tr>\n",
       "  </tbody>\n",
       "</table>\n",
       "</div>"
      ],
      "text/plain": [
       "                                            Excel Tag  \\\n",
       "0                                     TIAB - Excluded   \n",
       "1                        TIAB - Supplemental material   \n",
       "2           Supplemental Material Type -> Mechanistic   \n",
       "3   Supplemental Material Type -> Non-inhalation r...   \n",
       "4          Supplemental Material Type -> Case reports   \n",
       "5              Supplemental Material Type -> Exposure   \n",
       "6                  Supplemental Material Type -> ADME   \n",
       "7               Supplemental Material Type -> Mixture   \n",
       "8                                Full-text - Excluded   \n",
       "9                                     TIAB - Included   \n",
       "10                  Full-text - Supplemental material   \n",
       "11                            Evidence Type -> Animal   \n",
       "12     Supplemental Material Type -> No original data   \n",
       "13  Supplemental Material Type -> Conference abstr...   \n",
       "\n",
       "                                             HAWC Tag  \n",
       "0                                      Exclusion|TIAB  \n",
       "1                                           <omitted>  \n",
       "2                            Supplemental|Mechanistic  \n",
       "3   Supplemental|Non-inhalation route of administr...  \n",
       "4                           Supplemental|Case reports  \n",
       "5                               Supplemental|Exposure  \n",
       "6                                   Supplemental|ADME  \n",
       "7                               Supplemental|Mixtures  \n",
       "8                                 Exclusion|Full-text  \n",
       "9                                           <omitted>  \n",
       "10                                          <omitted>  \n",
       "11                             Inclusion|Animal Study  \n",
       "12                      Supplemental|No original data  \n",
       "13                   Supplemental|Conference abstract  "
      ]
     },
     "execution_count": 75,
     "metadata": {},
     "output_type": "execute_result"
    }
   ],
   "source": [
    "tag_mapping_df = pd.DataFrame(list(tag_name_mapping.items()),columns=[\"Excel Tag\", \"HAWC Tag\"])\n",
    "tag_mapping_df"
   ]
  },
  {
   "cell_type": "markdown",
   "metadata": {},
   "source": [
    "# Import reference tags"
   ]
  },
  {
   "cell_type": "code",
   "execution_count": 76,
   "metadata": {},
   "outputs": [],
   "source": [
    "hero_tag_df = excel_df.copy()\n",
    "hero_tag_df[tag_column] = hero_tag_df[tag_column].map(tag_id_mapping)\n",
    "hero_tag_df = hero_tag_df[[hero_column,tag_column]].rename(columns={hero_column:'hero_id',tag_column:'tag_id'}).dropna()"
   ]
  },
  {
   "cell_type": "code",
   "execution_count": 77,
   "metadata": {},
   "outputs": [],
   "source": [
    "# Export references ids and corresponding HERO ids for given assessment.\n",
    "ref_to_hero = client.lit.reference_ids(assessment_id)\n",
    "# Create dataframes that have HAWC reference ids with corresponding tag ids\n",
    "ref_tag_df = ref_to_hero.merge(hero_tag_df, on=\"hero_id\")[['reference_id','tag_id']].drop_duplicates()"
   ]
  },
  {
   "cell_type": "code",
   "execution_count": 78,
   "metadata": {},
   "outputs": [
    {
     "data": {
      "text/html": [
       "<div>\n",
       "<style scoped>\n",
       "    .dataframe tbody tr th:only-of-type {\n",
       "        vertical-align: middle;\n",
       "    }\n",
       "\n",
       "    .dataframe tbody tr th {\n",
       "        vertical-align: top;\n",
       "    }\n",
       "\n",
       "    .dataframe thead th {\n",
       "        text-align: right;\n",
       "    }\n",
       "</style>\n",
       "<table border=\"1\" class=\"dataframe\">\n",
       "  <thead>\n",
       "    <tr style=\"text-align: right;\">\n",
       "      <th></th>\n",
       "      <th>reference_id</th>\n",
       "      <th>tag_id</th>\n",
       "    </tr>\n",
       "  </thead>\n",
       "  <tbody>\n",
       "    <tr>\n",
       "      <th>0</th>\n",
       "      <td>101010540</td>\n",
       "      <td>100506396</td>\n",
       "    </tr>\n",
       "    <tr>\n",
       "      <th>1</th>\n",
       "      <td>101010541</td>\n",
       "      <td>100506396</td>\n",
       "    </tr>\n",
       "    <tr>\n",
       "      <th>2</th>\n",
       "      <td>101010542</td>\n",
       "      <td>100506396</td>\n",
       "    </tr>\n",
       "    <tr>\n",
       "      <th>3</th>\n",
       "      <td>101010543</td>\n",
       "      <td>100506988</td>\n",
       "    </tr>\n",
       "    <tr>\n",
       "      <th>4</th>\n",
       "      <td>101010544</td>\n",
       "      <td>100506396</td>\n",
       "    </tr>\n",
       "    <tr>\n",
       "      <th>...</th>\n",
       "      <td>...</td>\n",
       "      <td>...</td>\n",
       "    </tr>\n",
       "    <tr>\n",
       "      <th>392</th>\n",
       "      <td>101010926</td>\n",
       "      <td>100506396</td>\n",
       "    </tr>\n",
       "    <tr>\n",
       "      <th>393</th>\n",
       "      <td>101010927</td>\n",
       "      <td>100506396</td>\n",
       "    </tr>\n",
       "    <tr>\n",
       "      <th>394</th>\n",
       "      <td>101010928</td>\n",
       "      <td>100506396</td>\n",
       "    </tr>\n",
       "    <tr>\n",
       "      <th>395</th>\n",
       "      <td>101010929</td>\n",
       "      <td>100506396</td>\n",
       "    </tr>\n",
       "    <tr>\n",
       "      <th>396</th>\n",
       "      <td>101010930</td>\n",
       "      <td>100506396</td>\n",
       "    </tr>\n",
       "  </tbody>\n",
       "</table>\n",
       "<p>397 rows × 2 columns</p>\n",
       "</div>"
      ],
      "text/plain": [
       "     reference_id     tag_id\n",
       "0       101010540  100506396\n",
       "1       101010541  100506396\n",
       "2       101010542  100506396\n",
       "3       101010543  100506988\n",
       "4       101010544  100506396\n",
       "..            ...        ...\n",
       "392     101010926  100506396\n",
       "393     101010927  100506396\n",
       "394     101010928  100506396\n",
       "395     101010929  100506396\n",
       "396     101010930  100506396\n",
       "\n",
       "[397 rows x 2 columns]"
      ]
     },
     "execution_count": 78,
     "metadata": {},
     "output_type": "execute_result"
    }
   ],
   "source": [
    "# Import the tags\n",
    "# The operation can be either \"append\" or \"replace\"\n",
    "client.lit.import_reference_tags(assessment_id,csv=ref_tag_df.to_csv(index=False),operation=\"append\")"
   ]
  },
  {
   "cell_type": "code",
   "execution_count": null,
   "metadata": {},
   "outputs": [],
   "source": []
  }
 ],
 "metadata": {
  "kernelspec": {
   "display_name": "venv",
   "language": "python",
   "name": "venv"
  },
  "language_info": {
   "codemirror_mode": {
    "name": "ipython",
    "version": 3
   },
   "file_extension": ".py",
   "mimetype": "text/x-python",
   "name": "python",
   "nbconvert_exporter": "python",
   "pygments_lexer": "ipython3",
   "version": "3.6.10"
  }
 },
 "nbformat": 4,
 "nbformat_minor": 4
}
