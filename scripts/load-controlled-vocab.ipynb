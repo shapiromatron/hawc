{
 "cells": [
  {
   "cell_type": "markdown",
   "metadata": {},
   "source": [
    "# Loading EHV controlled vocabulary\n",
    "\n",
    "https://hawcprd.epa.gov/media/attachment/EHV_201005.xlsx\n",
    "\n",
    "Load the current vocabulary, `EHV_201005.xlsx`, into HAWC."
   ]
  },
  {
   "cell_type": "code",
   "execution_count": null,
   "metadata": {},
   "outputs": [],
   "source": [
    "from pathlib import Path\n",
    "import pandas as pd\n",
    "import django"
   ]
  },
  {
   "cell_type": "code",
   "execution_count": null,
   "metadata": {},
   "outputs": [],
   "source": [
    "django.setup()"
   ]
  },
  {
   "cell_type": "code",
   "execution_count": null,
   "metadata": {},
   "outputs": [],
   "source": [
    "from hawc.apps.vocab.models import Term, VocabularyNamespace, VocabularyTermType"
   ]
  },
  {
   "cell_type": "code",
   "execution_count": null,
   "metadata": {},
   "outputs": [],
   "source": [
    "columns = [\n",
    "    \"endpoint-name\",\n",
    "    \"endpoint-system\",\n",
    "    \"endpoint-organ\",\n",
    "    \"endpoint-effect\",\n",
    "    \"endpoint-effect_subtype\",\n",
    "    \"Comment\"\n",
    "]\n",
    "df = pd.read_excel(\n",
    "    Path('~/Desktop/EHV_201005.xlsx').expanduser(), \n",
    "    sheet_name=\"EHV for HAWC 201002\").fillna(\"\")[columns]\n",
    "df.head()"
   ]
  },
  {
   "cell_type": "markdown",
   "metadata": {},
   "source": [
    "The spreadsheet is messy, sometimes there are spaces after terms. We'll cleanup:"
   ]
  },
  {
   "cell_type": "code",
   "execution_count": null,
   "metadata": {},
   "outputs": [],
   "source": [
    "df[\"endpoint-name\"] = df[\"endpoint-name\"].str.strip()\n",
    "df[\"endpoint-system\"] = df[\"endpoint-system\"].str.strip()\n",
    "df[\"endpoint-organ\"] = df[\"endpoint-organ\"].str.strip()\n",
    "df[\"endpoint-effect\"] = df[\"endpoint-effect\"].str.strip()\n",
    "df[\"endpoint-effect_subtype\"] = df[\"endpoint-effect_subtype\"].str.strip()\n",
    "df[\"Comment\"] = df[\"Comment\"].str.strip()"
   ]
  },
  {
   "cell_type": "markdown",
   "metadata": {},
   "source": [
    "## V1 import (not used)\n",
    "\n",
    "This was the first approach, now commented out for saving. This kept the terms unique which is ideal for a term list, but that makes the entitiy mapping much more difficult. The reason is, a particualr `effect` or `effect_subtype` in the context of a given system will have a different annotations applied to it, and this reduction of terms would prevent that distinction.\n",
    "\n",
    "```python\n",
    "# start fresh\n",
    "TermRelation.objects.all().delete()\n",
    "Term.objects.all().delete()\n",
    "\n",
    "# build default lookup map\n",
    "items = {\n",
    "    key: {} for (key, value) in VocabularyTermType.choices()\n",
    "\n",
    "}\n",
    "\n",
    "for system in df['endpoint-system'].unique():\n",
    "    s1 = df.query(f'`endpoint-system`==\"{system}\"')\n",
    "    for organ in s1['endpoint-organ'].unique():\n",
    "        s2 = s1.query(f'`endpoint-organ`==\"{organ}\"')\n",
    "        for effect in s2['endpoint-effect'].unique():\n",
    "            s3 = s2.query(f'`endpoint-effect`==\"{effect}\"')\n",
    "            for effect_subtype in s3['endpoint-effect_subtype'].unique():\n",
    "                s4 = s3.query(f'`endpoint-effect_subtype`==\"{effect_subtype}\"')\n",
    "                for name in s4['endpoint-name'].unique():\n",
    "            \n",
    "                    # system\n",
    "                    if system not in items[VocabularyTermType.system]:\n",
    "                        obj = Term.objects.create(\n",
    "                            namespace=VocabularyNamespace.EHV,\n",
    "                            type=VocabularyTermType.system,\n",
    "                            name=system\n",
    "                        )\n",
    "                        items[VocabularyTermType.system][system] = obj.id\n",
    "                    \n",
    "                    # organ\n",
    "                    if organ not in items[VocabularyTermType.organ]:\n",
    "                        obj = Term.objects.create(\n",
    "                            namespace=VocabularyNamespace.EHV,\n",
    "                            type=VocabularyTermType.organ,\n",
    "                            name=organ\n",
    "                        )\n",
    "                        obj.parents.add(items[VocabularyTermType.system][system])\n",
    "                        items[VocabularyTermType.organ][organ] = obj.id\n",
    "                        \n",
    "                    # effect\n",
    "                    if effect not in items[VocabularyTermType.effect]:\n",
    "                        obj = Term.objects.create(\n",
    "                            namespace=VocabularyNamespace.EHV,\n",
    "                            type=VocabularyTermType.effect,\n",
    "                            name=effect\n",
    "                        )\n",
    "                        obj.parents.add(items[VocabularyTermType.organ][organ])\n",
    "                        items[VocabularyTermType.effect][effect] = obj.id\n",
    "                    \n",
    "                    # effect_subtype\n",
    "                    if effect_subtype not in items[VocabularyTermType.effect_subtype]:\n",
    "                        obj = Term.objects.create(\n",
    "                            namespace=VocabularyNamespace.EHV,\n",
    "                            type=VocabularyTermType.effect_subtype,\n",
    "                            name=effect_subtype\n",
    "                        )\n",
    "                        obj.parents.add(items[VocabularyTermType.effect][effect])\n",
    "                        items[VocabularyTermType.effect_subtype][effect_subtype] = obj.id\n",
    "                    \n",
    "                    # name\n",
    "                    if name not in items[VocabularyTermType.endpoint_name]:\n",
    "                        obj = Term.objects.create(\n",
    "                            namespace=VocabularyNamespace.EHV,\n",
    "                            type=VocabularyTermType.endpoint_name,\n",
    "                            name=name\n",
    "                        )\n",
    "                        obj.parents.add(items[VocabularyTermType.effect_subtype][effect_subtype])\n",
    "                        items[VocabularyTermType.endpoint_name][name] = obj.id\n",
    "Term.objects.count()\n",
    "```"
   ]
  },
  {
   "cell_type": "markdown",
   "metadata": {},
   "source": [
    "## V2 import\n",
    "\n",
    "This creates many more terms and doesn't maintain term uniqueness, but it has the advantage that entities can be associated with a particular term in the context of a system, organ, effect, etc.\n",
    "\n",
    "If after more exploration is done it is determined that this is appropraite, the join-table for parents can be removed and it can be a ForeignKey field instead of a ManyToMany."
   ]
  },
  {
   "cell_type": "code",
   "execution_count": null,
   "metadata": {},
   "outputs": [],
   "source": [
    "# start fresh\n",
    "Term.objects.all().delete()\n",
    "\n",
    "# build default lookup map\n",
    "items = {\n",
    "    key: {} for (key, value) in VocabularyTermType.choices()\n",
    "\n",
    "}\n",
    "\n",
    "for system in df['endpoint-system'].unique():\n",
    "    s1 = df.query(f'`endpoint-system`==\"{system}\"')\n",
    "    for organ in s1['endpoint-organ'].unique():\n",
    "        s2 = s1.query(f'`endpoint-organ`==\"{organ}\"')\n",
    "        for effect in s2['endpoint-effect'].unique():\n",
    "            s3 = s2.query(f'`endpoint-effect`==\"{effect}\"')\n",
    "            for effect_subtype in s3['endpoint-effect_subtype'].unique():\n",
    "                s4 = s3.query(f'`endpoint-effect_subtype`==\"{effect_subtype}\"')\n",
    "                for name in s4['endpoint-name'].unique():\n",
    "                    \n",
    "                    s5 = s4.query(f'`endpoint-name`==\"{name}\"')\n",
    "                    comments = s5['Comment'].unique()\n",
    "\n",
    "                    # system\n",
    "                    system_key = system\n",
    "                    if system_key not in items[VocabularyTermType.system]:\n",
    "                        obj = Term.objects.create(\n",
    "                            namespace=VocabularyNamespace.EHV,\n",
    "                            type=VocabularyTermType.system,\n",
    "                            name=system,\n",
    "                            parent_id=None,\n",
    "                        )\n",
    "                        items[VocabularyTermType.system][system_key] = obj.id\n",
    "\n",
    "                    # organ\n",
    "                    organ_key = (system, organ)\n",
    "                    if organ_key not in items[VocabularyTermType.organ]:\n",
    "                        obj = Term.objects.create(\n",
    "                            namespace=VocabularyNamespace.EHV,\n",
    "                            type=VocabularyTermType.organ,\n",
    "                            name=organ,\n",
    "                            parent_id=items[VocabularyTermType.system][system_key],\n",
    "                        )\n",
    "                        items[VocabularyTermType.organ][organ_key] = obj.id\n",
    "\n",
    "                    # effect\n",
    "                    effect_key = (system, organ, effect)\n",
    "                    if effect_key not in items[VocabularyTermType.effect]:\n",
    "                        obj = Term.objects.create(\n",
    "                            namespace=VocabularyNamespace.EHV,\n",
    "                            type=VocabularyTermType.effect,\n",
    "                            name=effect,\n",
    "                            parent_id=items[VocabularyTermType.organ][organ_key],\n",
    "                        )\n",
    "                        items[VocabularyTermType.effect][effect_key] = obj.id\n",
    "\n",
    "                    # effect_subtype\n",
    "                    effect_subtype_key = (system, organ, effect, effect_subtype)\n",
    "                    if effect_subtype_key not in items[VocabularyTermType.effect_subtype]:\n",
    "                        obj = Term.objects.create(\n",
    "                            namespace=VocabularyNamespace.EHV,\n",
    "                            type=VocabularyTermType.effect_subtype,\n",
    "                            name=effect_subtype,\n",
    "                            parent_id=items[VocabularyTermType.effect][effect_key],\n",
    "                        )\n",
    "                        items[VocabularyTermType.effect_subtype][effect_subtype_key] = obj.id\n",
    "\n",
    "                    # name\n",
    "                    name_key = (system, organ, effect, effect_subtype, name)\n",
    "                    if name_key not in items[VocabularyTermType.endpoint_name]:\n",
    "                        obj = Term.objects.create(\n",
    "                            namespace=VocabularyNamespace.EHV,\n",
    "                            type=VocabularyTermType.endpoint_name,\n",
    "                            name=name,\n",
    "                            parent_id=items[VocabularyTermType.effect_subtype][effect_subtype_key],\n",
    "                            notes=\"\".join(comments)\n",
    "                        )\n",
    "                        items[VocabularyTermType.endpoint_name][name_key] = obj.id\n",
    "                        \n",
    "Term.objects.count()"
   ]
  },
  {
   "cell_type": "markdown",
   "metadata": {},
   "source": [
    "### Get counts on terms created"
   ]
  },
  {
   "cell_type": "code",
   "execution_count": null,
   "metadata": {},
   "outputs": [],
   "source": [
    "for name, item in VocabularyTermType.__members__.items():\n",
    "    term_count = Term.objects.filter(namespace=VocabularyNamespace.EHV, type=item).count()\n",
    "    print(f\"{name:15} {term_count:10}\")"
   ]
  },
  {
   "cell_type": "markdown",
   "metadata": {},
   "source": [
    "### Generate the data fixture\n",
    "\n",
    "Code used to generate `hawc/apps/vocab/fixtures/v1.csv`:"
   ]
  },
  {
   "cell_type": "code",
   "execution_count": null,
   "metadata": {},
   "outputs": [],
   "source": [
    "from io import StringIO\n",
    "from typing import List\n",
    "\n",
    "from django.conf import settings\n",
    "from django.db import connection, migrations\n",
    "\n",
    "CSV_NAME = settings.PROJECT_PATH / \"apps/vocab/fixtures/v1.csv\"\n",
    "\n",
    "def _get_headers(cursor) -> List[str]:\n",
    "    cursor.execute(\"Select * FROM vocab_term LIMIT 0\")\n",
    "    return [desc[0] for desc in cursor.description]\n",
    "\n",
    "with connection.client.connection.cursor() as cursor:\n",
    "    f = StringIO()\n",
    "    headers = _get_headers(cursor)\n",
    "    cursor.copy_to(f, \"vocab_term\", columns=headers)\n",
    "    assert len(f.getvalue()) > 0\n",
    "\n",
    "f.seek(0)\n",
    "CSV_NAME.write_text(f.getvalue())"
   ]
  }
 ],
 "metadata": {
  "kernelspec": {
   "display_name": "Python 3",
   "language": "python",
   "name": "python3"
  },
  "language_info": {
   "codemirror_mode": {
    "name": "ipython",
    "version": 3
   },
   "file_extension": ".py",
   "mimetype": "text/x-python",
   "name": "python",
   "nbconvert_exporter": "python",
   "pygments_lexer": "ipython3",
   "version": "3.6.10"
  }
 },
 "nbformat": 4,
 "nbformat_minor": 4
}
