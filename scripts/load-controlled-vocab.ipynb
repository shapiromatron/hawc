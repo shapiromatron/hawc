{
 "cells": [
  {
   "cell_type": "markdown",
   "metadata": {},
   "source": [
    "# Loading the controlled vocabulary\n",
    "\n",
    "Load the current vocabulary, `HAWC-Ontologies-July2020v2.xlsx`, into HAWC."
   ]
  },
  {
   "cell_type": "code",
   "execution_count": null,
   "metadata": {},
   "outputs": [],
   "source": [
    "from pathlib import Path\n",
    "import pandas as pd\n",
    "import django"
   ]
  },
  {
   "cell_type": "code",
   "execution_count": null,
   "metadata": {},
   "outputs": [],
   "source": [
    "django.setup()"
   ]
  },
  {
   "cell_type": "code",
   "execution_count": null,
   "metadata": {},
   "outputs": [],
   "source": [
    "from hawc.apps.vocab.models import Term, VocabularyNamespace, VocabularyTermType"
   ]
  },
  {
   "cell_type": "code",
   "execution_count": null,
   "metadata": {},
   "outputs": [],
   "source": [
    "columns = [\n",
    "    \"endpoint-name\",\n",
    "    \"endpoint-system\",\n",
    "    \"endpoint-organ\",\n",
    "    \"endpoint-effect\",\n",
    "    \"endpoint-effect_subtype\",\n",
    "    \"Comment\"\n",
    "]\n",
    "df = pd.read_excel(\n",
    "    Path('~/Desktop/HAWC-Ontologies-July2020v2.xlsx').expanduser(), \n",
    "    sheet_name=\"Preferred Terms List-July 2020\").fillna(\"\")[columns]\n",
    "df.head()"
   ]
  },
  {
   "cell_type": "markdown",
   "metadata": {},
   "source": [
    "The spreadsheet is messy, sometimes there are spaces after terms. We'll cleanup:"
   ]
  },
  {
   "cell_type": "code",
   "execution_count": null,
   "metadata": {},
   "outputs": [],
   "source": [
    "df[\"endpoint-name\"] = df[\"endpoint-name\"].str.strip()\n",
    "df[\"endpoint-system\"] = df[\"endpoint-system\"].str.strip()\n",
    "df[\"endpoint-organ\"] = df[\"endpoint-organ\"].str.strip()\n",
    "df[\"endpoint-effect\"] = df[\"endpoint-effect\"].str.strip()\n",
    "df[\"endpoint-effect_subtype\"] = df[\"endpoint-effect_subtype\"].str.strip()"
   ]
  },
  {
   "cell_type": "markdown",
   "metadata": {},
   "source": [
    "## V1 import (not used)\n",
    "\n",
    "This was the first approach, now commented out for saving. This kept the terms unique which is ideal for a term list, but that makes the entitiy mapping much more difficult. The reason is, a particualr `effect` or `effect_subtype` in the context of a given system will have a different annotations applied to it, and this reduction of terms would prevent that distinction.\n",
    "\n",
    "```python\n",
    "# start fresh\n",
    "TermRelation.objects.all().delete()\n",
    "Term.objects.all().delete()\n",
    "\n",
    "# build default lookup map\n",
    "items = {\n",
    "    key: {} for (key, value) in VocabularyTermType.choices()\n",
    "\n",
    "}\n",
    "\n",
    "for system in df['endpoint-system'].unique():\n",
    "    s1 = df.query(f'`endpoint-system`==\"{system}\"')\n",
    "    for organ in s1['endpoint-organ'].unique():\n",
    "        s2 = s1.query(f'`endpoint-organ`==\"{organ}\"')\n",
    "        for effect in s2['endpoint-effect'].unique():\n",
    "            s3 = s2.query(f'`endpoint-effect`==\"{effect}\"')\n",
    "            for effect_subtype in s3['endpoint-effect_subtype'].unique():\n",
    "                s4 = s3.query(f'`endpoint-effect_subtype`==\"{effect_subtype}\"')\n",
    "                for name in s4['endpoint-name'].unique():\n",
    "            \n",
    "                    # system\n",
    "                    if system not in items[VocabularyTermType.system]:\n",
    "                        obj = Term.objects.create(\n",
    "                            namespace=VocabularyNamespace.EHV,\n",
    "                            type=VocabularyTermType.system,\n",
    "                            name=system\n",
    "                        )\n",
    "                        items[VocabularyTermType.system][system] = obj.id\n",
    "                    \n",
    "                    # organ\n",
    "                    if organ not in items[VocabularyTermType.organ]:\n",
    "                        obj = Term.objects.create(\n",
    "                            namespace=VocabularyNamespace.EHV,\n",
    "                            type=VocabularyTermType.organ,\n",
    "                            name=organ\n",
    "                        )\n",
    "                        obj.parents.add(items[VocabularyTermType.system][system])\n",
    "                        items[VocabularyTermType.organ][organ] = obj.id\n",
    "                        \n",
    "                    # effect\n",
    "                    if effect not in items[VocabularyTermType.effect]:\n",
    "                        obj = Term.objects.create(\n",
    "                            namespace=VocabularyNamespace.EHV,\n",
    "                            type=VocabularyTermType.effect,\n",
    "                            name=effect\n",
    "                        )\n",
    "                        obj.parents.add(items[VocabularyTermType.organ][organ])\n",
    "                        items[VocabularyTermType.effect][effect] = obj.id\n",
    "                    \n",
    "                    # effect_subtype\n",
    "                    if effect_subtype not in items[VocabularyTermType.effect_subtype]:\n",
    "                        obj = Term.objects.create(\n",
    "                            namespace=VocabularyNamespace.EHV,\n",
    "                            type=VocabularyTermType.effect_subtype,\n",
    "                            name=effect_subtype\n",
    "                        )\n",
    "                        obj.parents.add(items[VocabularyTermType.effect][effect])\n",
    "                        items[VocabularyTermType.effect_subtype][effect_subtype] = obj.id\n",
    "                    \n",
    "                    # name\n",
    "                    if name not in items[VocabularyTermType.endpoint_name]:\n",
    "                        obj = Term.objects.create(\n",
    "                            namespace=VocabularyNamespace.EHV,\n",
    "                            type=VocabularyTermType.endpoint_name,\n",
    "                            name=name\n",
    "                        )\n",
    "                        obj.parents.add(items[VocabularyTermType.effect_subtype][effect_subtype])\n",
    "                        items[VocabularyTermType.endpoint_name][name] = obj.id\n",
    "```"
   ]
  },
  {
   "cell_type": "code",
   "execution_count": null,
   "metadata": {},
   "outputs": [],
   "source": [
    "Term.objects.count()"
   ]
  },
  {
   "cell_type": "markdown",
   "metadata": {},
   "source": [
    "## V2 import\n",
    "\n",
    "This creates many more terms and doesn't maintain term uniqueness, but it has the advantage that entities can be associated with a particular term in the context of a system, organ, effect, etc.\n",
    "\n",
    "If after more exploration is done it is determined that this is appropraite, the join-table for parents can be removed and it can be a ForeignKey field instead of a ManyToMany."
   ]
  },
  {
   "cell_type": "code",
   "execution_count": null,
   "metadata": {},
   "outputs": [],
   "source": [
    "# start fresh\n",
    "Term.objects.all().delete()\n",
    "\n",
    "# build default lookup map\n",
    "items = {\n",
    "    key: {} for (key, value) in VocabularyTermType.choices()\n",
    "\n",
    "}\n",
    "\n",
    "for system in df['endpoint-system'].unique():\n",
    "    s1 = df.query(f'`endpoint-system`==\"{system}\"')\n",
    "    for organ in s1['endpoint-organ'].unique():\n",
    "        s2 = s1.query(f'`endpoint-organ`==\"{organ}\"')\n",
    "        for effect in s2['endpoint-effect'].unique():\n",
    "            s3 = s2.query(f'`endpoint-effect`==\"{effect}\"')\n",
    "            for effect_subtype in s3['endpoint-effect_subtype'].unique():\n",
    "                s4 = s3.query(f'`endpoint-effect_subtype`==\"{effect_subtype}\"')\n",
    "                for name in s4['endpoint-name'].unique():\n",
    "\n",
    "                    # system\n",
    "                    system_key = system\n",
    "                    if system_key not in items[VocabularyTermType.system]:\n",
    "                        obj = Term.objects.create(\n",
    "                            namespace=VocabularyNamespace.EHV,\n",
    "                            type=VocabularyTermType.system,\n",
    "                            name=system,\n",
    "                            parent_id=None,\n",
    "                        )\n",
    "                        items[VocabularyTermType.system][system_key] = obj.id\n",
    "\n",
    "                    # organ\n",
    "                    organ_key = (system, organ)\n",
    "                    if organ_key not in items[VocabularyTermType.organ]:\n",
    "                        obj = Term.objects.create(\n",
    "                            namespace=VocabularyNamespace.EHV,\n",
    "                            type=VocabularyTermType.organ,\n",
    "                            name=organ,\n",
    "                            parent_id=items[VocabularyTermType.system][system_key],\n",
    "                        )\n",
    "                        items[VocabularyTermType.organ][organ_key] = obj.id\n",
    "\n",
    "                    # effect\n",
    "                    effect_key = (system, organ, effect)\n",
    "                    if effect_key not in items[VocabularyTermType.effect]:\n",
    "                        obj = Term.objects.create(\n",
    "                            namespace=VocabularyNamespace.EHV,\n",
    "                            type=VocabularyTermType.effect,\n",
    "                            name=effect,\n",
    "                            parent_id=items[VocabularyTermType.organ][organ_key],\n",
    "                        )\n",
    "                        items[VocabularyTermType.effect][effect_key] = obj.id\n",
    "\n",
    "                    # effect_subtype\n",
    "                    effect_subtype_key = (system, organ, effect, effect_subtype)\n",
    "                    if effect_subtype_key not in items[VocabularyTermType.effect_subtype]:\n",
    "                        obj = Term.objects.create(\n",
    "                            namespace=VocabularyNamespace.EHV,\n",
    "                            type=VocabularyTermType.effect_subtype,\n",
    "                            name=effect_subtype,\n",
    "                            parent_id=items[VocabularyTermType.effect][effect_key],\n",
    "                        )\n",
    "                        items[VocabularyTermType.effect_subtype][effect_subtype_key] = obj.id\n",
    "\n",
    "                    # name\n",
    "                    name_key = (system, organ, effect, effect_subtype, name)\n",
    "                    if name_key not in items[VocabularyTermType.endpoint_name]:\n",
    "                        obj = Term.objects.create(\n",
    "                            namespace=VocabularyNamespace.EHV,\n",
    "                            type=VocabularyTermType.endpoint_name,\n",
    "                            name=name,\n",
    "                            parent_id=items[VocabularyTermType.effect_subtype][effect_subtype_key],\n",
    "                        )\n",
    "                        items[VocabularyTermType.endpoint_name][name_key] = obj.id\n",
    "                        \n",
    "Term.objects.count()"
   ]
  }
 ],
 "metadata": {
  "kernelspec": {
   "display_name": "Python 3",
   "language": "python",
   "name": "python3"
  },
  "language_info": {
   "codemirror_mode": {
    "name": "ipython",
    "version": 3
   },
   "file_extension": ".py",
   "mimetype": "text/x-python",
   "name": "python",
   "nbconvert_exporter": "python",
   "pygments_lexer": "ipython3",
   "version": "3.6.10"
  }
 },
 "nbformat": 4,
 "nbformat_minor": 4
}
