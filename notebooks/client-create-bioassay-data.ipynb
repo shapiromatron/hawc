{
 "cells": [
  {
   "cell_type": "markdown",
   "metadata": {},
   "source": [
    "# Creating HAWC bioassay data via the HAWC client\n",
    "\n",
    "This notebooks demonstrates using the HAWC client to programmatically create animal bioassay endpoints in HAWC.\n",
    "\n",
    "Make sure the `hawc_client` is installed. If you need to install it:\n",
    "\n",
    "```bash\n",
    "pip install -U hawc_client\n",
    "```\n",
    "\n",
    "Then, we'll create all the components for a assay, from experiment to individual endpoint. This assumes you have write permission and a HAWC study has been created which is ready for extraction."
   ]
  },
  {
   "cell_type": "code",
   "execution_count": null,
   "metadata": {},
   "outputs": [],
   "source": [
    "from getpass import getpass\n",
    "\n",
    "from hawc_client import HawcClient"
   ]
  },
  {
   "cell_type": "markdown",
   "metadata": {},
   "source": [
    "First, setup a HAWC client instance and authenticate with your username and password:"
   ]
  },
  {
   "cell_type": "code",
   "execution_count": null,
   "metadata": {},
   "outputs": [],
   "source": [
    "client = HawcClient('http://127.0.0.1:8000')\n",
    "client.authenticate(email='webmaster@hawcproject.org', password=getpass())"
   ]
  },
  {
   "cell_type": "markdown",
   "metadata": {},
   "source": [
    "## Creating experiments\n",
    "\n",
    "Next, we'll create an experiment. The are a number of options available for metadata to add, and at this point the only way to determine what options are available are by reading the HAWC model source code. Hopefully we'll have useful utilities in the future which can provide more details on the metata. \n",
    "\n",
    "Feel free to [contact us](https://hawcproject.org/contact/) if you get stuck.\n",
    "\n",
    "We'll create an experiment:\n"
   ]
  },
  {
   "cell_type": "code",
   "execution_count": null,
   "metadata": {},
   "outputs": [],
   "source": [
    "data = dict(\n",
    "    study_id=100517534,     \n",
    "    name=\"30 day oral\",     \n",
    "    type=\"St\",\n",
    "    has_multiple_generations=False,\n",
    "    chemical=\"2,3,7,8-Tetrachlorodibenzo-P-dioxin\",\n",
    "    cas=\"1746-01-6\",\n",
    "    chemical_source=\"ABC Inc.\",\n",
    "    purity_available=True,\n",
    "    purity_qualifier=\"≥\",\n",
    "    purity=99.9,\n",
    "    vehicle=\"DMSO\",\n",
    "    guideline_compliance=\"not reported\",\n",
    "    description=\"Deatils here.\"\n",
    ")\n",
    "experiment = client.animal.create_experiment(data)\n",
    "experiment['id']"
   ]
  },
  {
   "cell_type": "markdown",
   "metadata": {},
   "source": [
    "# Creating animal groups and dosing regimes\n",
    "\n",
    "Now that we've created an experiment, we can associate an animal-group and dosing regime with the experiment.\n",
    "\n",
    "In many cases, the animal-groups being observed will have an associated dosing regime applied."
   ]
  },
  {
   "cell_type": "code",
   "execution_count": null,
   "metadata": {},
   "outputs": [],
   "source": [
    "data = dict(\n",
    "    experiment_id=experiment['id'],     \n",
    "    name=\"Female C57BL/6 Mice\",\n",
    "    species=2,\n",
    "    strain=6,\n",
    "    sex=\"F\",\n",
    "    animal_source=\"Charles River\",\n",
    "    lifestage_exposed=\"Adult\",\n",
    "    lifestage_assessed=\"Adult\",\n",
    "    generation=\"\",\n",
    "    comments=\"Detailed comments here\",\n",
    "    diet=\"...\",\n",
    "    dosing_regime=dict(\n",
    "        route_of_exposure= \"OR\",\n",
    "        duration_exposure=30,\n",
    "        duration_exposure_text=\"30 days\",\n",
    "        duration_observation=180,\n",
    "        num_dose_groups=3,\n",
    "        positive_control=True,\n",
    "        negative_control=\"VT\",\n",
    "        description=\"...\",\n",
    "        doses = [\n",
    "            {\"dose_group_id\": 0, \"dose\": 0, \"dose_units_id\": 1},\n",
    "            {\"dose_group_id\": 1, \"dose\": 50, \"dose_units_id\": 1},\n",
    "            {\"dose_group_id\": 2, \"dose\": 100, \"dose_units_id\": 1},\n",
    "            {\"dose_group_id\": 0, \"dose\": 0, \"dose_units_id\": 2},\n",
    "            {\"dose_group_id\": 1, \"dose\": 3.7, \"dose_units_id\": 2},\n",
    "            {\"dose_group_id\": 2, \"dose\": 11.4, \"dose_units_id\": 2},\n",
    "        ],\n",
    "    )\n",
    ")\n",
    "animal_group1 = client.animal.create_animal_group(data)\n",
    "animal_group_id = animal_group['id']\n",
    "dosing_regime_id = animal_group['dosing_regime']['id']"
   ]
  },
  {
   "cell_type": "markdown",
   "metadata": {},
   "source": [
    "However, for developmental/reproductive studies, you can also specify a dosing regime which was applied to another group: "
   ]
  },
  {
   "cell_type": "code",
   "execution_count": null,
   "metadata": {},
   "outputs": [],
   "source": [
    "data = dict(\n",
    "    experiment_id=experiment['id'],     \n",
    "    name=\"F1 Male/Female C57BL/6 Mice\",\n",
    "    species=2,\n",
    "    strain=6,\n",
    "    sex=\"C\",\n",
    "    animal_source=\"Charles River\",\n",
    "    lifestage_exposed=\"Adult\",\n",
    "    lifestage_assessed=\"Adult\",\n",
    "    dosing_regime_id=dosing_regime_id,\n",
    "    generation=\"F1\",\n",
    "    comments=\"Detailed comments here\",\n",
    "    diet=\"...\",\n",
    ")\n",
    "animal_group2 = client.animal.create_animal_group(data)"
   ]
  },
  {
   "cell_type": "markdown",
   "metadata": {},
   "source": [
    "> TODO - add details on how to creating `animal_groups` with `parents` and `siblings` relations"
   ]
  },
  {
   "cell_type": "markdown",
   "metadata": {},
   "source": [
    "## Creating endpoints"
   ]
  },
  {
   "cell_type": "code",
   "execution_count": null,
   "metadata": {},
   "outputs": [],
   "source": []
  }
 ],
 "metadata": {
  "kernelspec": {
   "display_name": "Python 3.6.5 64-bit",
   "language": "python",
   "name": "python36564bit2936414481a34083b6bc3e3e910575da"
  },
  "language_info": {
   "codemirror_mode": {
    "name": "ipython",
    "version": 3
   },
   "file_extension": ".py",
   "mimetype": "text/x-python",
   "name": "python",
   "nbconvert_exporter": "python",
   "pygments_lexer": "ipython3",
   "version": "3.6.10"
  }
 },
 "nbformat": 4,
 "nbformat_minor": 4
}
