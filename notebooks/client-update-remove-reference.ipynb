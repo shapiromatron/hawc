{
 "cells": [
  {
   "cell_type": "markdown",
   "metadata": {},
   "source": [
    "# Updating and deleting individual HAWC references\n",
    "\n",
    "This notebooks demonstrates using the HAWC client to update the fields of and delete individual HAWC references.\n",
    "\n",
    "Make sure the `hawc_client` is installed. If you need to install it:\n",
    "\n",
    "```bash\n",
    "pip install -U hawc_client\n",
    "```\n",
    "\n",
    "Then, we'll create a new import, find our reference instance from that import, make changes to that reference, and then delete that reference, demonstrating these core functionalities. You must have write permissions for this assessment to perform these actions."
   ]
  },
  {
   "cell_type": "code",
   "execution_count": 13,
   "metadata": {},
   "outputs": [],
   "source": [
    "# For prettier displays\n",
    "from IPython.display import display\n",
    "# For prompted password\n",
    "from getpass import getpass\n",
    "# The HAWC client\n",
    "from hawc_client import HawcClient"
   ]
  },
  {
   "cell_type": "markdown",
   "metadata": {},
   "source": [
    "First, setup a HAWC client instance and authenticate with your username and password:"
   ]
  },
  {
   "cell_type": "code",
   "execution_count": 2,
   "metadata": {},
   "outputs": [
    {
     "name": "stdin",
     "output_type": "stream",
     "text": [
      " ········\n"
     ]
    }
   ],
   "source": [
    "client = HawcClient('http://127.0.0.1:8000')\n",
    "client.authenticate(email='webmaster@hawcproject.org', password=getpass())\n",
    "assessment_id = 100500085"
   ]
  },
  {
   "cell_type": "markdown",
   "metadata": {},
   "source": [
    "Next, we will create a new HERO import and find our reference through the imported HERO ID. We will then use that reference for updating and deleting operations."
   ]
  },
  {
   "cell_type": "code",
   "execution_count": 14,
   "metadata": {},
   "outputs": [
    {
     "data": {
      "text/html": [
       "<div>\n",
       "<style scoped>\n",
       "    .dataframe tbody tr th:only-of-type {\n",
       "        vertical-align: middle;\n",
       "    }\n",
       "\n",
       "    .dataframe tbody tr th {\n",
       "        vertical-align: top;\n",
       "    }\n",
       "\n",
       "    .dataframe thead th {\n",
       "        text-align: right;\n",
       "    }\n",
       "</style>\n",
       "<table border=\"1\" class=\"dataframe\">\n",
       "  <thead>\n",
       "    <tr style=\"text-align: right;\">\n",
       "      <th></th>\n",
       "      <th>reference_id</th>\n",
       "      <th>hero_id</th>\n",
       "      <th>pubmed_id</th>\n",
       "    </tr>\n",
       "  </thead>\n",
       "  <tbody>\n",
       "    <tr>\n",
       "      <th>14</th>\n",
       "      <td>100524938</td>\n",
       "      <td>1</td>\n",
       "      <td>None</td>\n",
       "    </tr>\n",
       "  </tbody>\n",
       "</table>\n",
       "</div>"
      ],
      "text/plain": [
       "    reference_id  hero_id pubmed_id\n",
       "14     100524938        1      None"
      ]
     },
     "metadata": {},
     "output_type": "display_data"
    }
   ],
   "source": [
    "response = client.lit.import_hero(assessment_id,title=\"import titles3ddddd\",description=\"import description\",ids=[1])\n",
    "display(response)\n",
    "df = client.lit.reference_ids(assessment_id)\n",
    "record = df.loc[df[\"hero_id\"]==1]\n",
    "display(record)\n",
    "reference_id = record[\"reference_id\"].values[0]"
   ]
  },
  {
   "cell_type": "markdown",
   "metadata": {},
   "source": [
    "## Updating references\n",
    "\n",
    "With a reference ID and named parameters, a reference's fields can be updated. To update reference tags, a parameter `tags` should be passed with a list of tag IDs."
   ]
  },
  {
   "cell_type": "code",
   "execution_count": 7,
   "metadata": {},
   "outputs": [
    {
     "data": {
      "text/html": [
       "<div>\n",
       "<style scoped>\n",
       "    .dataframe tbody tr th:only-of-type {\n",
       "        vertical-align: middle;\n",
       "    }\n",
       "\n",
       "    .dataframe tbody tr th {\n",
       "        vertical-align: top;\n",
       "    }\n",
       "\n",
       "    .dataframe thead th {\n",
       "        text-align: right;\n",
       "    }\n",
       "</style>\n",
       "<table border=\"1\" class=\"dataframe\">\n",
       "  <thead>\n",
       "    <tr style=\"text-align: right;\">\n",
       "      <th></th>\n",
       "      <th>reference_id</th>\n",
       "      <th>tag_id</th>\n",
       "    </tr>\n",
       "  </thead>\n",
       "  <tbody>\n",
       "    <tr>\n",
       "      <th>14</th>\n",
       "      <td>100524937</td>\n",
       "      <td>100502357</td>\n",
       "    </tr>\n",
       "  </tbody>\n",
       "</table>\n",
       "</div>"
      ],
      "text/plain": [
       "    reference_id     tag_id\n",
       "14     100524937  100502357"
      ]
     },
     "execution_count": 7,
     "metadata": {},
     "output_type": "execute_result"
    }
   ],
   "source": [
    "response = client.lit.update_reference(reference_id,title=\"new title\",tags=[100502357])\n",
    "display(response)\n",
    "df = client.lit.reference_tags(assessment_id)\n",
    "record = df.loc[df[\"reference_id\"]==reference_id]\n",
    "display(record)"
   ]
  },
  {
   "cell_type": "markdown",
   "metadata": {},
   "source": [
    "## Deleting references\n",
    "\n",
    "A reference can also be deleted from HAWC. All instances of this reference is removed, including from applicable imports/searches.\n"
   ]
  },
  {
   "cell_type": "code",
   "execution_count": 8,
   "metadata": {},
   "outputs": [
    {
     "data": {
      "text/html": [
       "<div>\n",
       "<style scoped>\n",
       "    .dataframe tbody tr th:only-of-type {\n",
       "        vertical-align: middle;\n",
       "    }\n",
       "\n",
       "    .dataframe tbody tr th {\n",
       "        vertical-align: top;\n",
       "    }\n",
       "\n",
       "    .dataframe thead th {\n",
       "        text-align: right;\n",
       "    }\n",
       "</style>\n",
       "<table border=\"1\" class=\"dataframe\">\n",
       "  <thead>\n",
       "    <tr style=\"text-align: right;\">\n",
       "      <th></th>\n",
       "      <th>reference_id</th>\n",
       "      <th>hero_id</th>\n",
       "      <th>pubmed_id</th>\n",
       "    </tr>\n",
       "  </thead>\n",
       "  <tbody>\n",
       "  </tbody>\n",
       "</table>\n",
       "</div>"
      ],
      "text/plain": [
       "Empty DataFrame\n",
       "Columns: [reference_id, hero_id, pubmed_id]\n",
       "Index: []"
      ]
     },
     "execution_count": 8,
     "metadata": {},
     "output_type": "execute_result"
    }
   ],
   "source": [
    "client.lit.delete_reference(reference_id)\n",
    "df = client.lit.reference_ids(assessment_id)\n",
    "df.loc[df[\"reference_id\"]==reference_id]"
   ]
  }
 ],
 "metadata": {
  "kernelspec": {
   "display_name": "Python (hawc)",
   "language": "python",
   "name": "hawcvenv"
  },
  "language_info": {
   "codemirror_mode": {
    "name": "ipython",
    "version": 3
   },
   "file_extension": ".py",
   "mimetype": "text/x-python",
   "name": "python",
   "nbconvert_exporter": "python",
   "pygments_lexer": "ipython3",
   "version": "3.6.10"
  }
 },
 "nbformat": 4,
 "nbformat_minor": 4
}
