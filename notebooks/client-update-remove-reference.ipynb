{
 "cells": [
  {
   "cell_type": "markdown",
   "metadata": {},
   "source": [
    "# Updating and deleting individual HAWC references\n",
    "\n",
    "This notebooks demonstrates using the HAWC client to update the fields of and delete individual HAWC references.\n",
    "\n",
    "Make sure the `hawc_client` is installed. If you need to install it:\n",
    "\n",
    "```bash\n",
    "pip install -U hawc_client\n",
    "```\n",
    "\n",
    "Then, we'll create a new import, find our reference instance from that import, make changes to that reference, and then delete that reference, demonstrating these core functionalities. You must have write permissions for this assessment to perform these actions."
   ]
  },
  {
   "cell_type": "code",
   "execution_count": null,
   "metadata": {},
   "outputs": [],
   "source": [
    "# For prettier displays\n",
    "from IPython.display import display\n",
    "# For prompted password\n",
    "from getpass import getpass\n",
    "# The HAWC client\n",
    "from hawc_client import HawcClient"
   ]
  },
  {
   "cell_type": "markdown",
   "metadata": {},
   "source": [
    "First, setup a HAWC client instance and authenticate with your username and password:"
   ]
  },
  {
   "cell_type": "code",
   "execution_count": null,
   "metadata": {},
   "outputs": [],
   "source": [
    "client = HawcClient('https://hawcproject.org')\n",
    "client.authenticate(email='webmaster@hawcproject.org', password=getpass())\n",
    "assessment_id = 100500085"
   ]
  },
  {
   "cell_type": "markdown",
   "metadata": {},
   "source": [
    "Next, we will create a new HERO import and find our reference through the imported HERO ID. We will then use that reference for updating and deleting operations."
   ]
  },
  {
   "cell_type": "code",
   "execution_count": null,
   "metadata": {},
   "outputs": [],
   "source": [
    "response = client.lit.import_hero(\n",
    "    assessment_id,\n",
    "    title=\"import title\",\n",
    "    description=\"import description\",\n",
    "    ids=[1]\n",
    ")\n",
    "display(response)\n",
    "df = client.lit.reference_ids(assessment_id)\n",
    "record = df.loc[df[\"hero_id\"]==1]\n",
    "display(record)\n",
    "reference_id = record[\"reference_id\"].values[0]"
   ]
  },
  {
   "cell_type": "markdown",
   "metadata": {},
   "source": [
    "## Updating references\n",
    "\n",
    "With a reference ID and named parameters, a reference's fields can be updated. To update reference tags, a parameter `tags` should be passed with a list of tag IDs."
   ]
  },
  {
   "cell_type": "code",
   "execution_count": null,
   "metadata": {},
   "outputs": [],
   "source": [
    "response = client.lit.update_reference(\n",
    "    reference_id,\n",
    "    title=\"new reference title\",\n",
    "    tags=[100502357]\n",
    ")\n",
    "display(response)\n",
    "df = client.lit.reference_tags(assessment_id)\n",
    "record = df.loc[df[\"reference_id\"]==reference_id]\n",
    "display(record)"
   ]
  },
  {
   "cell_type": "markdown",
   "metadata": {},
   "source": [
    "## Deleting references\n",
    "\n",
    "A reference can also be deleted from HAWC. All instances of this reference is removed, including from applicable imports/searches.\n"
   ]
  },
  {
   "cell_type": "code",
   "execution_count": null,
   "metadata": {},
   "outputs": [],
   "source": [
    "client.lit.delete_reference(reference_id)\n",
    "df = client.lit.reference_ids(assessment_id)\n",
    "record = df.loc[df[\"reference_id\"]==reference_id]\n",
    "display(record)"
   ]
  }
 ],
 "metadata": {
  "kernelspec": {
   "display_name": "Python (hawc)",
   "language": "python",
   "name": "hawcvenv"
  },
  "language_info": {
   "codemirror_mode": {
    "name": "ipython",
    "version": 3
   },
   "file_extension": ".py",
   "mimetype": "text/x-python",
   "name": "python",
   "nbconvert_exporter": "python",
   "pygments_lexer": "ipython3",
   "version": "3.6.10"
  }
 },
 "nbformat": 4,
 "nbformat_minor": 4
}
